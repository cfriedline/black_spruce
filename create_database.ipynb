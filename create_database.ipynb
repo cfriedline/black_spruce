{
 "cells": [
  {
   "cell_type": "code",
   "execution_count": "0",
   "metadata": {
    "collapsed": false
   },
   "outputs": [],
   "source": [
    "import sqlite3"
   ]
  },
  {
   "cell_type": "code",
   "execution_count": "0",
   "metadata": {
    "collapsed": false
   },
   "outputs": [],
   "source": [
    "conn  = sqlite3.connect(\"/home/cfriedline/gpfs/projects/black_spruce/black_spruce.sqlite\")\n",
    "c = conn.cursor()"
   ]
  },
  {
   "cell_type": "raw",
   "metadata": {},
   "source": [
    "c.execute('''\n",
    "drop table if exists sample\n",
    "''')\n",
    "c.execute('''\n",
    "drop table if exists unigene\n",
    "''')\n",
    "c.execute('''\n",
    "drop table if exists unigene_sample\n",
    "''')\n",
    "c.execute('''\n",
    "drop table if exists go\n",
    "''')\n",
    "c.execute('''\n",
    "drop table if exists unigene_go\n",
    "''')\n",
    "c.execute('''\n",
    "drop table if exists sample_stats\n",
    "''')\n",
    "c.execute('''\n",
    "drop table if exists unigene_blast\n",
    "''')\n",
    "c.execute('''\n",
    "drop table if exists go\n",
    "''')"
   ]
  },
  {
   "cell_type": "code",
   "execution_count": "0",
   "metadata": {
    "collapsed": false
   },
   "outputs": [],
   "source": [
    "c.execute('''\n",
    "create table sample (\n",
    "sample_id text primary key, \n",
    "tissue text not null,\n",
    "raw_reads int,\n",
    "phred_reads int,\n",
    "length_reads int,\n",
    "seqclean_reads int)\n",
    "''')\n",
    "\n",
    "c.execute('''\n",
    "create table unigene (\n",
    "unigene_id text primary key,\n",
    "seq varchar(1000),\n",
    "length int,\n",
    "dge bool,\n",
    "dge_bh bool,\n",
    "dge_tissue\n",
    ")\n",
    "''')\n",
    "\n",
    "c.execute('''\n",
    "create table unigene_sample (\n",
    "unigene_id text,\n",
    "sample_id text,\n",
    "assembled_reads int,\n",
    "mapped_reads real,\n",
    "foreign key(unigene_id) references unigene(unigene_id),\n",
    "foreign key(sample_id) references sample(sample_id),\n",
    "primary key(unigene_id, sample_id)\n",
    ")\n",
    "''')\n",
    "\n",
    "c.execute('''\n",
    "create table unigene_go (\n",
    "unigene_id text,\n",
    "go_id text,\n",
    "primary key(unigene_id, go_id),\n",
    "foreign key(unigene_id) references unigene(unigene_id)\n",
    ")\n",
    "''')\n",
    "\n",
    "c.execute('''\n",
    "create table sample_stats (\n",
    "sample_id text,\n",
    "key text,\n",
    "len_mean real,\n",
    "len_sd real,\n",
    "len_min int,\n",
    "len_max int,\n",
    "foreign key (sample_id) references sample(sample_id),\n",
    "primary key(sample_id, key)\n",
    ")\n",
    "''')\n",
    "\n",
    "c.execute('''\n",
    "create table unigene_blast (\n",
    "unigene_id text,\n",
    "desc text,\n",
    "count int,\n",
    "primary key (unigene_id, desc),\n",
    "foreign key (unigene_id) references unigene(unigene_id)\n",
    ")\n",
    "''')\n",
    "\n",
    "c.execute('''\n",
    "create table go (\n",
    "go_id text,\n",
    "tissue text,\n",
    "ontology text,\n",
    "term text,\n",
    "annotated int,\n",
    "significant int,\n",
    "expected int,\n",
    "p real, \n",
    "bh bool,\n",
    "primary key (go_id, tissue, ontology)\n",
    ")\n",
    "''')\n",
    "\n",
    "c.execute('''\n",
    "create table unigene_anno (\n",
    "unigene_id text,\n",
    "anno text,\n",
    "ontology text,\n",
    "count int,\n",
    "primary key (unigene_id, anno, ontology)\n",
    ")\n",
    "''')"
   ]
  },
  {
   "cell_type": "code",
   "execution_count": "0",
   "metadata": {
    "collapsed": false
   },
   "outputs": [],
   "source": [
    "c.close()"
   ]
  },
  {
   "cell_type": "code",
   "execution_count": "0",
   "metadata": {
    "collapsed": false
   },
   "outputs": [],
   "source": [
    "conn.close()"
   ]
  },
  {
   "cell_type": "code",
   "execution_count": "0",
   "metadata": {
    "collapsed": false
   },
   "outputs": [],
   "source": []
  }
 ],
 "metadata": {
  "kernelspec": {
   "display_name": "Python 2",
   "language": "python",
   "name": "python2"
  },
  "language_info": {
   "codemirror_mode": {
    "name": "ipython",
    "version": 2
   },
   "file_extension": ".py",
   "mimetype": "text/x-python",
   "name": "python",
   "nbconvert_exporter": "python",
   "pygments_lexer": "ipython2",
   "version": "2.7.9"
  }
 },
 "nbformat": 4,
 "nbformat_minor": 0
}