{
 "metadata": {
  "name": "",
  "signature": "sha256:789835f5cac2e761c535b0a05b8ef38b18b8cf84e9c63719670c960ba97a10e3"
 },
 "nbformat": 3,
 "nbformat_minor": 0,
 "worksheets": [
  {
   "cells": [
    {
     "cell_type": "code",
     "collapsed": false,
     "input": [
      "import sqlite3"
     ],
     "language": "python",
     "metadata": {},
     "outputs": [],
     "prompt_number": ""
    },
    {
     "cell_type": "code",
     "collapsed": false,
     "input": [
      "conn  = sqlite3.connect(\"black_spruce.sqlite\")\n",
      "c = conn.cursor()"
     ],
     "language": "python",
     "metadata": {},
     "outputs": [],
     "prompt_number": ""
    },
    {
     "cell_type": "code",
     "collapsed": false,
     "input": [
      "c.execute('''\n",
      "drop table if exists sample\n",
      "''')\n",
      "c.execute('''\n",
      "drop table if exists unigene\n",
      "''')\n",
      "c.execute('''\n",
      "drop table if exists unigene_sample\n",
      "''')\n",
      "c.execute('''\n",
      "drop table if exists go\n",
      "''')\n",
      "c.execute('''\n",
      "drop table if exists unigene_go\n",
      "''')\n",
      "\n",
      "c.execute('''\n",
      "drop table if exists sample_stats\n",
      "''')"
     ],
     "language": "python",
     "metadata": {},
     "outputs": [],
     "prompt_number": ""
    },
    {
     "cell_type": "code",
     "collapsed": false,
     "input": [
      "c.execute('''\n",
      "create table sample (\n",
      "sample_id text primary key, \n",
      "tissue text not null,\n",
      "raw_reads int,\n",
      "phred_reads int,\n",
      "length_reads int,\n",
      "seqclean_reads int)\n",
      "''')\n",
      "\n",
      "c.execute('''\n",
      "create table unigene (\n",
      "unigene_id text primary key,\n",
      "seq varchar(1000),\n",
      "length int\n",
      ")\n",
      "''')\n",
      "\n",
      "c.execute('''\n",
      "create table unigene_sample (\n",
      "unigene_id text,\n",
      "sample_id text,\n",
      "num_reads int,\n",
      "foreign key(unigene_id) references unigene(unigene_id),\n",
      "foreign key(sample_id) references sample(sample_id),\n",
      "primary key(unigene_id, sample_id)\n",
      ")\n",
      "''')\n",
      "\n",
      "c.execute('''\n",
      "create table unigene_go (\n",
      "unigene_id text,\n",
      "go_id text,\n",
      "primary key(unigene_id, go_id),\n",
      "foreign key(unigene_id) references assembly(unigene_id)\n",
      ")\n",
      "''')\n",
      "\n",
      "c.execute('''\n",
      "create table sample_stats (\n",
      "sample_id text,\n",
      "key text,\n",
      "len_mean real,\n",
      "len_sd real,\n",
      "len_min int,\n",
      "len_max int,\n",
      "foreign key (sample_id) references sample(sample_id),\n",
      "primary key(sample_id, key)\n",
      ")\n",
      "''')"
     ],
     "language": "python",
     "metadata": {},
     "outputs": [],
     "prompt_number": ""
    },
    {
     "cell_type": "code",
     "collapsed": false,
     "input": [
      "c.close()"
     ],
     "language": "python",
     "metadata": {},
     "outputs": [],
     "prompt_number": ""
    },
    {
     "cell_type": "code",
     "collapsed": false,
     "input": [],
     "language": "python",
     "metadata": {},
     "outputs": []
    }
   ],
   "metadata": {}
  }
 ]
}