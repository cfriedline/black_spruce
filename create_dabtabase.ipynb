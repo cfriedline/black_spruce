{
 "metadata": {
  "name": "",
  "signature": "sha256:df8030da27ce9e248bf4091275445328d9dd81d4ccccfa70c438c446a1997e63"
 },
 "nbformat": 3,
 "nbformat_minor": 0,
 "worksheets": [
  {
   "cells": [
    {
     "cell_type": "code",
     "collapsed": false,
     "input": [
      "import sqlite3"
     ],
     "language": "python",
     "metadata": {},
     "outputs": [],
     "prompt_number": ""
    },
    {
     "cell_type": "code",
     "collapsed": false,
     "input": [
      "conn  = sqlite3.connect(\"black_spruce.sqlite\")\n",
      "c = conn.cursor()"
     ],
     "language": "python",
     "metadata": {},
     "outputs": [],
     "prompt_number": ""
    },
    {
     "cell_type": "code",
     "collapsed": false,
     "input": [
      "c.execute('''\n",
      "drop table if exists sample\n",
      "''')\n",
      "c.execute('''\n",
      "drop table if exists unigene\n",
      "''')\n",
      "c.execute('''\n",
      "drop table if exists unigene_sample\n",
      "''')\n",
      "c.execute('''\n",
      "drop table if exists go\n",
      "''')\n",
      "c.execute('''\n",
      "drop table if exists unigene_go\n",
      "''')"
     ],
     "language": "python",
     "metadata": {},
     "outputs": [],
     "prompt_number": ""
    },
    {
     "cell_type": "code",
     "collapsed": false,
     "input": [
      "c.execute('''\n",
      "create table sample (\n",
      "sample_id text primary key,\n",
      "tissue text not null)\n",
      "''')\n",
      "\n",
      "c.execute('''\n",
      "create table unigene (\n",
      "unigene_id text primary key,\n",
      "seq text\n",
      ")\n",
      "''')\n",
      "\n",
      "c.execute('''\n",
      "create table unigene_sample (\n",
      "unigene_id text,\n",
      "sample_id text,\n",
      "num_reads int,\n",
      "foreign key(unigene_id) references unigene(unigene_id),\n",
      "foreign key(sample_id) references sample(sample_id),\n",
      "primary key(unigene_id, sample_id)\n",
      ")\n",
      "''')\n",
      "\n",
      "c.execute('''\n",
      "create table go (\n",
      "go_id text,\n",
      "ontology text,\n",
      "go_desc text,\n",
      "primary key(go_id, ontology)\n",
      ")\n",
      "''')\n",
      "\n",
      "c.execute('''\n",
      "create table unigene_go (\n",
      "unigene_id text,\n",
      "go_id text,\n",
      "ontology text,\n",
      "primary key(unigene_id, go_id),\n",
      "foreign key(unigene_id) references assembly(unigene_id),\n",
      "foreign key(go_id) references go(go_id)\n",
      ")\n",
      "''')"
     ],
     "language": "python",
     "metadata": {},
     "outputs": [],
     "prompt_number": ""
    },
    {
     "cell_type": "code",
     "collapsed": false,
     "input": [
      "c.close()"
     ],
     "language": "python",
     "metadata": {},
     "outputs": [],
     "prompt_number": ""
    },
    {
     "cell_type": "code",
     "collapsed": false,
     "input": [],
     "language": "python",
     "metadata": {},
     "outputs": []
    }
   ],
   "metadata": {}
  }
 ]
}