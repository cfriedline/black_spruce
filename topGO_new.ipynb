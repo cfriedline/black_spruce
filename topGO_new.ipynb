{
 "cells": [
  {
   "cell_type": "code",
   "execution_count": "0",
   "metadata": {
    "collapsed": true
   },
   "outputs": [],
   "source": [
    "import os\n",
    "from Bio import SeqIO\n",
    "import pandas as pd\n",
    "import numpy as np\n",
    "from statsmodels.sandbox.stats.multicomp import multipletests\n",
    "import sys\n",
    "import seaborn as sns\n",
    "import matplotlib.pyplot as plt\n",
    "%matplotlib inline"
   ]
  },
  {
   "cell_type": "code",
   "execution_count": "0",
   "metadata": {
    "collapsed": false
   },
   "outputs": [],
   "source": [
    "os.environ['R_HOME'] = \"/home/cfriedline/R3/lib64/R/\"\n",
    "import rpy2.ipython\n",
    "import rpy2.robjects as robjects\n",
    "%load_ext rpy2.ipython\n",
    "r = robjects.r\n",
    "ri2py = robjects.conversion.ri2py"
   ]
  },
  {
   "cell_type": "code",
   "execution_count": "0",
   "metadata": {
    "collapsed": false
   },
   "outputs": [],
   "source": [
    "%%R\n",
    "library(topGO)\n",
    "library(qvalue)"
   ]
  },
  {
   "cell_type": "code",
   "execution_count": "0",
   "metadata": {
    "collapsed": false
   },
   "outputs": [],
   "source": [
    "cd ~/g/projects/black_spruce_new/"
   ]
  },
  {
   "cell_type": "code",
   "execution_count": "0",
   "metadata": {
    "collapsed": false
   },
   "outputs": [],
   "source": [
    "%%R\n",
    "load(\"topgo_input.Rdata\")"
   ]
  },
  {
   "cell_type": "code",
   "execution_count": "0",
   "metadata": {
    "collapsed": false
   },
   "outputs": [],
   "source": [
    "%%R\n",
    "library(topGO)\n",
    "gene_names = rownames(full_with_go)\n",
    "cambium_interesting = rownames(dge_C)\n",
    "needle_interesting = rownames(dge_N)\n",
    "gene_id_2go  = readMappings(file=\"go_mappings.txt\")\n",
    "interesting = list()\n",
    "interesting$cambium = cambium_interesting\n",
    "interesting$needle = needle_interesting\n",
    "godata = list()\n",
    "gentables = list()\n",
    "gentables_bh = list()\n",
    "gentables_qval = list()\n",
    "onts = c(\"BP\",\"CC\", \"MF\")\n",
    "sigs = list()\n",
    "descriptions = list()\n",
    "for (i in 1:length(onts)) {\n",
    "    for (j in 1:length(interesting)) {\n",
    "        interest = interesting[[j]]\n",
    "        gene_list <- factor(as.integer(gene_names %in% interest))\n",
    "        names(gene_list) <- gene_names\n",
    "        description=paste(names(interesting)[j], onts[i], sep=\"-\")\n",
    "        descriptions = append(descriptions, description)\n",
    "        GOdata = new(\"topGOdata\",\n",
    "                     description=description,\n",
    "                     ontology = onts[i], \n",
    "                     allGenes = gene_list, \n",
    "                     annot = annFUN.gene2GO, \n",
    "                     gene2GO = gene_id_2go,\n",
    "                     nodeSize=2)\n",
    "        print(GOdata)\n",
    "        godata = append(godata, GOdata)\n",
    "        classicFisher = runTest(GOdata, algorithm = \"classic\", statistic = \"fisher\")\n",
    "        weight01Fisher = runTest(GOdata, algorithm = \"weight01\", statistic = \"fisher\")\n",
    "        sigs = append(sigs, classicFisher)\n",
    "        printGraph(GOdata, \n",
    "                   classicFisher, \n",
    "                   firstSigNodes = 2, \n",
    "                   fn.prefix = paste(\"tGO\", \"for\", description(GOdata)), \n",
    "                   #fn.prefix = paste(\"tGOslim\", \"for\", description(GOdata)), \n",
    "                   useInfo = \"all\")\n",
    "        \n",
    "        gt = GenTable(GOdata, \n",
    "                      classicFisher=classicFisher, \n",
    "                      weight01Fisher=weight01Fisher, \n",
    "                      topNodes=length(classicFisher@score), \n",
    "                      orderBy=\"classicFisher\", numChar=1000)\n",
    "        gentables = append(gentables, list(gt))\n",
    "        \n",
    "        fisher_p = as.numeric(gt[,\"classicFisher\"])\n",
    "        \n",
    "        gt.bh = gt[which(p.adjust(fisher_p,method=\"BH\")<=0.05),]\n",
    "        \n",
    "        #print(qvalue(fisher_p))\n",
    "    \n",
    "        \n",
    "        gt.qval = gt[which(qvalue(fisher_p)$qvalues<=0.05),]\n",
    "        gentables_bh = append(gentables_bh, list(gt.bh))\n",
    "        gentables_qval = append(gentables_qval, list(gt.qval))\n",
    "        write.table(gt, file=paste(description(GOdata), \".txt\", sep=\"\"), row.names=F)\n",
    "        write.table(gt.bh, file=paste(description(GOdata), \"_bh.txt\", sep=\"\"), row.names=F)\n",
    "        write.table(gt.qval, file=paste(description(GOdata), \"_qval.txt\", sep=\"\"), row.names=F)  \n",
    "    }\n",
    "}\n",
    "save.image(\"topgo.Rdata\")"
   ]
  },
  {
   "cell_type": "code",
   "execution_count": "0",
   "metadata": {
    "collapsed": true
   },
   "outputs": [],
   "source": []
  }
 ],
 "metadata": {
  "kernelspec": {
   "display_name": "Python 2",
   "language": "python",
   "name": "python2"
  },
  "language_info": {
   "codemirror_mode": {
    "name": "ipython",
    "version": 2
   },
   "file_extension": ".py",
   "mimetype": "text/x-python",
   "name": "python",
   "nbconvert_exporter": "python",
   "pygments_lexer": "ipython2",
   "version": "2.7.10"
  }
 },
 "nbformat": 4,
 "nbformat_minor": 0
}