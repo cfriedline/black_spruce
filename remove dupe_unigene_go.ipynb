{
 "cells": [
  {
   "cell_type": "markdown",
   "metadata": {},
   "source": [
    "This is necessary because when the unigene_go table was initially created, the \n",
    "FK constrained on the unigene_id pointed to the incorrect table and thus \n",
    "was not enforced.  This code removes the duplicates and writes a fixed file\n",
    "to be imported back into the properly created unigene_go table"
   ]
  },
  {
   "cell_type": "code",
   "execution_count": "0",
   "metadata": {
    "collapsed": false
   },
   "outputs": [],
   "source": [
    "import pandas as pd"
   ]
  },
  {
   "cell_type": "code",
   "execution_count": "0",
   "metadata": {
    "collapsed": false
   },
   "outputs": [],
   "source": [
    "df = pd.read_csv(\"/Users/chris/unigene_go.csv\")"
   ]
  },
  {
   "cell_type": "code",
   "execution_count": "0",
   "metadata": {
    "collapsed": false
   },
   "outputs": [],
   "source": [
    "d = {}\n",
    "for x in df.index:\n",
    "    u = df.ix[x,'unigene_id']\n",
    "    g = df.ix[x, 'go_id']\n",
    "    if not u in d:\n",
    "        d[u] = set()\n",
    "    d[u].add(g)\n",
    "        "
   ]
  },
  {
   "cell_type": "code",
   "execution_count": "0",
   "metadata": {
    "collapsed": false
   },
   "outputs": [],
   "source": [
    "with open(\"/Users/chris/unigene_go_fixed.csv\", \"w\") as o:\n",
    "    for k, v_set in d.items():\n",
    "        for elem in sorted(v_set):\n",
    "            o.write(\"%s\\t%s\\n\" % (k, elem))"
   ]
  },
  {
   "cell_type": "code",
   "execution_count": "0",
   "metadata": {
    "collapsed": false
   },
   "outputs": [],
   "source": [
    "\""
   ]
  }
 ],
 "metadata": {
  "kernelspec": {
   "display_name": "Python 2",
   "language": "python",
   "name": "python2"
  },
  "language_info": {
   "codemirror_mode": {
    "name": "ipython",
    "version": 2
   },
   "file_extension": ".py",
   "mimetype": "text/x-python",
   "name": "python",
   "nbconvert_exporter": "python",
   "pygments_lexer": "ipython2",
   "version": "2.7.9"
  }
 },
 "nbformat": 4,
 "nbformat_minor": 0
}