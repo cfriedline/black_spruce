{
 "metadata": {
  "name": "",
  "signature": "sha256:244e49be969a53e70e136e54da029be97db02bd353e2cdfdbd67c3af752008b5"
 },
 "nbformat": 3,
 "nbformat_minor": 0,
 "worksheets": [
  {
   "cells": [
    {
     "cell_type": "markdown",
     "metadata": {},
     "source": [
      "This is necessary because when the unigene_go table was initially created, the \n",
      "FK constrained on the unigene_id pointed to the incorrect table and thus \n",
      "was not enforced.  This code removes the duplicates and writes a fixed file\n",
      "to be imported back into the properly created unigene_go table"
     ]
    },
    {
     "cell_type": "code",
     "collapsed": false,
     "input": [
      "import pandas as pd"
     ],
     "language": "python",
     "metadata": {},
     "outputs": [],
     "prompt_number": ""
    },
    {
     "cell_type": "code",
     "collapsed": false,
     "input": [
      "df = pd.read_csv(\"/Users/chris/unigene_go.csv\")"
     ],
     "language": "python",
     "metadata": {},
     "outputs": [],
     "prompt_number": ""
    },
    {
     "cell_type": "code",
     "collapsed": false,
     "input": [
      "d = {}\n",
      "for x in df.index:\n",
      "    u = df.ix[x,'unigene_id']\n",
      "    g = df.ix[x, 'go_id']\n",
      "    if not u in d:\n",
      "        d[u] = set()\n",
      "    d[u].add(g)\n",
      "        "
     ],
     "language": "python",
     "metadata": {},
     "outputs": [],
     "prompt_number": ""
    },
    {
     "cell_type": "code",
     "collapsed": false,
     "input": [
      "with open(\"/Users/chris/unigene_go_fixed.csv\", \"w\") as o:\n",
      "    for k, v_set in d.items():\n",
      "        for elem in sorted(v_set):\n",
      "            o.write(\"%s\\t%s\\n\" % (k, elem))"
     ],
     "language": "python",
     "metadata": {},
     "outputs": [],
     "prompt_number": ""
    },
    {
     "cell_type": "code",
     "collapsed": false,
     "input": [
      "\""
     ],
     "language": "python",
     "metadata": {},
     "outputs": []
    }
   ],
   "metadata": {}
  }
 ]
}