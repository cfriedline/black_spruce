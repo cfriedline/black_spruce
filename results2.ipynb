{
 "cells": [
  {
   "cell_type": "code",
   "execution_count": "0",
   "metadata": {
    "collapsed": false
   },
   "outputs": [],
   "source": [
    "import pandas as pd\n",
    "import rpy2.robjects as robjects\n",
    "%matplotlib inline\n",
    "%load_ext rpy2.ipython"
   ]
  },
  {
   "cell_type": "code",
   "execution_count": "0",
   "metadata": {
    "collapsed": false
   },
   "outputs": [],
   "source": [
    "cd ~/g/projects/black_spruce/"
   ]
  },
  {
   "cell_type": "code",
   "execution_count": "0",
   "metadata": {
    "collapsed": false
   },
   "outputs": [],
   "source": [
    "counts = \"seqclean/all_ests.fa.clean_output/contig_member.counts\""
   ]
  },
  {
   "cell_type": "code",
   "execution_count": "0",
   "metadata": {
    "collapsed": false
   },
   "outputs": [],
   "source": [
    "count_df = pd.read_csv(counts, sep=\"\\t\", index_col=0)\n",
    "count_df.head()"
   ]
  },
  {
   "cell_type": "code",
   "execution_count": "0",
   "metadata": {
    "collapsed": true
   },
   "outputs": [],
   "source": [
    "count_df = count_df.assign(C=lambda x: x.P32C + x.P40C)\n",
    "count_df = count_df.assign(N=lambda x: x.P32N + x.P40N)"
   ]
  },
  {
   "cell_type": "code",
   "execution_count": "0",
   "metadata": {
    "collapsed": false
   },
   "outputs": [],
   "source": [
    "count_df.head()"
   ]
  },
  {
   "cell_type": "code",
   "execution_count": "0",
   "metadata": {
    "collapsed": false
   },
   "outputs": [],
   "source": [
    "!find . -type d"
   ]
  },
  {
   "cell_type": "code",
   "execution_count": "0",
   "metadata": {
    "collapsed": true
   },
   "outputs": [],
   "source": [
    "raw_dirs = [\"im_bscp32C\", \"im_bscp32N\", \"BSCP40C\", \"BSCP40N/\"]"
   ]
  },
  {
   "cell_type": "code",
   "execution_count": "0",
   "metadata": {
    "collapsed": false
   },
   "outputs": [],
   "source": [
    "for d in raw_dirs:\n",
    "    scf = !ls $d | grep 'scf'\n",
    "    print d, len(scf)\n",
    "    "
   ]
  },
  {
   "cell_type": "code",
   "execution_count": "0",
   "metadata": {
    "collapsed": false
   },
   "outputs": [],
   "source": [
    "!grep -c \">\" seqclean/all_ests.fa"
   ]
  },
  {
   "cell_type": "code",
   "execution_count": "0",
   "metadata": {
    "collapsed": false
   },
   "outputs": [],
   "source": [
    "!grep -c \">\" seqclean/all_ests.fa.clean"
   ]
  },
  {
   "cell_type": "markdown",
   "metadata": {},
   "source": [
    "##Count singletons in unigenes"
   ]
  },
  {
   "cell_type": "code",
   "execution_count": "0",
   "metadata": {
    "collapsed": false,
    "scrolled": true
   },
   "outputs": [],
   "source": [
    "singleton_counts = {}\n",
    "for line in open(\"seqclean/all_ests.fa.clean_output/contig_member\"):\n",
    "    line = line.strip().split(\"\\t\")\n",
    "    ests = line[1:]\n",
    "    print ests\n",
    "    if len(ests) == 1:\n",
    "        sample = ests[0].split(\".\")[0]\n",
    "        if not sample in singleton_counts:\n",
    "            singleton_counts[sample] = 0\n",
    "        singleton_counts[sample] += 1\n",
    "singleton_counts"
   ]
  },
  {
   "cell_type": "code",
   "execution_count": "0",
   "metadata": {
    "collapsed": true
   },
   "outputs": [],
   "source": [
    "from Bio import SeqIO"
   ]
  },
  {
   "cell_type": "markdown",
   "metadata": {},
   "source": [
    "##Get read length distribution"
   ]
  },
  {
   "cell_type": "code",
   "execution_count": "0",
   "metadata": {
    "collapsed": false
   },
   "outputs": [],
   "source": [
    "read_lengths = {}\n",
    "for read in SeqIO.parse(\"seqclean/all_ests.fa.clean\", \"fasta\"):\n",
    "    sample = read.id.split(\".\")[0]\n",
    "    if not sample in read_lengths:\n",
    "        read_lengths[sample] = []\n",
    "    read_lengths[sample].append(len(read))"
   ]
  },
  {
   "cell_type": "code",
   "execution_count": "0",
   "metadata": {
    "collapsed": false
   },
   "outputs": [],
   "source": [
    "c_lens = []\n",
    "n_lens = []\n",
    "for r, d in read_lengths.items():\n",
    "    print r, len(d), pd.Series(d).describe()\n",
    "    ro.globalenv[r] = d\n",
    "    if \"C\" in r:\n",
    "        c_lens.extend(d)\n",
    "    else:\n",
    "        n_lens.extend(d)"
   ]
  },
  {
   "cell_type": "code",
   "execution_count": "0",
   "metadata": {
    "collapsed": false
   },
   "outputs": [],
   "source": [
    "%R -i c_lens -i n_lens"
   ]
  },
  {
   "cell_type": "code",
   "execution_count": "0",
   "metadata": {
    "collapsed": true
   },
   "outputs": [],
   "source": [
    "%%R\n",
    "t.test(c_lens, n_lens)"
   ]
  },
  {
   "cell_type": "markdown",
   "metadata": {},
   "source": [
    "```\n",
    "Welch Two Sample t-test\n",
    "\n",
    "data:  c_lens and n_lens\n",
    "t = 1.1567, df = 5633.269, p-value = 0.2474\n",
    "alternative hypothesis: true difference in means is not equal to 0\n",
    "95 percent confidence interval:\n",
    " -3.321819 12.883833\n",
    "sample estimates:\n",
    "mean of x mean of y \n",
    " 474.4742  469.6932 \n",
    "```"
   ]
  },
  {
   "cell_type": "code",
   "execution_count": "0",
   "metadata": {
    "collapsed": false
   },
   "outputs": [],
   "source": [
    "%%R\n",
    "prcomp(c_lens, n_lens)"
   ]
  },
  {
   "cell_type": "code",
   "execution_count": "0",
   "metadata": {
    "collapsed": false
   },
   "outputs": [],
   "source": [
    "%%R\n",
    "ls()"
   ]
  },
  {
   "cell_type": "code",
   "execution_count": "0",
   "metadata": {
    "collapsed": false
   },
   "outputs": [],
   "source": [
    "def get_tissue(row):\n",
    "    if row.C > 0 and row.N > 0:\n",
    "        return \"Both\"\n",
    "    elif row.C > 0:\n",
    "        return \"Cambium\"\n",
    "    elif row.N > 0:\n",
    "        return \"Needle\"\n",
    "\n",
    "count_df['tissue'] = count_df.apply(get_tissue, axis=1)\n",
    "count_df['total'] = count_df.apply(lambda row: row.C + row.N, axis=1)"
   ]
  },
  {
   "cell_type": "code",
   "execution_count": "0",
   "metadata": {
    "collapsed": false
   },
   "outputs": [],
   "source": [
    "%R -i count_df"
   ]
  },
  {
   "cell_type": "code",
   "execution_count": "0",
   "metadata": {
    "collapsed": false
   },
   "outputs": [],
   "source": [
    "%%R\n",
    "head(count_df)"
   ]
  },
  {
   "cell_type": "code",
   "execution_count": "0",
   "metadata": {
    "collapsed": false
   },
   "outputs": [],
   "source": [
    "%%R\n",
    "len_pca = prcomp(count_df[,1:4], center=T, scale=T)\n",
    "print(len_pca)\n",
    "plot(len_pca, type=\"l\")\n",
    "print(summary(len_pca))"
   ]
  },
  {
   "cell_type": "code",
   "execution_count": "0",
   "metadata": {
    "collapsed": false
   },
   "outputs": [],
   "source": [
    "%%R\n",
    "library(ggbiplot)"
   ]
  },
  {
   "cell_type": "code",
   "execution_count": "0",
   "metadata": {
    "collapsed": false
   },
   "outputs": [],
   "source": [
    "%%R\n",
    "g <- ggbiplot(len_pca, \n",
    "              obs.scale = 1, \n",
    "              var.scale = 1,\n",
    "              ellipse = TRUE, \n",
    "              circle = TRUE,\n",
    "             groups=count_df[,7],size=count_df[,8])\n",
    "print(g)\n",
    "pdf(\"count_pca.pdf\")\n",
    "print(g)\n",
    "dev.off()"
   ]
  },
  {
   "cell_type": "code",
   "execution_count": "0",
   "metadata": {
    "collapsed": false,
    "scrolled": true
   },
   "outputs": [],
   "source": [
    "ls -lrt"
   ]
  },
  {
   "cell_type": "code",
   "execution_count": "0",
   "metadata": {
    "collapsed": true
   },
   "outputs": [],
   "source": []
  }
 ],
 "metadata": {
  "kernelspec": {
   "display_name": "Python 2",
   "language": "python",
   "name": "python2"
  },
  "language_info": {
   "codemirror_mode": {
    "name": "ipython",
    "version": 2
   },
   "file_extension": ".py",
   "mimetype": "text/x-python",
   "name": "python",
   "nbconvert_exporter": "python",
   "pygments_lexer": "ipython2",
   "version": "2.7.10"
  }
 },
 "nbformat": 4,
 "nbformat_minor": 0
}