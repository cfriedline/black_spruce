{
 "cells": [
  {
   "cell_type": "code",
   "execution_count": "0",
   "metadata": {
    "collapsed": false
   },
   "outputs": [],
   "source": [
    "%load_ext autoreload\n",
    "%autoreload 2"
   ]
  },
  {
   "cell_type": "code",
   "execution_count": "0",
   "metadata": {
    "collapsed": false
   },
   "outputs": [],
   "source": [
    "import pandas as pd\n",
    "import numpy as np\n",
    "import statsmodels as sm\n",
    "from statsmodels.sandbox.stats.multicomp import multipletests\n",
    "import os,sys\n",
    "import matplotlib.pyplot as plt\n",
    "import seaborn as sns\n",
    "%matplotlib inline"
   ]
  },
  {
   "cell_type": "code",
   "execution_count": "0",
   "metadata": {
    "collapsed": false
   },
   "outputs": [],
   "source": [
    "os.environ['R_HOME'] = \"/home/cfriedline/R3/lib64/R/\"\n",
    "import rpy2.ipython\n",
    "import rpy2.robjects as robjects\n",
    "%load_ext rpy2.ipython\n",
    "r = robjects.r"
   ]
  },
  {
   "cell_type": "code",
   "execution_count": "0",
   "metadata": {
    "collapsed": false
   },
   "outputs": [],
   "source": [
    "%%R\n",
    "library(topGO)\n",
    "library(qvalue)"
   ]
  },
  {
   "cell_type": "code",
   "execution_count": "0",
   "metadata": {
    "collapsed": true
   },
   "outputs": [],
   "source": [
    "ri2py = robjects.conversion.ri2py"
   ]
  },
  {
   "cell_type": "code",
   "execution_count": "0",
   "metadata": {
    "collapsed": false
   },
   "outputs": [],
   "source": [
    "count_file = \"seqclean/all_ests.fa.clean_output/contig_member.counts\""
   ]
  },
  {
   "cell_type": "code",
   "execution_count": "0",
   "metadata": {
    "collapsed": false
   },
   "outputs": [],
   "source": [
    "counts = pd.read_csv(count_file, sep=\"\\t\", header=0, index_col=0)"
   ]
  },
  {
   "cell_type": "code",
   "execution_count": "0",
   "metadata": {
    "collapsed": false
   },
   "outputs": [],
   "source": [
    "counts[0:5]"
   ]
  },
  {
   "cell_type": "code",
   "execution_count": "0",
   "metadata": {
    "collapsed": false
   },
   "outputs": [],
   "source": [
    "def combine(row):\n",
    "    return pd.Series([None, (row.P32C+row.P40C), (row.P32N+row.P40N)])\n",
    "combined = counts.apply(combine, axis=1)\n",
    "combined.columns = [\"Descr\", \"C\", \"N\"]\n",
    "combined.index.name = \"UNIQID\""
   ]
  },
  {
   "cell_type": "code",
   "execution_count": "0",
   "metadata": {
    "collapsed": false
   },
   "outputs": [],
   "source": [
    "combined[0:5]"
   ]
  },
  {
   "cell_type": "code",
   "execution_count": "0",
   "metadata": {
    "collapsed": false
   },
   "outputs": [],
   "source": [
    "totals = pd.DataFrame(columns=combined.columns)\n",
    "totals.ix['UNIQID',:] = combined.apply(np.sum)\n",
    "totals.ix['UNIQID','Descr'] = 'Descr'\n",
    "totals"
   ]
  },
  {
   "cell_type": "code",
   "execution_count": "0",
   "metadata": {
    "collapsed": false
   },
   "outputs": [],
   "source": [
    "df = pd.concat([totals, combined])\n",
    "df[0:5]"
   ]
  },
  {
   "cell_type": "code",
   "execution_count": "0",
   "metadata": {
    "collapsed": false
   },
   "outputs": [],
   "source": [
    "df.Descr[1:] = df.index[1:]"
   ]
  },
  {
   "cell_type": "code",
   "execution_count": "0",
   "metadata": {
    "collapsed": false
   },
   "outputs": [],
   "source": [
    "new_index = [\"UNIQID\"]\n",
    "new_index.extend([int(x.replace(\"UN\", \"\")) for x in df.index[1:]])\n",
    "new_index[0:5]"
   ]
  },
  {
   "cell_type": "code",
   "execution_count": "0",
   "metadata": {
    "collapsed": false
   },
   "outputs": [],
   "source": [
    "df.index = new_index"
   ]
  },
  {
   "cell_type": "code",
   "execution_count": "0",
   "metadata": {
    "collapsed": false
   },
   "outputs": [],
   "source": [
    "df[0:5]"
   ]
  },
  {
   "cell_type": "code",
   "execution_count": "0",
   "metadata": {
    "collapsed": false
   },
   "outputs": [],
   "source": [
    "len(df)"
   ]
  },
  {
   "cell_type": "code",
   "execution_count": "0",
   "metadata": {
    "collapsed": false
   },
   "outputs": [],
   "source": [
    "def convert_to_int(col):\n",
    "    try:\n",
    "        return col.astype(int)\n",
    "    except:\n",
    "        return col\n",
    "df = df.apply(convert_to_int)\n",
    "        \n",
    "df.to_csv(\"ideg6_counts.txt\", sep=\"\\t\", header=False, index=True, float_format=\"%.0f\")"
   ]
  },
  {
   "cell_type": "code",
   "execution_count": "0",
   "metadata": {
    "collapsed": false
   },
   "outputs": [],
   "source": [
    "!head ideg6_counts.txt"
   ]
  },
  {
   "cell_type": "markdown",
   "metadata": {},
   "source": [
    "## Use IDEG6 web tool to calculate differentially expressed genes\n",
    "http://telethon.bio.unipd.it/bioinfo/IDEG6_form/"
   ]
  },
  {
   "cell_type": "code",
   "execution_count": "0",
   "metadata": {
    "collapsed": false
   },
   "outputs": [],
   "source": [
    "pwd"
   ]
  },
  {
   "cell_type": "code",
   "execution_count": "0",
   "metadata": {
    "collapsed": false
   },
   "outputs": [],
   "source": [
    "bonferroni_alpha = 2.570694e-05"
   ]
  },
  {
   "cell_type": "code",
   "execution_count": "0",
   "metadata": {
    "collapsed": false
   },
   "outputs": [],
   "source": [
    "results = pd.read_csv(\"ideg6_results.txt\", sep=\"\\t\", header=0, index_col=0)\n",
    "results.columns = [x.replace(\".\", \"\") for x in results.columns]\n",
    "results.columns = [x.replace(\"-\", \"_\") for x in results.columns]\n",
    "results.columns = [x.strip() for x in results.columns]\n",
    "results = results.ix[:,:-1] #drop extra column at the end"
   ]
  },
  {
   "cell_type": "code",
   "execution_count": "0",
   "metadata": {
    "collapsed": false
   },
   "outputs": [],
   "source": [
    "stat_cols = [u'AC1_2', u'Fisher1_2', u'Chi2x21_2', u'R', u'Chi']"
   ]
  },
  {
   "cell_type": "code",
   "execution_count": "0",
   "metadata": {
    "collapsed": true
   },
   "outputs": [],
   "source": [
    "qvalue_cols = [u'Fisher1_2', u'Chi2x21_2', u'R', u'Chi']"
   ]
  },
  {
   "cell_type": "code",
   "execution_count": "0",
   "metadata": {
    "collapsed": false
   },
   "outputs": [],
   "source": [
    "def fdr_bh(pvals):\n",
    "    return multipletests(pvals, method=\"fdr_bh\")[1]"
   ]
  },
  {
   "cell_type": "code",
   "execution_count": "0",
   "metadata": {
    "collapsed": false,
    "scrolled": true
   },
   "outputs": [],
   "source": [
    "def q_value(pvals):\n",
    "    p = robjects.FloatVector(pvals)\n",
    "    robjects.globalenv['p'] = p\n",
    "    vals = r('qvalue(p)')\n",
    "    return pd.Series(ri2py(vals.rx('pvalues')[0]))\n",
    "qvalue_results = results[qvalue_cols].apply(q_value)\n",
    "qvalue_results.columns = [\"%s_q\" % x for x in qvalue_results.columns]"
   ]
  },
  {
   "cell_type": "code",
   "execution_count": "0",
   "metadata": {
    "collapsed": false
   },
   "outputs": [],
   "source": [
    "fdr_results = results[stat_cols].apply(fdr_bh)\n",
    "fdr_results.columns = [\"%s_fdr\" % x for x in fdr_results.columns]"
   ]
  },
  {
   "cell_type": "code",
   "execution_count": "0",
   "metadata": {
    "collapsed": false
   },
   "outputs": [],
   "source": [
    "results_df = results.join(fdr_results).join(qvalue_results)"
   ]
  },
  {
   "cell_type": "code",
   "execution_count": "0",
   "metadata": {
    "collapsed": false
   },
   "outputs": [],
   "source": [
    "sns.set_context(\"talk\")\n",
    "X = sorted(results_df.Chi)\n",
    "plt.step(X, np.arange(len(X)))\n",
    "plt.show()"
   ]
  },
  {
   "cell_type": "code",
   "execution_count": "0",
   "metadata": {
    "collapsed": false
   },
   "outputs": [],
   "source": [
    "results_df.columns"
   ]
  },
  {
   "cell_type": "code",
   "execution_count": "0",
   "metadata": {
    "collapsed": false
   },
   "outputs": [],
   "source": [
    "results_df.Description = [x.strip() for x in results_df.Description]"
   ]
  },
  {
   "cell_type": "code",
   "execution_count": "0",
   "metadata": {
    "collapsed": false,
    "scrolled": true
   },
   "outputs": [],
   "source": [
    "results_df[['Chi','Chi_fdr','Chi_q']][0:10]"
   ]
  },
  {
   "cell_type": "code",
   "execution_count": "0",
   "metadata": {
    "collapsed": false
   },
   "outputs": [],
   "source": [
    "fdr_cols = [u'AC1_2_fdr', u'Fisher1_2_fdr', u'Chi2x21_2_fdr', u'R_fdr', u'Chi_fdr',\n",
    "           'Fisher1_2_q', 'Chi2x21_2_q', 'R_q', 'Chi_q']"
   ]
  },
  {
   "cell_type": "code",
   "execution_count": "0",
   "metadata": {
    "collapsed": false
   },
   "outputs": [],
   "source": [
    "fdr_res = pd.DataFrame(index=['total','sig'])\n",
    "for col in fdr_cols:\n",
    "    d = results_df[col]\n",
    "    fdr_res[col] = [len(d), len(d[d<0.05])]\n",
    "fdr_res.T"
   ]
  },
  {
   "cell_type": "code",
   "execution_count": "0",
   "metadata": {
    "collapsed": false
   },
   "outputs": [],
   "source": [
    "stat_res = pd.DataFrame(index=['total','p<0.05', 'p<bonferroni'])\n",
    "for col in stat_cols:\n",
    "    d = results_df[col]\n",
    "    stat_res[col] = [len(d), len(d[d<0.05]), len(d[d<bonferroni_p])]\n",
    "stat_res.T"
   ]
  },
  {
   "cell_type": "code",
   "execution_count": "0",
   "metadata": {
    "collapsed": false
   },
   "outputs": [],
   "source": [
    "len(results_df[results_df.Chi < 0.05]), len(results_df[results_df.Chi_fdr < 0.05])"
   ]
  },
  {
   "cell_type": "code",
   "execution_count": "0",
   "metadata": {
    "collapsed": false
   },
   "outputs": [],
   "source": [
    "cd ~/g/projects/black_spruce/"
   ]
  },
  {
   "cell_type": "code",
   "execution_count": "0",
   "metadata": {
    "collapsed": false
   },
   "outputs": [],
   "source": [
    "go_file = \"topGO_blast2go_export_20150330_1727.txt\""
   ]
  },
  {
   "cell_type": "code",
   "execution_count": "0",
   "metadata": {
    "collapsed": false
   },
   "outputs": [],
   "source": [
    "go = pd.read_csv(go_file, sep=\"\\t\", header=None, index_col=0, names=[\"go\"])\n",
    "go.index = [x.strip() for x in go.index]"
   ]
  },
  {
   "cell_type": "code",
   "execution_count": "0",
   "metadata": {
    "collapsed": false
   },
   "outputs": [],
   "source": [
    "go[0:5]"
   ]
  },
  {
   "cell_type": "code",
   "execution_count": "0",
   "metadata": {
    "collapsed": false
   },
   "outputs": [],
   "source": [
    "len(go)"
   ]
  },
  {
   "cell_type": "code",
   "execution_count": "0",
   "metadata": {
    "collapsed": false
   },
   "outputs": [],
   "source": [
    "counts_go = counts.join(go)"
   ]
  },
  {
   "cell_type": "code",
   "execution_count": "0",
   "metadata": {
    "collapsed": false
   },
   "outputs": [],
   "source": [
    "len(counts_go)"
   ]
  },
  {
   "cell_type": "code",
   "execution_count": "0",
   "metadata": {
    "collapsed": false
   },
   "outputs": [],
   "source": [
    "results_df.index = [x.strip() for x in results_df.Description]"
   ]
  },
  {
   "cell_type": "code",
   "execution_count": "0",
   "metadata": {
    "collapsed": false
   },
   "outputs": [],
   "source": [
    "results_df[0:5]"
   ]
  },
  {
   "cell_type": "code",
   "execution_count": "0",
   "metadata": {
    "collapsed": false
   },
   "outputs": [],
   "source": [
    "len(results_df[results_df.Chi_fdr<0.05])"
   ]
  },
  {
   "cell_type": "code",
   "execution_count": "0",
   "metadata": {
    "collapsed": false
   },
   "outputs": [],
   "source": [
    "full = counts_go.join(results_df)"
   ]
  },
  {
   "cell_type": "code",
   "execution_count": "0",
   "metadata": {
    "collapsed": false
   },
   "outputs": [],
   "source": [
    "len(full)"
   ]
  },
  {
   "cell_type": "code",
   "execution_count": "0",
   "metadata": {
    "collapsed": false
   },
   "outputs": [],
   "source": [
    "full_with_go = full.ix[full.go.dropna().index]"
   ]
  },
  {
   "cell_type": "code",
   "execution_count": "0",
   "metadata": {
    "collapsed": false
   },
   "outputs": [],
   "source": [
    "len(full_with_go)"
   ]
  },
  {
   "cell_type": "code",
   "execution_count": "0",
   "metadata": {
    "collapsed": false
   },
   "outputs": [],
   "source": [
    "sig = full[(full.Chi_fdr < 0.05)]"
   ]
  },
  {
   "cell_type": "code",
   "execution_count": "0",
   "metadata": {
    "collapsed": false
   },
   "outputs": [],
   "source": [
    "len(sig)"
   ]
  },
  {
   "cell_type": "code",
   "execution_count": "0",
   "metadata": {
    "collapsed": false
   },
   "outputs": [],
   "source": [
    "sig.head()"
   ]
  },
  {
   "cell_type": "code",
   "execution_count": "0",
   "metadata": {
    "collapsed": false
   },
   "outputs": [],
   "source": [
    "sig_with_go = sig.ix[sig.go.dropna().index]"
   ]
  },
  {
   "cell_type": "code",
   "execution_count": "0",
   "metadata": {
    "collapsed": false
   },
   "outputs": [],
   "source": [
    "len(sig_with_go)"
   ]
  },
  {
   "cell_type": "code",
   "execution_count": "0",
   "metadata": {
    "collapsed": false
   },
   "outputs": [],
   "source": [
    "dge_N = sig_with_go[sig_with_go.Lib2 > sig_with_go.Lib1]\n",
    "dge_C = sig_with_go[sig_with_go.Lib2 < sig_with_go.Lib1]"
   ]
  },
  {
   "cell_type": "code",
   "execution_count": "0",
   "metadata": {
    "collapsed": false,
    "scrolled": true
   },
   "outputs": [],
   "source": [
    "def get_num_terms(x):\n",
    "    return len(x.split(\",\"))\n",
    "\n",
    "print dge_C.go.apply(get_num_terms).describe()\n",
    "print dge_N.go.apply(get_num_terms).describe()"
   ]
  },
  {
   "cell_type": "code",
   "execution_count": "0",
   "metadata": {
    "collapsed": false
   },
   "outputs": [],
   "source": [
    "pwd"
   ]
  },
  {
   "cell_type": "code",
   "execution_count": "0",
   "metadata": {
    "collapsed": false
   },
   "outputs": [],
   "source": [
    "dge_N.ix[:,0:5].to_csv(\"dge_N.csv\")\n",
    "dge_C.ix[:,0:5].to_csv(\"dge_C.csv\")"
   ]
  },
  {
   "cell_type": "code",
   "execution_count": "0",
   "metadata": {
    "collapsed": false
   },
   "outputs": [],
   "source": [
    "len(sig_with_go), len(dge_C), len(dge_N)"
   ]
  },
  {
   "cell_type": "code",
   "execution_count": "0",
   "metadata": {
    "collapsed": false
   },
   "outputs": [],
   "source": [
    "with open(\"dge_needle_names.txt\", \"w\") as o:\n",
    "    for name in dge_N.index.tolist():\n",
    "        o.write(\"%s\\n\" % name)\n",
    "        \n",
    "with open(\"dge_cambium_names.txt\", \"w\") as o:\n",
    "    for name in dge_C.index.tolist():\n",
    "        o.write(\"%s\\n\" % name)"
   ]
  },
  {
   "cell_type": "code",
   "execution_count": "0",
   "metadata": {
    "collapsed": false
   },
   "outputs": [],
   "source": [
    "ls -lrt"
   ]
  },
  {
   "cell_type": "code",
   "execution_count": "0",
   "metadata": {
    "collapsed": false
   },
   "outputs": [],
   "source": [
    "cat dge_needle_names.txt"
   ]
  },
  {
   "cell_type": "markdown",
   "metadata": {},
   "source": [
    "##Run topgo with new counts from iAssembler"
   ]
  },
  {
   "cell_type": "code",
   "execution_count": "0",
   "metadata": {
    "collapsed": false
   },
   "outputs": [],
   "source": [
    "full_with_go['go'].to_csv(\"go_mappings.txt\", sep=\"\\t\", header=False, index=True)"
   ]
  },
  {
   "cell_type": "code",
   "execution_count": "0",
   "metadata": {
    "collapsed": false
   },
   "outputs": [],
   "source": [
    "len(full_with_go)"
   ]
  },
  {
   "cell_type": "code",
   "execution_count": "0",
   "metadata": {
    "collapsed": false
   },
   "outputs": [],
   "source": [
    "!head go_mappings.txt"
   ]
  },
  {
   "cell_type": "code",
   "execution_count": "0",
   "metadata": {
    "collapsed": false
   },
   "outputs": [],
   "source": [
    "!wc -l go_mappings.txt"
   ]
  },
  {
   "cell_type": "code",
   "execution_count": "0",
   "metadata": {
    "collapsed": true
   },
   "outputs": [],
   "source": [
    "%%R\n",
    "rm(list=ls())"
   ]
  },
  {
   "cell_type": "code",
   "execution_count": "0",
   "metadata": {
    "collapsed": true
   },
   "outputs": [],
   "source": [
    "robjects.globalenv['full_with_go'] = robjects.DataFrame(full_with_go)\n",
    "robjects.globalenv['sig_with_go'] = robjects.DataFrame(sig_with_go)\n",
    "robjects.globalenv['dge_C'] = robjects.DataFrame(dge_C)\n",
    "robjects.globalenv['dge_N'] = robjects.DataFrame(dge_N)"
   ]
  },
  {
   "cell_type": "code",
   "execution_count": "0",
   "metadata": {
    "collapsed": false,
    "scrolled": true
   },
   "outputs": [],
   "source": [
    "%%R\n",
    "library(topGO)\n",
    "gene_names = rownames(full_with_go)\n",
    "cambium_interesting = rownames(dge_C)\n",
    "needle_interesting = rownames(dge_N)\n",
    "gene_id_2go  = readMappings(file=\"go_mappings.txt\")\n",
    "interesting = list()\n",
    "interesting$cambium = cambium_interesting\n",
    "interesting$needle = needle_interesting\n",
    "godata = list()\n",
    "gentables = list()\n",
    "gentables_bh = list()\n",
    "gentables_qval = list()\n",
    "onts = c(\"BP\",\"CC\", \"MF\")\n",
    "sigs = list()\n",
    "descriptions = list()\n",
    "for (i in 1:length(onts)) {\n",
    "    for (j in 1:length(interesting)) {\n",
    "        interest = interesting[[j]]\n",
    "        gene_list <- factor(as.integer(gene_names %in% interest))\n",
    "        names(gene_list) <- gene_names\n",
    "        description=paste(names(interesting)[j], onts[i], sep=\"-\")\n",
    "        descriptions = append(descriptions, description)\n",
    "        GOdata = new(\"topGOdata\",\n",
    "                     description=description,\n",
    "                     ontology = onts[i], \n",
    "                     allGenes = gene_list, \n",
    "                     annot = annFUN.gene2GO, \n",
    "                     gene2GO = gene_id_2go,\n",
    "                     nodeSize=2)\n",
    "        print(GOdata)\n",
    "        godata = append(godata, GOdata)\n",
    "        classicFisher = runTest(GOdata, algorithm = \"classic\", statistic = \"fisher\")\n",
    "        weight01Fisher = runTest(GOdata, algorithm = \"weight01\", statistic = \"fisher\")\n",
    "        sigs = append(sigs, classicFisher)\n",
    "        printGraph(GOdata, \n",
    "                   classicFisher, \n",
    "                   firstSigNodes = 2, \n",
    "                   fn.prefix = paste(\"tGO\", \"for\", description(GOdata)), \n",
    "                   #fn.prefix = paste(\"tGOslim\", \"for\", description(GOdata)), \n",
    "                   useInfo = \"all\")\n",
    "        \n",
    "        gt = GenTable(GOdata, \n",
    "                      classicFisher=classicFisher, \n",
    "                      weight01Fisher=weight01Fisher, \n",
    "                      topNodes=length(classicFisher@score), \n",
    "                      orderBy=\"classicFisher\", numChar=1000)\n",
    "        gentables = append(gentables, list(gt))\n",
    "        \n",
    "        fisher_p = as.numeric(gt[,\"classicFisher\"])\n",
    "        \n",
    "        gt.bh = gt[which(p.adjust(fisher_p,method=\"BH\")<=0.05),]\n",
    "        \n",
    "        #print(qvalue(fisher_p))\n",
    "    \n",
    "        \n",
    "        gt.qval = gt[which(qvalue(fisher_p)$qvalues<=0.05),]\n",
    "        gentables_bh = append(gentables_bh, list(gt.bh))\n",
    "        gentables_qval = append(gentables_qval, list(gt.qval))\n",
    "        write.table(gt, file=paste(description(GOdata), \".txt\", sep=\"\"), row.names=F)\n",
    "        write.table(gt.bh, file=paste(description(GOdata), \"_bh.txt\", sep=\"\"), row.names=F)\n",
    "        write.table(gt.qval, file=paste(description(GOdata), \"_qval.txt\", sep=\"\"), row.names=F)  \n",
    "    }\n",
    "}\n",
    "save.image(\"topgo.Rdata\")"
   ]
  },
  {
   "cell_type": "code",
   "execution_count": "0",
   "metadata": {
    "collapsed": false
   },
   "outputs": [],
   "source": [
    "gentables = {}\n",
    "for i, desc in enumerate(r(\"descriptions\")):\n",
    "    d = {\"gt\":None, \"gt_bh\":None}\n",
    "    d['gt'] = ri2py(r(\"gentables\")[i])\n",
    "    d['gt_bh'] = ri2py(r(\"gentables_bh\")[i])\n",
    "    d['gt_qval'] = ri2py(r(\"gentables_qval\")[i])\n",
    "    gentables[desc[0]] = d"
   ]
  },
  {
   "cell_type": "code",
   "execution_count": "0",
   "metadata": {
    "collapsed": false
   },
   "outputs": [],
   "source": [
    "gentables.keys()"
   ]
  },
  {
   "cell_type": "code",
   "execution_count": "0",
   "metadata": {
    "collapsed": false
   },
   "outputs": [],
   "source": [
    "for k in gentables:\n",
    "    gt = gentables[k]['gt']\n",
    "    bh = gentables[k]['gt_bh']\n",
    "    q = gentables[k]['gt_qval']\n",
    "    gt['bh'] = gt['GO.ID'].isin(bh['GO.ID'])\n",
    "    gt['qval'] = gt['GO.ID'].isin(q['GO.ID'])\n",
    "    testgt=gt"
   ]
  },
  {
   "cell_type": "code",
   "execution_count": "0",
   "metadata": {
    "collapsed": false
   },
   "outputs": [],
   "source": [
    "for k in gentables:\n",
    "    print k\n",
    "    gt = gentables[k]['gt']\n",
    "    print k, len(gt[gt.bh==True]), len(gt[gt.qval==True]), len(gt) \n",
    "    #print gt[gt.bh==True]"
   ]
  },
  {
   "cell_type": "code",
   "execution_count": "0",
   "metadata": {
    "collapsed": true
   },
   "outputs": [],
   "source": [
    "fasta_file = \"seqclean/all_ests.fa.clean_output/all_unigene_seq.fasta\""
   ]
  },
  {
   "cell_type": "code",
   "execution_count": "0",
   "metadata": {
    "collapsed": true
   },
   "outputs": [],
   "source": [
    "from Bio import SeqIO"
   ]
  },
  {
   "cell_type": "code",
   "execution_count": "0",
   "metadata": {
    "collapsed": false
   },
   "outputs": [],
   "source": [
    "cambium_dge_seqs = []\n",
    "needle_dge_seqs = []\n",
    "for rec in SeqIO.parse(fasta_file, \"fasta\"):\n",
    "    if rec.id in dge_C.index:\n",
    "        cambium_dge_seqs.append(rec)\n",
    "    \n",
    "    if rec.id in dge_N.index:\n",
    "        needle_dge_seqs.append(rec)\n",
    "print SeqIO.write(cambium_dge_seqs, open(\"cambium_dge.fasta\",\"w\"), \"fasta\")\n",
    "print SeqIO.write(needle_dge_seqs, open(\"needle_dge.fasta\",\"w\"), \"fasta\")"
   ]
  },
  {
   "cell_type": "code",
   "execution_count": "0",
   "metadata": {
    "collapsed": true
   },
   "outputs": [],
   "source": [
    "import dill"
   ]
  },
  {
   "cell_type": "code",
   "execution_count": "0",
   "metadata": {
    "collapsed": false
   },
   "outputs": [],
   "source": [
    "dill.dump(gentables, open(\"gentables.dill\", \"w\"))"
   ]
  },
  {
   "cell_type": "code",
   "execution_count": "0",
   "metadata": {
    "collapsed": false
   },
   "outputs": [],
   "source": [
    "pwd"
   ]
  },
  {
   "cell_type": "code",
   "execution_count": "0",
   "metadata": {
    "collapsed": true
   },
   "outputs": [],
   "source": []
  }
 ],
 "metadata": {
  "kernelspec": {
   "display_name": "Python 2",
   "language": "python",
   "name": "python2"
  },
  "language_info": {
   "codemirror_mode": {
    "name": "ipython",
    "version": 2
   },
   "file_extension": ".py",
   "mimetype": "text/x-python",
   "name": "python",
   "nbconvert_exporter": "python",
   "pygments_lexer": "ipython2",
   "version": "2.7.9"
  }
 },
 "nbformat": 4,
 "nbformat_minor": 0
}