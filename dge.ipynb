{
 "cells": [
  {
   "cell_type": "code",
   "execution_count": "0",
   "metadata": {
    "collapsed": false
   },
   "outputs": [],
   "source": [
    "%load_ext autoreload\n",
    "%autoreload 2"
   ]
  },
  {
   "cell_type": "code",
   "execution_count": "0",
   "metadata": {
    "collapsed": false
   },
   "outputs": [],
   "source": [
    "import pandas as pd\n",
    "import numpy as np\n",
    "import statsmodels as sm\n",
    "from statsmodels.sandbox.stats.multicomp import multipletests\n",
    "import os,sys"
   ]
  },
  {
   "cell_type": "code",
   "execution_count": "0",
   "metadata": {
    "collapsed": false
   },
   "outputs": [],
   "source": [
    "os.environ['R_HOME'] = \"/home/cfriedline/R3/lib64/R/\"\n",
    "import rpy2.ipython\n",
    "import rpy2.robjects as robjects\n",
    "import pandas.rpy.common as com\n",
    "%reload_ext rmagic\n",
    "r = robjects.r"
   ]
  },
  {
   "cell_type": "code",
   "execution_count": "0",
   "metadata": {
    "collapsed": false
   },
   "outputs": [],
   "source": [
    "count_file = \"seqclean/all_ests.fa.clean_output/contig_member.counts\""
   ]
  },
  {
   "cell_type": "code",
   "execution_count": "0",
   "metadata": {
    "collapsed": false
   },
   "outputs": [],
   "source": [
    "counts = pd.read_csv(count_file, sep=\"\\t\", header=0, index_col=0)"
   ]
  },
  {
   "cell_type": "code",
   "execution_count": "0",
   "metadata": {
    "collapsed": false
   },
   "outputs": [],
   "source": [
    "counts[0:5]"
   ]
  },
  {
   "cell_type": "code",
   "execution_count": "0",
   "metadata": {
    "collapsed": false
   },
   "outputs": [],
   "source": [
    "def combine(row):\n",
    "    return pd.Series([None, (row.P32C+row.P40C), (row.P32N+row.P40N)])\n",
    "combined = counts.apply(combine, axis=1)\n",
    "combined.columns = [\"Descr\", \"C\", \"N\"]\n",
    "combined.index.name = \"UNIQID\""
   ]
  },
  {
   "cell_type": "code",
   "execution_count": "0",
   "metadata": {
    "collapsed": false
   },
   "outputs": [],
   "source": [
    "combined[0:5]"
   ]
  },
  {
   "cell_type": "code",
   "execution_count": "0",
   "metadata": {
    "collapsed": false
   },
   "outputs": [],
   "source": [
    "totals = pd.DataFrame(columns=combined.columns)\n",
    "totals.ix['UNIQID',:] = combined.apply(np.sum)\n",
    "totals.ix['UNIQID','Descr'] = 'Descr'\n",
    "totals"
   ]
  },
  {
   "cell_type": "code",
   "execution_count": "0",
   "metadata": {
    "collapsed": false
   },
   "outputs": [],
   "source": [
    "df = pd.concat([totals, combined])\n",
    "df[0:5]"
   ]
  },
  {
   "cell_type": "code",
   "execution_count": "0",
   "metadata": {
    "collapsed": false
   },
   "outputs": [],
   "source": [
    "df.Descr[1:] = df.index[1:]"
   ]
  },
  {
   "cell_type": "code",
   "execution_count": "0",
   "metadata": {
    "collapsed": false
   },
   "outputs": [],
   "source": [
    "new_index = [\"UNIQID\"]\n",
    "new_index.extend([int(x.replace(\"UN\", \"\")) for x in df.index[1:]])\n",
    "new_index[0:5]"
   ]
  },
  {
   "cell_type": "code",
   "execution_count": "0",
   "metadata": {
    "collapsed": false
   },
   "outputs": [],
   "source": [
    "df.index = new_index"
   ]
  },
  {
   "cell_type": "code",
   "execution_count": "0",
   "metadata": {
    "collapsed": false
   },
   "outputs": [],
   "source": [
    "df[0:5]"
   ]
  },
  {
   "cell_type": "code",
   "execution_count": "0",
   "metadata": {
    "collapsed": false
   },
   "outputs": [],
   "source": [
    "def convert_to_int(col):\n",
    "    try:\n",
    "        return col.astype(int)\n",
    "    except:\n",
    "        return col\n",
    "df = df.apply(convert_to_int)\n",
    "        \n",
    "df.to_csv(\"ideg6_counts.txt\", sep=\"\\t\", header=False, index=True, float_format=\"%.0f\")"
   ]
  },
  {
   "cell_type": "code",
   "execution_count": "0",
   "metadata": {
    "collapsed": false
   },
   "outputs": [],
   "source": [
    "!head ideg6_counts.txt"
   ]
  },
  {
   "cell_type": "markdown",
   "metadata": {},
   "source": [
    "## Use IDEG6 web tool to calculate differentially expressed genes\n",
    "http://telethon.bio.unipd.it/bioinfo/IDEG6_form/"
   ]
  },
  {
   "cell_type": "code",
   "execution_count": "0",
   "metadata": {
    "collapsed": false
   },
   "outputs": [],
   "source": [
    "bonferroni_p = 2.570694e-05"
   ]
  },
  {
   "cell_type": "code",
   "execution_count": "0",
   "metadata": {
    "collapsed": false
   },
   "outputs": [],
   "source": [
    "results = pd.read_csv(\"ideg6_results.txt\", sep=\"\\t\", header=0, index_col=0)\n",
    "results.columns = [x.replace(\".\", \"\") for x in results.columns]\n",
    "results.columns = [x.replace(\"-\", \"_\") for x in results.columns]\n",
    "results.columns = [x.strip() for x in results.columns]\n",
    "results = results.ix[:,:-1] #drop extra column at the end"
   ]
  },
  {
   "cell_type": "code",
   "execution_count": "0",
   "metadata": {
    "collapsed": false
   },
   "outputs": [],
   "source": [
    "stat_cols = [u'AC1_2', u'Fisher1_2', u'Chi2x21_2', u'R', u'Chi']"
   ]
  },
  {
   "cell_type": "code",
   "execution_count": "0",
   "metadata": {
    "collapsed": false
   },
   "outputs": [],
   "source": [
    "def fdr_bh(pvals):\n",
    "    return multipletests(pvals, method=\"fdr_bh\")[1]"
   ]
  },
  {
   "cell_type": "code",
   "execution_count": "0",
   "metadata": {
    "collapsed": false
   },
   "outputs": [],
   "source": [
    "fdr_results = results[stat_cols].apply(fdr_bh)\n",
    "fdr_results.columns = [\"%s_fdr\" % x for x in fdr_results.columns]"
   ]
  },
  {
   "cell_type": "code",
   "execution_count": "0",
   "metadata": {
    "collapsed": false
   },
   "outputs": [],
   "source": [
    "results_df = results.join(fdr_results)"
   ]
  },
  {
   "cell_type": "code",
   "execution_count": "0",
   "metadata": {
    "collapsed": false
   },
   "outputs": [],
   "source": [
    "results_df.columns"
   ]
  },
  {
   "cell_type": "code",
   "execution_count": "0",
   "metadata": {
    "collapsed": false
   },
   "outputs": [],
   "source": [
    "fdr_cols = [u'AC1_2_fdr', u'Fisher1_2_fdr', u'Chi2x21_2_fdr', u'R_fdr', u'Chi_fdr']"
   ]
  },
  {
   "cell_type": "code",
   "execution_count": "0",
   "metadata": {
    "collapsed": false
   },
   "outputs": [],
   "source": [
    "fdr_res = pd.DataFrame(index=['total','bh_p<0.05'])\n",
    "for col in fdr_cols:\n",
    "    d = results_df[col]\n",
    "    fdr_res[col] = [len(d), len(d[d<0.05])]\n",
    "fdr_res.T"
   ]
  },
  {
   "cell_type": "code",
   "execution_count": "0",
   "metadata": {
    "collapsed": false
   },
   "outputs": [],
   "source": [
    "stat_res = pd.DataFrame(index=['total','p<0.05', 'p<bonferroni'])\n",
    "for col in stat_cols:\n",
    "    d = results_df[col]\n",
    "    stat_res[col] = [len(d), len(d[d<0.05]), len(d[d<bonferroni_p])]\n",
    "stat_res.T"
   ]
  },
  {
   "cell_type": "code",
   "execution_count": "0",
   "metadata": {
    "collapsed": false
   },
   "outputs": [],
   "source": [
    "go_file = \"all_filtered_plants_30_30_annot_GOs_20140916_1726.txt_topGO.txt\""
   ]
  },
  {
   "cell_type": "code",
   "execution_count": "0",
   "metadata": {
    "collapsed": false
   },
   "outputs": [],
   "source": [
    "go = pd.read_csv(go_file, sep=\"\\t\", header=None, index_col=0, names=[\"go\"])\n",
    "go.index = [x.split(\"_\")[1] for x in go.index]"
   ]
  },
  {
   "cell_type": "code",
   "execution_count": "0",
   "metadata": {
    "collapsed": false
   },
   "outputs": [],
   "source": [
    "go[0:5]"
   ]
  },
  {
   "cell_type": "code",
   "execution_count": "0",
   "metadata": {
    "collapsed": false
   },
   "outputs": [],
   "source": [
    "counts_go = counts.join(go)"
   ]
  },
  {
   "cell_type": "code",
   "execution_count": "0",
   "metadata": {
    "collapsed": false
   },
   "outputs": [],
   "source": [
    "results_df.index = [x.strip() for x in results_df.Description]"
   ]
  },
  {
   "cell_type": "code",
   "execution_count": "0",
   "metadata": {
    "collapsed": false
   },
   "outputs": [],
   "source": [
    "full = counts_go.join(results_df)"
   ]
  },
  {
   "cell_type": "code",
   "execution_count": "0",
   "metadata": {
    "collapsed": false
   },
   "outputs": [],
   "source": [
    "sig = full[(full.AC1_2_fdr <0.05) & (full.Chi_fdr < 0.05)]"
   ]
  },
  {
   "cell_type": "code",
   "execution_count": "0",
   "metadata": {
    "collapsed": false
   },
   "outputs": [],
   "source": [
    "dge_N = sig[sig.Lib2 > sig.Lib1]\n",
    "dge_C = sig[sig.Lib2 < sig.Lib1]"
   ]
  },
  {
   "cell_type": "markdown",
   "metadata": {},
   "source": [
    "##Run topgo with new counts from iAssembler"
   ]
  },
  {
   "cell_type": "code",
   "execution_count": "0",
   "metadata": {
    "collapsed": false
   },
   "outputs": [],
   "source": [
    "%%R\n",
    "library(topGO)"
   ]
  },
  {
   "cell_type": "code",
   "execution_count": "0",
   "metadata": {
    "collapsed": false
   },
   "outputs": [],
   "source": [
    "sig['go'].to_csv(\"go_mappings.txt\", sep=\"\\t\", header=False, index=True)"
   ]
  },
  {
   "cell_type": "code",
   "execution_count": "0",
   "metadata": {
    "collapsed": false
   },
   "outputs": [],
   "source": [
    "robjects.globalenv['full'] = com.convert_to_r_dataframe(full)"
   ]
  },
  {
   "cell_type": "code",
   "execution_count": "0",
   "metadata": {
    "collapsed": false
   },
   "outputs": [],
   "source": [
    "%%R\n",
    "library(topGO)\n",
    "#rm(list=ls())\n",
    "counts = full\n",
    "gene_names = rownames(counts)\n",
    "c = as.numeric(counts$Lib1)\n",
    "n = as.numeric(counts$Lib2)\n",
    "names(c) = rownames(counts)\n",
    "names(n) = rownames(counts)\n",
    "cambium_interesting = c[c>1]\n",
    "needle_interesting = n[n>1]\n",
    "gene_id_2go  = readMappings(file=\"go_mappings.txt\")\n",
    "interesting = list()\n",
    "interesting$cambium = cambium_interesting\n",
    "interesting$needle = needle_interesting\n",
    "godata = list()\n",
    "gentables = list()\n",
    "gentables_bh = list()\n",
    "onts = c(\"BP\",\"CC\", \"MF\")\n",
    "sigs = list()\n",
    "for (i in 1:length(onts)) {\n",
    "    for (j in 1:length(interesting)) {\n",
    "        interest = interesting[[j]]\n",
    "        gene_list <- factor(as.integer(gene_names %in% names(interest)))\n",
    "        names(gene_list) <- gene_names\n",
    "        GOdata = new(\"topGOdata\",\n",
    "                     description=paste(names(interesting)[j], onts[i], sep=\"-\"),\n",
    "                     ontology = onts[i], \n",
    "                     allGenes = gene_list, \n",
    "                     annot = annFUN.gene2GO, \n",
    "                     gene2GO = gene_id_2go,\n",
    "                     nodeSize=5)\n",
    "        print(GOdata)\n",
    "        godata = append(godata, GOdata)\n",
    "        classicFisher = runTest(GOdata, algorithm = \"classic\", statistic = \"fisher\")\n",
    "        weight01Fisher = runTest(GOdata, algorithm = \"weight01\", statistic = \"fisher\")\n",
    "        sigs = append(sigs, classicFisher)\n",
    "        printGraph(GOdata, \n",
    "                   classicFisher, \n",
    "                   firstSigNodes = 5, \n",
    "                   fn.prefix = paste(\"tGO\", \"for\", description(GOdata)), \n",
    "                   #fn.prefix = paste(\"tGOslim\", \"for\", description(GOdata)), \n",
    "                   useInfo = \"all\")\n",
    "        \n",
    "        gt = GenTable(GOdata, \n",
    "                      classicFisher=classicFisher, \n",
    "                      weight01Fisher=weight01Fisher, \n",
    "                      topNodes=length(classicFisher@score), \n",
    "                      orderBy=\"classicFisher\", numChar=1000)\n",
    "        gentables = append(gentables, list(gt))\n",
    "        gt.bh = gt[which(p.adjust(gt[,\"classicFisher\"],method=\"BH\")<=0.05),]\n",
    "        gentables_bh = append(gentables_bh, list(gt.bh))\n",
    "        write.table(gt, file=paste(description(GOdata), \".txt\", sep=\"\"), row.names=F)\n",
    "        write.table(gt.bh, file=paste(description(GOdata), \"_bh.txt\", sep=\"\"), row.names=F)\n",
    "        }    \n",
    "}\n",
    "save.image(\"topgo.Rdata\")"
   ]
  }
 ],
 "metadata": {
  "kernelspec": {
   "display_name": "Python 2",
   "language": "python",
   "name": "python2"
  },
  "language_info": {
   "codemirror_mode": {
    "name": "ipython",
    "version": 2
   },
   "file_extension": ".py",
   "mimetype": "text/x-python",
   "name": "python",
   "nbconvert_exporter": "python",
   "pygments_lexer": "ipython2",
   "version": "2.7.9"
  }
 },
 "nbformat": 4,
 "nbformat_minor": 0
}