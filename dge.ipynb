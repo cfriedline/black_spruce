{
 "metadata": {
  "name": "",
  "signature": "sha256:6d25333d7dd6b56bf8a8a4db11a1f5e72ec07ec3b53b981e60100cafa3632730"
 },
 "nbformat": 3,
 "nbformat_minor": 0,
 "worksheets": [
  {
   "cells": [
    {
     "cell_type": "code",
     "collapsed": false,
     "input": [
      "import pandas as pd\n",
      "import numpy as np\n",
      "import statsmodels as sm\n",
      "from statsmodels.sandbox.stats.multicomp import multipletests"
     ],
     "language": "python",
     "metadata": {},
     "outputs": [],
     "prompt_number": ""
    },
    {
     "cell_type": "code",
     "collapsed": false,
     "input": [
      "count_file = \"seqclean/all_ests.fa.clean_output/contig_member.counts\""
     ],
     "language": "python",
     "metadata": {},
     "outputs": [],
     "prompt_number": ""
    },
    {
     "cell_type": "code",
     "collapsed": false,
     "input": [
      "counts = pd.read_csv(count_file, sep=\"\\t\", header=0, index_col=0)"
     ],
     "language": "python",
     "metadata": {},
     "outputs": [],
     "prompt_number": ""
    },
    {
     "cell_type": "code",
     "collapsed": false,
     "input": [
      "counts[0:5]"
     ],
     "language": "python",
     "metadata": {},
     "outputs": [],
     "prompt_number": ""
    },
    {
     "cell_type": "code",
     "collapsed": false,
     "input": [
      "def combine(row):\n",
      "    return pd.Series([None, (row.P32C+row.P40C), (row.P32N+row.P40N)])\n",
      "combined = counts.apply(combine, axis=1)\n",
      "combined.columns = [\"Descr\", \"C\", \"N\"]\n",
      "combined.index.name = \"UNIQID\""
     ],
     "language": "python",
     "metadata": {},
     "outputs": [],
     "prompt_number": ""
    },
    {
     "cell_type": "code",
     "collapsed": false,
     "input": [
      "combined[0:5]"
     ],
     "language": "python",
     "metadata": {},
     "outputs": [],
     "prompt_number": ""
    },
    {
     "cell_type": "code",
     "collapsed": false,
     "input": [
      "totals = pd.DataFrame(columns=combined.columns)\n",
      "totals.ix['UNIQID',:] = combined.apply(np.sum)\n",
      "totals.ix['UNIQID','Descr'] = 'Descr'\n",
      "totals"
     ],
     "language": "python",
     "metadata": {},
     "outputs": [],
     "prompt_number": ""
    },
    {
     "cell_type": "code",
     "collapsed": false,
     "input": [
      "df = pd.concat([totals, combined])\n",
      "df[0:5]"
     ],
     "language": "python",
     "metadata": {},
     "outputs": [],
     "prompt_number": ""
    },
    {
     "cell_type": "code",
     "collapsed": false,
     "input": [
      "df.Descr[1:] = df.index[1:]"
     ],
     "language": "python",
     "metadata": {},
     "outputs": [],
     "prompt_number": ""
    },
    {
     "cell_type": "code",
     "collapsed": false,
     "input": [
      "new_index = [\"UNIQID\"]\n",
      "new_index.extend([int(x.replace(\"UN\", \"\")) for x in df.index[1:]])\n",
      "new_index[0:5]"
     ],
     "language": "python",
     "metadata": {},
     "outputs": [],
     "prompt_number": ""
    },
    {
     "cell_type": "code",
     "collapsed": false,
     "input": [
      "df.index = new_index"
     ],
     "language": "python",
     "metadata": {},
     "outputs": [],
     "prompt_number": ""
    },
    {
     "cell_type": "code",
     "collapsed": false,
     "input": [
      "df[0:5]"
     ],
     "language": "python",
     "metadata": {},
     "outputs": [],
     "prompt_number": ""
    },
    {
     "cell_type": "code",
     "collapsed": false,
     "input": [
      "def convert_to_int(col):\n",
      "    try:\n",
      "        return col.astype(int)\n",
      "    except:\n",
      "        return col\n",
      "df = df.apply(convert_to_int)\n",
      "        \n",
      "df.to_csv(\"ideg6_counts.txt\", sep=\"\\t\", header=False, index=True, float_format=\"%.0f\")"
     ],
     "language": "python",
     "metadata": {},
     "outputs": [],
     "prompt_number": ""
    },
    {
     "cell_type": "code",
     "collapsed": false,
     "input": [
      "!head ideg6_counts.txt"
     ],
     "language": "python",
     "metadata": {},
     "outputs": [],
     "prompt_number": ""
    },
    {
     "cell_type": "markdown",
     "metadata": {},
     "source": [
      "## Use IDEG6 web tool to calculate differentially expressed genes\n",
      "http://telethon.bio.unipd.it/bioinfo/IDEG6_form/"
     ]
    },
    {
     "cell_type": "code",
     "collapsed": false,
     "input": [
      "bonferroni_p = 2.570694e-05"
     ],
     "language": "python",
     "metadata": {},
     "outputs": [],
     "prompt_number": ""
    },
    {
     "cell_type": "code",
     "collapsed": false,
     "input": [
      "results = pd.read_csv(\"ideg6_results.txt\", sep=\"\\t\", header=0, index_col=0)\n",
      "results.columns = [x.replace(\".\", \"\") for x in results.columns]\n",
      "results.columns = [x.replace(\"-\", \"_\") for x in results.columns]\n",
      "results.columns = [x.strip() for x in results.columns]\n",
      "results = results.ix[:,:-1] #drop extra column at the end"
     ],
     "language": "python",
     "metadata": {},
     "outputs": [],
     "prompt_number": ""
    },
    {
     "cell_type": "code",
     "collapsed": false,
     "input": [
      "stat_cols = [u'AC1_2', u'Fisher1_2', u'Chi2x21_2', u'R', u'Chi']"
     ],
     "language": "python",
     "metadata": {},
     "outputs": [],
     "prompt_number": ""
    },
    {
     "cell_type": "code",
     "collapsed": false,
     "input": [
      "def fdr_bh(pvals):\n",
      "    return multipletests(pvals, method=\"fdr_bh\")[1]"
     ],
     "language": "python",
     "metadata": {},
     "outputs": [],
     "prompt_number": ""
    },
    {
     "cell_type": "code",
     "collapsed": false,
     "input": [
      "fdr_results = results[stat_cols].apply(fdr_bh)\n",
      "fdr_results.columns = [\"%s_fdr\" % x for x in fdr_results.columns]"
     ],
     "language": "python",
     "metadata": {},
     "outputs": [],
     "prompt_number": ""
    },
    {
     "cell_type": "code",
     "collapsed": false,
     "input": [
      "results_df = results.join(fdr_results)"
     ],
     "language": "python",
     "metadata": {},
     "outputs": [],
     "prompt_number": ""
    },
    {
     "cell_type": "code",
     "collapsed": false,
     "input": [
      "results_df.columns"
     ],
     "language": "python",
     "metadata": {},
     "outputs": [],
     "prompt_number": ""
    },
    {
     "cell_type": "code",
     "collapsed": false,
     "input": [
      "fdr_cols = [u'AC1_2_fdr', u'Fisher1_2_fdr', u'Chi2x21_2_fdr', u'R_fdr', u'Chi_fdr']"
     ],
     "language": "python",
     "metadata": {},
     "outputs": [],
     "prompt_number": ""
    },
    {
     "cell_type": "code",
     "collapsed": false,
     "input": [
      "fdr_res = pd.DataFrame(index=['total','bh_p<0.05'])\n",
      "for col in fdr_cols:\n",
      "    d = results_df[col]\n",
      "    fdr_res[col] = [len(d), len(d[d<0.05])]\n",
      "fdr_res.T"
     ],
     "language": "python",
     "metadata": {},
     "outputs": [],
     "prompt_number": ""
    },
    {
     "cell_type": "code",
     "collapsed": false,
     "input": [
      "stat_res = pd.DataFrame(index=['total','p<0.05', 'p<bonferroni'])\n",
      "for col in stat_cols:\n",
      "    d = results_df[col]\n",
      "    stat_res[col] = [len(d), len(d[d<0.05]), len(d[d<bonferroni_p])]\n",
      "stat_res.T"
     ],
     "language": "python",
     "metadata": {},
     "outputs": [],
     "prompt_number": ""
    },
    {
     "cell_type": "code",
     "collapsed": false,
     "input": [
      "pd.concat([stat_res.T, fdr_res.T])"
     ],
     "language": "python",
     "metadata": {},
     "outputs": [],
     "prompt_number": ""
    },
    {
     "cell_type": "code",
     "collapsed": false,
     "input": [],
     "language": "python",
     "metadata": {},
     "outputs": []
    }
   ],
   "metadata": {}
  }
 ]
}