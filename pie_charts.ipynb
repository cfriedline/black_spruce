{
 "cells": [
  {
   "cell_type": "code",
   "execution_count": "0",
   "metadata": {
    "collapsed": true
   },
   "outputs": [],
   "source": [
    "from itertools import izip\n",
    "import pandas as pd\n",
    "import matplotlib.pyplot as plt\n",
    "%matplotlib inline\n",
    "import seaborn as sns\n",
    "import dill"
   ]
  },
  {
   "cell_type": "code",
   "execution_count": "0",
   "metadata": {
    "collapsed": false
   },
   "outputs": [],
   "source": [
    "cd ~/g/projects/black_spruce/"
   ]
  },
  {
   "cell_type": "code",
   "execution_count": "0",
   "metadata": {
    "collapsed": true
   },
   "outputs": [],
   "source": [
    "all_graphs = !ls *graph*all*.txt\n",
    "needle_graphs = !ls *graph*needle*.txt\n",
    "cambium_graphs = !ls *graph*cambium*.txt\n"
   ]
  },
  {
   "cell_type": "code",
   "execution_count": "0",
   "metadata": {
    "collapsed": false
   },
   "outputs": [],
   "source": [
    "graphs = {\"All\":all_graphs,\n",
    "         \"Needle\":needle_graphs,\n",
    "         \"Cambium\":cambium_graphs}"
   ]
  },
  {
   "cell_type": "code",
   "execution_count": "0",
   "metadata": {
    "collapsed": false
   },
   "outputs": [],
   "source": [
    "gentables = dill.load(open(\"gentables.dill\"))"
   ]
  },
  {
   "cell_type": "code",
   "execution_count": "0",
   "metadata": {
    "collapsed": false
   },
   "outputs": [],
   "source": [
    "sns.set_context(\"notebook\", font_scale=1.2)"
   ]
  },
  {
   "cell_type": "code",
   "execution_count": "0",
   "metadata": {
    "collapsed": false
   },
   "outputs": [],
   "source": [
    "def plot_pie(plot_data, title, merged):\n",
    "    unique_seqs = set()\n",
    "    sig = \"\"\n",
    "    fig = plt.gcf()\n",
    "    fig.set_size_inches(8,8)\n",
    "    plot_data = pd.DataFrame(plot_data.ix[0:20,:])\n",
    "    labels = None\n",
    "    colors = sns.color_palette(\"hls\", len(plot_data))\n",
    "    colors = sns.color_palette(\"Blues_r\", len(plot_data))\n",
    "    colors = sns.color_palette(\"cubehelix\", len(plot_data))\n",
    "    colors = sns.cubehelix_palette(len(plot_data), reverse=True)\n",
    "    colors = sns.cubehelix_palette(len(plot_data), \n",
    "                                   start=.5, \n",
    "                                   rot=-1.5, \n",
    "                                   dark=.15, \n",
    "                                   light=1.0, \n",
    "                                   reverse=True)\n",
    "    if merged:\n",
    "        plot_data['Label'] = plot_data.apply(lambda row: \"%s (%d)\" % (row[\"Term_x\"],row[\"#Seqs\"]), axis=1)\n",
    "        plot_data['sig1'] = plot_data.apply(lambda x: \"*\" if float(x.classicFisher) < 0.05 else \"\", axis=1)\n",
    "        plot_data['sig2'] = plot_data.apply(lambda x: \"*\" if x.bh == True else \"\", axis=1)\n",
    "        plot_data['siglabel'] = plot_data.apply(lambda row: \"%s%s%s\" % (row.Label, row.sig1, row.sig2), axis=1)\n",
    "        labels = plot_data['siglabel']\n",
    "    else:\n",
    "        plot_data['Label'] = plot_data.apply(lambda row: \"%s (%d)\" % (row[\"Term\"],row[\"#Seqs\"]), axis=1)\n",
    "        labels = plot_data['Label']\n",
    "\n",
    "    plt.pie(plot_data[\"#Seqs\"],\n",
    "           colors=colors,\n",
    "           labels = labels)\n",
    "    \n",
    "    for row in plot_data.iterrows():\n",
    "        for seq in row[1].Sequences.split(\",\"):\n",
    "            unique_seqs.add(seq)\n",
    "    \n",
    "    plt.title(\"%s (%d)%s\"  % (title, len(unique_seqs), sig))\n",
    "\n",
    "    plt.show()"
   ]
  },
  {
   "cell_type": "code",
   "execution_count": "0",
   "metadata": {
    "collapsed": false,
    "scrolled": false
   },
   "outputs": [],
   "source": [
    "plotted = 0\n",
    "for key, files in graphs.items():\n",
    "    if key:\n",
    "        print \"================= Charts for %s =================\" % key\n",
    "        for g in files:\n",
    "            ontology = g[-6:-4].upper()\n",
    "            df = pd.read_csv(g, sep=\"\\t\", header=0, index_col=1)\n",
    "            genkey = \"%s-%s\" % (key.lower(), ontology)\n",
    "            merged = False\n",
    "            if genkey in gentables:\n",
    "                gt = gentables[genkey]['gt']\n",
    "                gt.index = gt['GO.ID']\n",
    "                df = df.merge(gt, left_index=True, right_index=True)\n",
    "                merged = True\n",
    "            for level, data in df.groupby(\"Level\"):\n",
    "                if level > 1:\n",
    "                    d = data.sort(\"#Seqs\", ascending=False)\n",
    "                    plot_pie(d, \"%s/%s/Level %d\" % (key, ontology, level), merged)\n",
    "                    plotted += 1"
   ]
  },
  {
   "cell_type": "code",
   "execution_count": "0",
   "metadata": {
    "collapsed": false
   },
   "outputs": [],
   "source": [
    "plotted"
   ]
  },
  {
   "cell_type": "code",
   "execution_count": "0",
   "metadata": {
    "collapsed": true
   },
   "outputs": [],
   "source": []
  }
 ],
 "metadata": {
  "kernelspec": {
   "display_name": "Python 2",
   "language": "python",
   "name": "python2"
  },
  "language_info": {
   "codemirror_mode": {
    "name": "ipython",
    "version": 2
   },
   "file_extension": ".py",
   "mimetype": "text/x-python",
   "name": "python",
   "nbconvert_exporter": "python",
   "pygments_lexer": "ipython2",
   "version": "2.7.9"
  }
 },
 "nbformat": 4,
 "nbformat_minor": 0
}