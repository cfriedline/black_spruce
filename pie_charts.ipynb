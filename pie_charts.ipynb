{
 "cells": [
  {
   "cell_type": "code",
   "execution_count": "0",
   "metadata": {
    "collapsed": true
   },
   "outputs": [],
   "source": [
    "from itertools import izip\n",
    "import pandas as pd\n",
    "import matplotlib.pyplot as plt\n",
    "%matplotlib inline\n",
    "import seaborn as sns"
   ]
  },
  {
   "cell_type": "code",
   "execution_count": "0",
   "metadata": {
    "collapsed": false
   },
   "outputs": [],
   "source": [
    "cd ~/g/projects/black_spruce/"
   ]
  },
  {
   "cell_type": "code",
   "execution_count": "0",
   "metadata": {
    "collapsed": true
   },
   "outputs": [],
   "source": [
    "all_graphs = !ls *graph*all*.txt\n",
    "needle_graphs = !ls *graph*needle*.txt\n",
    "cambium_graphs = !ls *graph*cambium*.txt\n"
   ]
  },
  {
   "cell_type": "code",
   "execution_count": "0",
   "metadata": {
    "collapsed": false
   },
   "outputs": [],
   "source": [
    "graphs = {\"All\":all_graphs,\n",
    "         \"Needle\":needle_graphs,\n",
    "         \"Cambium\":cambium_graphs}"
   ]
  },
  {
   "cell_type": "code",
   "execution_count": "0",
   "metadata": {
    "collapsed": false
   },
   "outputs": [],
   "source": [
    "def plot_pie(plot_data, title):\n",
    "    unique_seqs = set()\n",
    "    \n",
    "    fig = plt.gcf()\n",
    "    fig.set_size_inches(8,8)\n",
    "    plot_data = plot_data.ix[0:20,[\"Term\", \"#Seqs\",\"Sequences\"]]\n",
    "    plot_data['Label'] = plot_data.apply(lambda row: \"%s (%d)\" % (row[\"Term\"],row[\"#Seqs\"]), axis=1)\n",
    "    plt.pie(plot_data[\"#Seqs\"],\n",
    "           colors=sns.color_palette(\"hls\", len(plot_data)),\n",
    "           labels = plot_data[\"Label\"])\n",
    "    \n",
    "    for row in plot_data.iterrows():\n",
    "        for seq in row[1].Sequences.split(\",\"):\n",
    "            unique_seqs.add(seq)\n",
    "    \n",
    "    plt.title(\"%s (%d)\"  % (title, len(unique_seqs)))\n",
    "\n",
    "    plt.show()"
   ]
  },
  {
   "cell_type": "code",
   "execution_count": "0",
   "metadata": {
    "collapsed": false,
    "scrolled": false
   },
   "outputs": [],
   "source": [
    "plotted = 0\n",
    "for key, files in graphs.items():\n",
    "    print \"================= Charts for %s =================\" % key\n",
    "    for g in files:\n",
    "        ontology = g[-6:-4].upper()\n",
    "        df = pd.read_csv(g, sep=\"\\t\", header=0, index_col=1)\n",
    "        for level, data in df.groupby(\"Level\"):\n",
    "            if level > 1:\n",
    "                d = data.sort(\"#Seqs\", ascending=False)\n",
    "                plot_pie(d, \"%s/%s/Level %d\" % (key, ontology, level))\n",
    "                plotted += 1"
   ]
  },
  {
   "cell_type": "code",
   "execution_count": "0",
   "metadata": {
    "collapsed": false
   },
   "outputs": [],
   "source": [
    "plotted"
   ]
  },
  {
   "cell_type": "code",
   "execution_count": "0",
   "metadata": {
    "collapsed": true
   },
   "outputs": [],
   "source": []
  }
 ],
 "metadata": {
  "kernelspec": {
   "display_name": "Python 2",
   "language": "python",
   "name": "python2"
  },
  "language_info": {
   "codemirror_mode": {
    "name": "ipython",
    "version": 2
   },
   "file_extension": ".py",
   "mimetype": "text/x-python",
   "name": "python",
   "nbconvert_exporter": "python",
   "pygments_lexer": "ipython2",
   "version": "2.7.9"
  }
 },
 "nbformat": 4,
 "nbformat_minor": 0
}