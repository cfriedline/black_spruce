{
 "metadata": {
  "name": ""
 },
 "nbformat": 3,
 "nbformat_minor": 0,
 "worksheets": [
  {
   "cells": [
    {
     "cell_type": "code",
     "collapsed": false,
     "input": [
      "import Bio, os, sys, shutil\n",
      "from Bio import SeqIO\n",
      "import matplotlib.pyplot as plt\n",
      "%matplotlib inline\n",
      "from IPython.parallel import Client\n",
      "import numpy as np\n",
      "import scipy as sp"
     ],
     "language": "python",
     "metadata": {},
     "outputs": []
    },
    {
     "cell_type": "code",
     "collapsed": false,
     "input": [
      "scf_dirs = set()\n",
      "scf_count = 0\n",
      "for root, dirs, files in os.walk(\".\"):\n",
      "    for f in files:\n",
      "        if f.endswith(\".SCF\"):\n",
      "            p = os.path.join(root, f)\n",
      "            p_new = p.replace(\".SCF\", \".scf\")\n",
      "            shutil.move(p, p_new)\n",
      "            scf_dirs.add(os.path.dirname(p_new))\n",
      "            scf_count += 1\n",
      "        elif f.endswith(\".scf\"):\n",
      "            scf_dirs.add(os.path.dirname(os.path.join(root, f)))\n",
      "            scf_count+=1\n",
      "print \"found %d scf files in %d dirs\" % (scf_count, len(scf_dirs))"
     ],
     "language": "python",
     "metadata": {},
     "outputs": []
    },
    {
     "cell_type": "code",
     "collapsed": false,
     "input": [
      "scf_dirs\n",
      "seq_dirs = [os.path.abspath(\"%s_seq\" % x) for x in scf_dirs]"
     ],
     "language": "python",
     "metadata": {},
     "outputs": []
    },
    {
     "cell_type": "code",
     "collapsed": false,
     "input": [
      "rc = Client()\n",
      "dview = rc[:]\n",
      "lview = rc.load_balanced_view()"
     ],
     "language": "python",
     "metadata": {},
     "outputs": []
    },
    {
     "cell_type": "code",
     "collapsed": false,
     "input": [
      "@lview.remote()\n",
      "def run_phred(d, phred_cutoff):\n",
      "    r = !~/src/phred-dist-020425.c-acd/phred -id {d.replace(\"_seq\", \"\")} -sd {d} -qd {d} -trim_fasta -trim_alt \"\" -trim_cutoff {phred_cutoff}\n",
      "    return r"
     ],
     "language": "python",
     "metadata": {},
     "outputs": []
    },
    {
     "cell_type": "code",
     "collapsed": false,
     "input": [
      "phred_cutoff = 0.01\n",
      "phred_res = []\n",
      "for d in seq_dirs:\n",
      "    if not os.path.exists(d):\n",
      "        os.mkdir(d)\n",
      "    phred_res.append(run_phred(d, phred_cutoff))"
     ],
     "language": "python",
     "metadata": {},
     "outputs": []
    },
    {
     "cell_type": "code",
     "collapsed": false,
     "input": [
      "for r in phred_res:\n",
      "    print r.status"
     ],
     "language": "python",
     "metadata": {},
     "outputs": []
    },
    {
     "cell_type": "code",
     "collapsed": false,
     "input": [
      "reads = {}\n",
      "for seq_dir in seq_dirs:\n",
      "    reads[seq_dir] = []\n",
      "    seq_files = !ls {seq_dir} | grep .seq\n",
      "    seq_files = [os.path.join(seq_dir, x) for x in seq_files]\n",
      "    for seq_file in seq_files:\n",
      "        reads[seq_dir].append(SeqIO.read(seq_file, \"fasta\"))"
     ],
     "language": "python",
     "metadata": {},
     "outputs": []
    },
    {
     "cell_type": "code",
     "collapsed": false,
     "input": [
      "good_reads = {}\n",
      "for k, v in reads.items():\n",
      "    good_reads[k] = []\n",
      "    for read in v:\n",
      "        if len(read) >= 100:\n",
      "            good_reads[k].append(read)"
     ],
     "language": "python",
     "metadata": {},
     "outputs": []
    },
    {
     "cell_type": "code",
     "collapsed": false,
     "input": [
      "def read_hist(read_dict):\n",
      "    lens = []\n",
      "    for k, v in read_dict.items():\n",
      "        for r in v:\n",
      "            lens.append(len(r))\n",
      "    plt.hist(lens)\n",
      "    plt.xlabel(\"read length\")\n",
      "    plt.ylabel(\"count\")\n",
      "    plt.title(\"%d reads, mean(len) = %.2f\" % (len(lens), np.mean(lens)))\n",
      "    plt.show()"
     ],
     "language": "python",
     "metadata": {},
     "outputs": []
    },
    {
     "cell_type": "code",
     "collapsed": false,
     "input": [
      "read_hist(reads)"
     ],
     "language": "python",
     "metadata": {},
     "outputs": []
    },
    {
     "cell_type": "code",
     "collapsed": false,
     "input": [
      "read_hist(good_reads)"
     ],
     "language": "python",
     "metadata": {},
     "outputs": []
    },
    {
     "cell_type": "code",
     "collapsed": false,
     "input": [
      "names = {'im_bscp32N_seq':'P32N', \n",
      "         'im_bscp32C_seq':'P32C', \n",
      "         'BSCP40N_seq':'P40N', \n",
      "         'BSCP40C_seq':'P40C'}\n",
      "for k, reads in good_reads.items():\n",
      "    key = os.path.basename(k)\n",
      "    with open(\"%s.fa\" % names[key], \"w\") as out:\n",
      "        SeqIO.write(reads, out, \"fasta\")"
     ],
     "language": "python",
     "metadata": {},
     "outputs": []
    },
    {
     "cell_type": "code",
     "collapsed": false,
     "input": [
      "!grep -c \">\" *.fa"
     ],
     "language": "python",
     "metadata": {},
     "outputs": []
    },
    {
     "cell_type": "code",
     "collapsed": false,
     "input": [
      "class Qual:\n",
      "    def __init__(self, name):\n",
      "        self.name = name.split()[0]\n",
      "        self.description = name\n",
      "        self.vals = []\n",
      "        \n",
      "    def __str__(self):\n",
      "        return \">%s\\n%s\" % (self.description, ' '.join(self.vals))\n",
      "    \n",
      "    def add_vals(self, line):\n",
      "        self.vals.append(line)"
     ],
     "language": "python",
     "metadata": {},
     "outputs": []
    },
    {
     "cell_type": "code",
     "collapsed": false,
     "input": [
      "qual_dirs = seq_dirs"
     ],
     "language": "python",
     "metadata": {},
     "outputs": []
    },
    {
     "cell_type": "code",
     "collapsed": false,
     "input": [
      "qual_dirs"
     ],
     "language": "python",
     "metadata": {},
     "outputs": []
    },
    {
     "cell_type": "code",
     "collapsed": false,
     "input": [
      "good_read_names = set()\n",
      "for k, v in good_reads.items():\n",
      "    for r in v:\n",
      "        good_read_names.add(r.description)\n",
      "for qual_dir in qual_dirs:\n",
      "    print qual_dir\n",
      "    quals = !ls {qual_dir} | grep .qual\n",
      "    quals = [os.path.join(qual_dir, x) for x in quals]\n",
      "    q = None\n",
      "    qual_list = []\n",
      "    for qual in quals:\n",
      "        for line in open(qual):\n",
      "            line = line.strip()\n",
      "            if line.startswith(\">\"):\n",
      "                q = Qual(line[1:])\n",
      "                qual_list.append(q)\n",
      "            else:\n",
      "                q.add_vals(line)\n",
      "    key = os.path.basename(qual_dir)\n",
      "    with open(\"%s.qual\" % names[key], \"w\") as out:\n",
      "        for q in qual_list:\n",
      "            if len(q.vals) > 0:\n",
      "                out.write(\"%s\\n\" % str(q))"
     ],
     "language": "python",
     "metadata": {},
     "outputs": []
    },
    {
     "cell_type": "code",
     "collapsed": false,
     "input": [],
     "language": "python",
     "metadata": {},
     "outputs": []
    }
   ],
   "metadata": {}
  }
 ]
}