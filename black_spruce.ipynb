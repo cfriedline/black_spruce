{
 "metadata": {
  "name": "",
  "signature": "sha256:12cd9b53ce98a564c59777632efd91004d7e98d77c42b1fe4377117125f672cd"
 },
 "nbformat": 3,
 "nbformat_minor": 0,
 "worksheets": [
  {
   "cells": [
    {
     "cell_type": "code",
     "collapsed": false,
     "input": [
      "import Bio, os, sys, shutil\n",
      "from Bio import SeqIO, SearchIO\n",
      "import matplotlib\n",
      "import matplotlib.pyplot as plt\n",
      "%matplotlib inline\n",
      "from IPython.parallel import Client\n",
      "import numpy as np\n",
      "import scipy as sp\n",
      "import dill as pickle\n",
      "from Bio.Blast import NCBIXML\n",
      "import pandas as pd\n",
      "from pprint import pprint\n",
      "from lxml import etree\n",
      "from __future__ import division\n",
      "from IPython.display import FileLinks, FileLink"
     ],
     "language": "python",
     "metadata": {},
     "outputs": [],
     "prompt_number": ""
    },
    {
     "cell_type": "code",
     "collapsed": false,
     "input": [
      "cd \"~/projects/black_spruce/\""
     ],
     "language": "python",
     "metadata": {},
     "outputs": [],
     "prompt_number": ""
    },
    {
     "cell_type": "code",
     "collapsed": false,
     "input": [
      "scf_dirs = set()\n",
      "scf_count = 0\n",
      "for root, dirs, files in os.walk(\".\"):\n",
      "    for f in files:\n",
      "        if f.endswith(\".SCF\"):\n",
      "            p = os.path.join(root, f)\n",
      "            p_new = p.replace(\".SCF\", \".scf\")\n",
      "            shutil.move(p, p_new)\n",
      "            scf_dirs.add(os.path.dirname(p_new))\n",
      "            scf_count += 1\n",
      "        elif f.endswith(\".scf\"):\n",
      "            scf_dirs.add(os.path.dirname(os.path.join(root, f)))\n",
      "            scf_count+=1\n",
      "print \"found %d scf files in %d dirs\" % (scf_count, len(scf_dirs))"
     ],
     "language": "python",
     "metadata": {},
     "outputs": [],
     "prompt_number": ""
    },
    {
     "cell_type": "markdown",
     "metadata": {},
     "source": [
      "    found 7232 scf files in 4 dirs"
     ]
    },
    {
     "cell_type": "code",
     "collapsed": false,
     "input": [
      "scf_dirs\n",
      "seq_dirs = [os.path.abspath(\"%s_seq\" % x) for x in scf_dirs]\n",
      "seq_dirs"
     ],
     "language": "python",
     "metadata": {},
     "outputs": [],
     "prompt_number": ""
    },
    {
     "cell_type": "code",
     "collapsed": false,
     "input": [
      "rc = Client()\n",
      "dview = rc[:]\n",
      "lview = rc.load_balanced_view()"
     ],
     "language": "python",
     "metadata": {},
     "outputs": []
    },
    {
     "cell_type": "code",
     "collapsed": false,
     "input": [
      "print len(dview)"
     ],
     "language": "python",
     "metadata": {},
     "outputs": []
    },
    {
     "cell_type": "code",
     "collapsed": false,
     "input": [
      "@lview.remote()\n",
      "def run_phred(d, phred_cutoff):\n",
      "    import os\n",
      "    os.environ['PHRED_PARAMETER_FILE'] = '/Users/chris/src/phred-dist-020425.c-acd/phredpar.dat'\n",
      "    r = !~/src/phred-dist-020425.c-acd/phred -id {d.replace(\"_seq\", \"\")} -sd {d} -qd {d} -trim_fasta -trim_alt \"\" -trim_cutoff {phred_cutoff}\n",
      "    return r"
     ],
     "language": "python",
     "metadata": {},
     "outputs": []
    },
    {
     "cell_type": "code",
     "collapsed": false,
     "input": [
      "phred_cutoff = 0.01\n",
      "phred_res = []\n",
      "for d in seq_dirs:\n",
      "    if not os.path.exists(d):\n",
      "        os.mkdir(d)\n",
      "    phred_res.append(run_phred(d, phred_cutoff))"
     ],
     "language": "python",
     "metadata": {},
     "outputs": []
    },
    {
     "cell_type": "code",
     "collapsed": false,
     "input": [
      "reads = {}\n",
      "for seq_dir in seq_dirs:\n",
      "    reads[seq_dir] = []\n",
      "    seq_files = !ls {seq_dir} | grep .seq\n",
      "    seq_files = [os.path.join(seq_dir, x) for x in seq_files]\n",
      "    for seq_file in seq_files:\n",
      "        reads[seq_dir].append(SeqIO.read(seq_file, \"fasta\"))\n",
      "print reads.keys()"
     ],
     "language": "python",
     "metadata": {},
     "outputs": [],
     "prompt_number": ""
    },
    {
     "cell_type": "code",
     "collapsed": false,
     "input": [
      "good_reads = {}\n",
      "for k, v in reads.items():\n",
      "    good_reads[k] = []\n",
      "    for read in v:\n",
      "        if len(read) >= 100:\n",
      "            good_reads[k].append(read)\n",
      "\n",
      "print \"good reads in:\"\n",
      "for k, v in good_reads.items():\n",
      "    print \"%s: %d\" % (os.path.basename(k), len(v))"
     ],
     "language": "python",
     "metadata": {},
     "outputs": [],
     "prompt_number": ""
    },
    {
     "cell_type": "markdown",
     "metadata": {},
     "source": [
      "    good reads in:\n",
      "    im_bscp32N_seq: 1479\n",
      "    im_bscp32C_seq: 1551\n",
      "    BSCP40C_seq: 1693\n",
      "    BSCP40N_seq: 1273"
     ]
    },
    {
     "cell_type": "code",
     "collapsed": false,
     "input": [
      "def read_hist(read_dict):\n",
      "    lens = []\n",
      "    for k, v in read_dict.items():\n",
      "        for r in v:\n",
      "            lens.append(len(r))\n",
      "    plt.hist(lens)\n",
      "    plt.xlabel(\"read length\")\n",
      "    plt.ylabel(\"count\")\n",
      "    title = \"%d reads, mean(len) = %.2f, sd=%.2f, [%d, %d]\" % (len(lens), np.mean(lens), \n",
      "                                                        np.std(lens), np.min(lens), np.max(lens))\n",
      "    plt.title(title)\n",
      "    plt.show()\n",
      "    print title"
     ],
     "language": "python",
     "metadata": {},
     "outputs": [],
     "prompt_number": ""
    },
    {
     "cell_type": "code",
     "collapsed": false,
     "input": [
      "def read_hist_ind(read_list):\n",
      "    read_dict = {\"dummy\":read_list}\n",
      "    read_hist(read_dict)"
     ],
     "language": "python",
     "metadata": {},
     "outputs": [],
     "prompt_number": ""
    },
    {
     "cell_type": "code",
     "collapsed": false,
     "input": [
      "read_hist(reads)"
     ],
     "language": "python",
     "metadata": {},
     "outputs": [],
     "prompt_number": ""
    },
    {
     "cell_type": "markdown",
     "metadata": {},
     "source": [
      "    7153 reads, mean(len) = 470.17, sd=253.69, [0, 903]"
     ]
    },
    {
     "cell_type": "code",
     "collapsed": false,
     "input": [
      "read_hist(good_reads)"
     ],
     "language": "python",
     "metadata": {},
     "outputs": [],
     "prompt_number": ""
    },
    {
     "cell_type": "markdown",
     "metadata": {},
     "source": [
      "    5996 reads, mean(len) = 556.08, sd=175.99, [100, 903]"
     ]
    },
    {
     "cell_type": "code",
     "collapsed": false,
     "input": [
      "names = {'im_bscp32N_seq':'P32N', \n",
      "         'im_bscp32C_seq':'P32C', \n",
      "         'BSCP40N_seq':'P40N', \n",
      "         'BSCP40C_seq':'P40C'}\n",
      "for k, reads in good_reads.items():\n",
      "    key = os.path.basename(k)\n",
      "    with open(\"%s.fa\" % names[key], \"w\") as out:\n",
      "        SeqIO.write(reads, out, \"fasta\")"
     ],
     "language": "python",
     "metadata": {},
     "outputs": []
    },
    {
     "cell_type": "code",
     "collapsed": false,
     "input": [
      "good_files = !grep -c \">\" *.fa | grep -v primer\n",
      "good_files = [os.path.abspath(x.split(':')[0]) for x in good_files]\n",
      "print good_files"
     ],
     "language": "python",
     "metadata": {},
     "outputs": [],
     "prompt_number": ""
    },
    {
     "cell_type": "code",
     "collapsed": false,
     "input": [
      "class Qual:\n",
      "    def __init__(self, name):\n",
      "        self.name = name.split()[0]\n",
      "        self.description = name\n",
      "        self.vals = []\n",
      "        \n",
      "    def __str__(self):\n",
      "        return \">%s\\n%s\" % (self.name, ' '.join(self.vals))\n",
      "    \n",
      "    def add_vals(self, line):\n",
      "        self.vals.append(line)"
     ],
     "language": "python",
     "metadata": {},
     "outputs": [],
     "prompt_number": ""
    },
    {
     "cell_type": "code",
     "collapsed": false,
     "input": [
      "qual_dirs = seq_dirs"
     ],
     "language": "python",
     "metadata": {},
     "outputs": [],
     "prompt_number": ""
    },
    {
     "cell_type": "code",
     "collapsed": false,
     "input": [
      "qual_dirs"
     ],
     "language": "python",
     "metadata": {},
     "outputs": [],
     "prompt_number": ""
    },
    {
     "cell_type": "code",
     "collapsed": false,
     "input": [
      "good_read_names = set()\n",
      "for k, v in good_reads.items():\n",
      "    for r in v:\n",
      "        good_read_names.add(r.name)\n",
      "for qual_dir in qual_dirs:\n",
      "    print qual_dir\n",
      "    quals = !ls {qual_dir} | grep .qual\n",
      "    quals = [os.path.join(qual_dir, x) for x in quals]\n",
      "    q = None\n",
      "    qual_list = []\n",
      "    for qual in quals:\n",
      "        for line in open(qual):\n",
      "            line = line.strip()\n",
      "            if line.startswith(\">\"):\n",
      "                q = Qual(line[1:])\n",
      "                qual_list.append(q)\n",
      "            else:\n",
      "                q.add_vals(line)\n",
      "    key = os.path.basename(qual_dir)\n",
      "    with open(\"%s.qual\" % names[key], \"w\") as out:\n",
      "        for q in qual_list:\n",
      "            if len(q.vals) > 0:\n",
      "                out.write(\"%s\\n\" % str(q))"
     ],
     "language": "python",
     "metadata": {},
     "outputs": []
    },
    {
     "cell_type": "code",
     "collapsed": false,
     "input": [
      "good_files"
     ],
     "language": "python",
     "metadata": {},
     "outputs": [],
     "prompt_number": ""
    },
    {
     "cell_type": "markdown",
     "metadata": {},
     "source": [
      "##Must run seqclean on linux (cdbfasta does not run on Mac).\n",
      "\n",
      "1. Shutdown running mac notebook\n",
      "1. start linux vm\n",
      "1. relaunch notebook from shared folder\n",
      "\n",
      "For example:\n",
      "\n",
      "    chris@vm:~/projects/black_spruce/seqclean$ ~/src/seqclean-x86_64/seqclean P40C.fa -v ~/src/UniVec/UniVec -s ~/projects/Escherichia_coli_K_12_substr__DH10B_uid58979/NC_010473.fna"
     ]
    },
    {
     "cell_type": "code",
     "collapsed": false,
     "input": [
      "cd seqclean/"
     ],
     "language": "python",
     "metadata": {},
     "outputs": [],
     "prompt_number": ""
    },
    {
     "cell_type": "code",
     "collapsed": false,
     "input": [
      "seq_clean_files = !ls *.clean"
     ],
     "language": "python",
     "metadata": {},
     "outputs": [],
     "prompt_number": ""
    },
    {
     "cell_type": "code",
     "collapsed": false,
     "input": [
      "seq_clean_files = [os.path.abspath(x) for x in seq_clean_files]"
     ],
     "language": "python",
     "metadata": {},
     "outputs": [],
     "prompt_number": ""
    },
    {
     "cell_type": "code",
     "collapsed": false,
     "input": [
      "seq_clean_reads = {}\n",
      "for f in seq_clean_files:\n",
      "    seq_clean_reads[f] = []\n",
      "    for read in SeqIO.parse(f, \"fasta\"):\n",
      "        seq_clean_reads[f].append(read)"
     ],
     "language": "python",
     "metadata": {},
     "outputs": [],
     "prompt_number": ""
    },
    {
     "cell_type": "code",
     "collapsed": false,
     "input": [
      "read_hist(seq_clean_reads)"
     ],
     "language": "python",
     "metadata": {},
     "outputs": [],
     "prompt_number": ""
    },
    {
     "cell_type": "markdown",
     "metadata": {},
     "source": [
      "    5630 reads, mean(len) = 445.96, sd=144.39, [100, 842]"
     ]
    },
    {
     "cell_type": "markdown",
     "metadata": {},
     "source": [
      "##Run iAssembler\n",
      "\n",
      "Again, have to use linux b/c not supported on Mac.  `*.clean` files moved to `seqclean`\n",
      " directory for processing\n",
      "\n",
      "For example:\n",
      "\n",
      "    (conda)chris@vm:~/projects/black_spruce/seqclean$ ~/src/iAssembler-v1.3.2.x64/iAssembler.pl -i P32C.fa.clean "
     ]
    },
    {
     "cell_type": "markdown",
     "metadata": {},
     "source": [
      "##Rename unigene files according to source sample"
     ]
    },
    {
     "cell_type": "code",
     "collapsed": false,
     "input": [
      "cd ~/projects/black_spruce/seqclean"
     ],
     "language": "python",
     "metadata": {},
     "outputs": [],
     "prompt_number": ""
    },
    {
     "cell_type": "code",
     "collapsed": false,
     "input": [
      "pwd"
     ],
     "language": "python",
     "metadata": {},
     "outputs": [],
     "prompt_number": ""
    },
    {
     "cell_type": "code",
     "collapsed": false,
     "input": [
      "output_dirs = !ls | grep _output"
     ],
     "language": "python",
     "metadata": {},
     "outputs": [],
     "prompt_number": ""
    },
    {
     "cell_type": "code",
     "collapsed": false,
     "input": [
      "output_dirs = [os.path.abspath(x) for x in output_dirs]\n",
      "output_dirs"
     ],
     "language": "python",
     "metadata": {},
     "outputs": [],
     "prompt_number": ""
    },
    {
     "cell_type": "code",
     "collapsed": false,
     "input": [
      "import shutil\n",
      "assembled_files = {}\n",
      "for o in output_dirs:\n",
      "    assembled_files[o] = []\n",
      "    key = os.path.basename(o).split(\".\")[0]\n",
      "    for f in os.listdir(o):\n",
      "        if not key in f:\n",
      "            f_name = \"%s_%s\" % (key, f)\n",
      "            shutil.copy(os.path.join(o, f), os.path.join(o, f_name))\n",
      "            assembled_files[o].append(os.path.join(o, f_name))"
     ],
     "language": "python",
     "metadata": {},
     "outputs": [],
     "prompt_number": ""
    },
    {
     "cell_type": "code",
     "collapsed": false,
     "input": [
      "assembled_fasta = [] \n",
      "for o in output_dirs:\n",
      "    fasta_files = !find $o | grep .fasta\n",
      "    for f in fasta_files:\n",
      "        res = !grep -c \">\" $f\n",
      "        print os.path.basename(os.path.dirname(f)), os.path.basename(f), res[0]\n",
      "        assembled_fasta.append(f)\n",
      "        break"
     ],
     "language": "python",
     "metadata": {},
     "outputs": [],
     "prompt_number": ""
    },
    {
     "cell_type": "markdown",
     "metadata": {},
     "source": [
      "    P32C.fa.clean_output P32C_unigene_seq.fasta 328\n",
      "    P32N.fa.clean_output P32N_unigene_seq.fasta 730\n",
      "    P40C.fa.clean_output P40C_unigene_seq.fasta 434\n",
      "    P40N.fa.clean_output P40N_unigene_seq.fasta 223\n",
      "    all_ests.fa.clean_output unigene_seq.fasta 1945"
     ]
    },
    {
     "cell_type": "code",
     "collapsed": false,
     "input": [
      "unigene_reads = {}\n",
      "for f in assembled_fasta:\n",
      "    unigene_reads[f] = []\n",
      "    for read in SeqIO.parse(f, \"fasta\"):\n",
      "        unigene_reads[f].append(read)\n",
      "unigene_reads.keys()"
     ],
     "language": "python",
     "metadata": {},
     "outputs": [],
     "prompt_number": ""
    },
    {
     "cell_type": "code",
     "collapsed": false,
     "input": [
      "for uni in unigene_reads:\n",
      "    read_hist_ind(unigene_reads[uni])\n",
      "    print os.path.basename(uni)"
     ],
     "language": "python",
     "metadata": {},
     "outputs": [],
     "prompt_number": ""
    },
    {
     "cell_type": "markdown",
     "metadata": {},
     "source": [
      "    223 reads, mean(len) = 480.71, sd=230.99, [104, 1918]\n",
      "    P40N_unigene_seq.fasta\n",
      "    \n",
      "    730 reads, mean(len) = 516.13, sd=186.97, [104, 1377]\n",
      "    P32N_unigene_seq.fasta\n",
      "    \n",
      "    328 reads, mean(len) = 535.98, sd=202.81, [107, 1343]\n",
      "    P32C_unigene_seq.fasta\n",
      "    \n",
      "    1945 reads, mean(len) = 553.77, sd=191.78, [100, 2077]\n",
      "    unigene_seq.fasta\n",
      "    \n",
      "    434 reads, mean(len) = 531.24, sd=187.82, [102, 1748]\n",
      "    P40C_unigene_seq.fasta"
     ]
    },
    {
     "cell_type": "markdown",
     "metadata": {},
     "source": [
      "##Blast hits (iPlant)\n",
      "\n",
      "    cfriedline@vm64-60:~/projects/black_spruce$ ~/src/ncbi-blast-2.2.29+/bin/blastx -db ~/nr/nr -max_target_seqs 10 -outfmt 5 -num_threads 8 -evalue 1e-5 -query P32C.fa.clean_output/P32C_unigene_seq.fasta -out P32C_blast.xml"
     ]
    },
    {
     "cell_type": "markdown",
     "metadata": {},
     "source": [
      "##Download blast files from iPlant atmosphere"
     ]
    },
    {
     "cell_type": "code",
     "collapsed": false,
     "input": [
      "cd ~/projects/black_spruce/"
     ],
     "language": "python",
     "metadata": {},
     "outputs": [],
     "prompt_number": ""
    },
    {
     "cell_type": "code",
     "collapsed": false,
     "input": [
      "!scp atmo:/home/cfriedline/projects/black_spruce/*blast.xml ."
     ],
     "language": "python",
     "metadata": {},
     "outputs": [],
     "prompt_number": ""
    },
    {
     "cell_type": "code",
     "collapsed": false,
     "input": [
      "blast_files = !ls *_blast.xml"
     ],
     "language": "python",
     "metadata": {},
     "outputs": [],
     "prompt_number": ""
    },
    {
     "cell_type": "markdown",
     "metadata": {},
     "source": [
      "##Process blast"
     ]
    },
    {
     "cell_type": "code",
     "collapsed": false,
     "input": [
      "blast_files = [os.path.abspath(x) for x in blast_files]"
     ],
     "language": "python",
     "metadata": {},
     "outputs": [],
     "prompt_number": ""
    },
    {
     "cell_type": "code",
     "collapsed": false,
     "input": [
      "blast_files"
     ],
     "language": "python",
     "metadata": {},
     "outputs": [],
     "prompt_number": ""
    },
    {
     "cell_type": "code",
     "collapsed": false,
     "input": [
      "def plot_hist(data, title):\n",
      "    plt.hist(data)\n",
      "    plt.title(title)\n",
      "    plt.show()"
     ],
     "language": "python",
     "metadata": {},
     "outputs": [],
     "prompt_number": ""
    },
    {
     "cell_type": "code",
     "collapsed": false,
     "input": [
      "aln_limit = 1\n",
      "hsp_limit = 1\n",
      "for f in blast_files:\n",
      "    query_percs = [] \n",
      "    ident_percs = []\n",
      "    for record in NCBIXML.parse(open(f)):\n",
      "        for i, aln in enumerate(record.alignments):\n",
      "            if i == aln_limit: break\n",
      "            for j, hsp in enumerate(aln.hsps):\n",
      "                if j == hsp_limit: break\n",
      "                query_length = ((hsp.query_end-hsp.query_start)+1.0)\n",
      "                query_perc = query_length/record.query_length\n",
      "                query_percs.append(query_perc)\n",
      "                ident_perc = float(hsp.identities)/hsp.align_length\n",
      "                ident_percs.append(ident_perc)\n",
      "            break\n",
      "    plot_hist(query_percs, \"query percs %s\" % os.path.basename(f))\n",
      "    plot_hist(ident_percs, \"ident percs %s\" % os.path.basename(f))"
     ],
     "language": "python",
     "metadata": {},
     "outputs": [],
     "prompt_number": ""
    },
    {
     "cell_type": "markdown",
     "metadata": {},
     "source": [
      "##Filter blast hits"
     ]
    },
    {
     "cell_type": "code",
     "collapsed": false,
     "input": [
      "#decorate fasta files with sample (for blast2go)\n",
      "unigene_files = [\"/Users/chris/projects/black_spruce/seqclean/P32N.fa.clean_output/P32N_unigene_seq.fasta\",\n",
      "\"/Users/chris/projects/black_spruce/seqclean/P32C.fa.clean_output/P32C_unigene_seq.fasta\",\n",
      "\"/Users/chris/projects/black_spruce/seqclean/P40C.fa.clean_output/P40C_unigene_seq.fasta\",\n",
      "\"/Users/chris/projects/black_spruce/seqclean/P40N.fa.clean_output/P40N_unigene_seq.fasta\"]\n",
      "for u in unigene_files:\n",
      "    print u\n",
      "    key = os.path.basename(u).split(\"_\")[0]\n",
      "    recs = []\n",
      "    for rec in SeqIO.parse(u, \"fasta\"):\n",
      "        rec.id = \"%s_%s\" % (key, rec.id)\n",
      "        rec.description = \"\"\n",
      "        recs.append(rec)\n",
      "    out_file = \"%s_decorated.fasta\" % u\n",
      "    print out_file\n",
      "    SeqIO.write(recs, open(out_file,\"w\"), \"fasta\")"
     ],
     "language": "python",
     "metadata": {},
     "outputs": [],
     "prompt_number": ""
    },
    {
     "cell_type": "code",
     "collapsed": false,
     "input": [
      "from Bio import SearchIO\n",
      "aln_limit = 1\n",
      "hsp_limit = 1\n",
      "min_query_perc = 0.5\n",
      "min_ident_perc = 0.5\n",
      "for f in blast_files:\n",
      "    print f\n",
      "    key = os.path.basename(f).split(\"_\")[0]\n",
      "    filtered_records = []\n",
      "    bit_scores = []\n",
      "    num_filtered = 0\n",
      "    num_total = 0\n",
      "    qresults = (record for record in SearchIO.parse(open(f), \"blast-xml\"))\n",
      "    for qresult in qresults:\n",
      "        qresult.id = \"%s_%s\" % (key, qresult.id) #decorate as in decorated unigene fasta (for blast2go)\n",
      "        for hit in qresult:\n",
      "            num_total += 1\n",
      "            for hsp in hit.hsps:\n",
      "                bit_scores.append(hsp.bitscore)\n",
      "                if hsp.query_span/qresult.seq_len >= min_query_perc:\n",
      "                    if hsp.ident_num/hsp.aln_span >= min_ident_perc:\n",
      "                        filtered_records.append(qresult)\n",
      "                        num_filtered += 1\n",
      "                break #just get the top hsp\n",
      "            break #just get the top hit\n",
      "    print num_filtered, num_total\n",
      "    plot_hist(bit_scores, f)\n",
      "    SearchIO.write(filtered_records, \"%s_filtered_%.2f_query_%.2f_ident.xml\" % (f, \n",
      "                                                                                min_query_perc, \n",
      "                                                                                min_ident_perc), \n",
      "                   \"blast-xml\")"
     ],
     "language": "python",
     "metadata": {},
     "outputs": [],
     "prompt_number": ""
    },
    {
     "cell_type": "markdown",
     "metadata": {},
     "source": [
      "##Blast2GO"
     ]
    },
    {
     "cell_type": "markdown",
     "metadata": {},
     "source": [
      "version 2.7.2, jre 1.7.0_65\n",
      "\n",
      "pro server USA1-b2g_may14\n",
      "\n",
      "1. import sequences (decorated unigenes, e.g., PC32_UN001 vs UN001)\n",
      "1. import blast results\n",
      "1. unselect hits without blast\n",
      "1. run mapping step\n",
      "1. run annotation step\n",
      "1. run interpro\n",
      "1. merge interpro\n",
      "1. run annex\n",
      "1. run go-enzymecode\n",
      "1. load kegg maps\n",
      "\n",
      "###Merge\n",
      "1. create new project\n",
      "1. add dats from cambium (or needle)\n",
      "1. redownload kegg maps\n",
      "\n",
      "###Export\n",
      "1. file -> expoort -> generic export - > sequence names for each cambium and needle dat \n",
      "\n",
      "###Exact test\n",
      "1. merge cambium and needle dat\n",
      "1. input test as needle and ref as cambium\n",
      "1. 0.05/FDR exact test\n",
      "1. input test as cambium and ref as needle\n",
      "1. exact test\n",
      "1. export results < 0.05 for all and most specific"
     ]
    },
    {
     "cell_type": "markdown",
     "metadata": {},
     "source": [
      "##Collapse unigenes by tissue"
     ]
    },
    {
     "cell_type": "code",
     "collapsed": false,
     "input": [
      "decorated = !find . | grep decorated"
     ],
     "language": "python",
     "metadata": {},
     "outputs": [],
     "prompt_number": ""
    },
    {
     "cell_type": "code",
     "collapsed": false,
     "input": [
      "decorated = [os.path.abspath(x) for x in decorated]\n",
      "decorated"
     ],
     "language": "python",
     "metadata": {},
     "outputs": [],
     "prompt_number": ""
    },
    {
     "cell_type": "markdown",
     "metadata": {},
     "source": [
      "    ['/Users/chris/projects/black_spruce/seqclean/P32C.fa.clean_output/P32C_unigene_seq.fasta_decorated.fasta',\n",
      "     '/Users/chris/projects/black_spruce/seqclean/P32N.fa.clean_output/P32N_unigene_seq.fasta_decorated.fasta',\n",
      "     '/Users/chris/projects/black_spruce/seqclean/P40C.fa.clean_output/P40C_unigene_seq.fasta_decorated.fasta',\n",
      "     '/Users/chris/projects/black_spruce/seqclean/P40N.fa.clean_output/P40N_unigene_seq.fasta_decorated.fasta']"
     ]
    },
    {
     "cell_type": "code",
     "collapsed": false,
     "input": [
      "seq_dict = {}\n",
      "for d in decorated:\n",
      "    tissue = os.path.basename(d).split(\"_\")[0][-1]\n",
      "    if not tissue in seq_dict:\n",
      "        seq_dict[tissue] = []\n",
      "    for rec in SeqIO.parse(d, \"fasta\"):\n",
      "        seq_dict[tissue].append(rec)"
     ],
     "language": "python",
     "metadata": {},
     "outputs": [],
     "prompt_number": ""
    },
    {
     "cell_type": "code",
     "collapsed": false,
     "input": [
      "combined_outfiles = []\n",
      "for tissue, seq_list in seq_dict.items():\n",
      "    outfile = \"%s_unigenes_combined.fasta\" % tissue\n",
      "    combined_outfiles.append(outfile)\n",
      "    SeqIO.write(seq_list, outfile, \"fasta\")"
     ],
     "language": "python",
     "metadata": {},
     "outputs": [],
     "prompt_number": ""
    },
    {
     "cell_type": "code",
     "collapsed": false,
     "input": [
      "!cat C_unigenes_combined.fasta >> all_unigenes_combined.fasta"
     ],
     "language": "python",
     "metadata": {},
     "outputs": [],
     "prompt_number": ""
    },
    {
     "cell_type": "code",
     "collapsed": false,
     "input": [
      "!cat N_unigenes_combined.fasta >> all_unigenes_combined.fasta"
     ],
     "language": "python",
     "metadata": {},
     "outputs": [],
     "prompt_number": ""
    },
    {
     "cell_type": "markdown",
     "metadata": {},
     "source": [
      "##Collapse all ESTs into a single file\n",
      "(decorated by the source tissue)"
     ]
    },
    {
     "cell_type": "code",
     "collapsed": false,
     "input": [
      "est_files = !ls seqclean/*.fa"
     ],
     "language": "python",
     "metadata": {},
     "outputs": [],
     "prompt_number": ""
    },
    {
     "cell_type": "code",
     "collapsed": false,
     "input": [
      "est_seqs = []\n",
      "for e in est_files:\n",
      "    base = os.path.basename(e)\n",
      "    for rec in SeqIO.parse(e, \"fasta\"):\n",
      "        rec.description = rec.description.replace(rec.id, \"\")\n",
      "        rec.id = \"%s_%s\" % (base, rec.id)\n",
      "        est_seqs.append(rec)"
     ],
     "language": "python",
     "metadata": {},
     "outputs": [],
     "prompt_number": ""
    },
    {
     "cell_type": "code",
     "collapsed": false,
     "input": [
      "SeqIO.write(est_seqs, \"seqclean/all_ests.fa\", \"fasta\")"
     ],
     "language": "python",
     "metadata": {},
     "outputs": [],
     "prompt_number": ""
    },
    {
     "cell_type": "markdown",
     "metadata": {},
     "source": [
      "##Run seqclean on godel for all ESTs\n",
      "\n",
      "runs with blast-2.2.26, after using formatdb -pF on the E. coli genome below\n",
      "\n",
      "    ~/data7/src/seqclean-x86_64/seqclean all_ests.fa -v ~/data7/src/UniVec -s ~/data7/projects/Escherichia_coli_K_12_substr__DH10B_uid58979/NC_010473.fna\n",
      "    \n",
      "    Collecting cleaning reports\n",
      "\n",
      "    **************************************************\n",
      "    Sequences analyzed:      5996\n",
      "    -----------------------------------\n",
      "                       valid:      5938  (2842 trimmed)\n",
      "                     trashed:        58\n",
      "    **************************************************\n",
      "    ----= Trashing summary =------\n",
      "           by 'NC_010473.fna':       34\n",
      "                    by 'dust':        1\n",
      "                  by 'shortq':       23\n",
      "    ------------------------------\n",
      "    Output file containing only valid and trimmed sequences: all_ests.fa.clean\n",
      "    For trimming and trashing details see cleaning report  : all_ests.fa.cln\n",
      "    --------------------------------------------------\n",
      "    seqclean (all_ests.fa) finished on machine godel97"
     ]
    },
    {
     "cell_type": "markdown",
     "metadata": {},
     "source": [
      "##Run iAssembler on all ESTs"
     ]
    },
    {
     "cell_type": "markdown",
     "metadata": {},
     "source": [
      "    ~/data7/src/iAssembler-v1.3.2.x64/iAssembler.pl -i all_ests.fa.clean "
     ]
    },
    {
     "cell_type": "code",
     "collapsed": false,
     "input": [
      "all_est_dir = \"~/projects/black_spruce/seqclean/all_ests.fa.clean_output\""
     ],
     "language": "python",
     "metadata": {},
     "outputs": [],
     "prompt_number": ""
    },
    {
     "cell_type": "code",
     "collapsed": false,
     "input": [
      "cd $all_est_dir"
     ],
     "language": "python",
     "metadata": {},
     "outputs": [],
     "prompt_number": ""
    },
    {
     "cell_type": "code",
     "collapsed": false,
     "input": [
      "!head contig_member"
     ],
     "language": "python",
     "metadata": {},
     "outputs": [],
     "prompt_number": ""
    },
    {
     "cell_type": "code",
     "collapsed": false,
     "input": [
      "def create_est_count_file(contig_member_file):\n",
      "    est_counts = 0\n",
      "    unigene_counts = 0\n",
      "    keys = [\"P32C\", \"P40C\", \"P32N\", \"P40N\"]\n",
      "    with open(\"%s.counts\" % contig_member_file, \"w\") as o:\n",
      "        o.write(\"unigene\\t%s\\n\" % '\\t'.join(keys))\n",
      "        for line in open(contig_member_file):\n",
      "            unigene_counts += 1\n",
      "            counts = {}\n",
      "            for k in keys:\n",
      "                counts[k] = 0\n",
      "            line = line.split()\n",
      "            for elem in line[1:]:\n",
      "                tissue = elem.split(\".\")[0]\n",
      "                if tissue in keys:\n",
      "                    counts[tissue] += 1\n",
      "                est_counts += 1\n",
      "            vals = []\n",
      "            for k in keys:\n",
      "                vals.append(counts[k])\n",
      "            o.write(\"%s\\t%s\\n\" % (line[0], '\\t'.join([str(x) for x in vals])))\n",
      "    print \"%d ESTs in %d Unigenes\" % (est_counts, unigene_counts)\n",
      "create_est_count_file(\"contig_member\")"
     ],
     "language": "python",
     "metadata": {},
     "outputs": [],
     "prompt_number": ""
    },
    {
     "cell_type": "markdown",
     "metadata": {},
     "source": [
      "    5938 ESTs in 1945 Unigenes"
     ]
    },
    {
     "cell_type": "markdown",
     "metadata": {},
     "source": [
      "## Blast unigenes against nr"
     ]
    },
    {
     "cell_type": "code",
     "collapsed": false,
     "input": [
      "cd ~/projects/black_spruce/"
     ],
     "language": "python",
     "metadata": {},
     "outputs": [],
     "prompt_number": ""
    },
    {
     "cell_type": "markdown",
     "metadata": {},
     "source": [
      "    cd /home/cfriedline/data7/projects/black_spruce/\n",
      "\n",
      "    $qsub blast_all_ests.sh\n",
      "    ~/src/ncbi-blast-2.2.29+/bin/blastx -db ~/data7/nr/nr -max_target_seqs 10 -outfmt 5 -num_threads 24 -evalue 1e-5 -query all_ests.fa.clean_output/unigene_seq.fasta -out all_blast.xml\n"
     ]
    },
    {
     "cell_type": "markdown",
     "metadata": {},
     "source": [
      "## Massage Blast2GO output for topGO in R\n",
      "This file is generated using file -> export -> export annotations -> annotations by go"
     ]
    },
    {
     "cell_type": "code",
     "collapsed": false,
     "input": [
      "anno_file = \"all_annot_GOs_20140722_2254.txt\""
     ],
     "language": "python",
     "metadata": {},
     "outputs": [],
     "prompt_number": ""
    },
    {
     "cell_type": "code",
     "collapsed": false,
     "input": [
      "anno_dict = {}\n",
      "for line in open(anno_file):\n",
      "    data = line.split(\"\\t\")\n",
      "    if not data[0] in anno_dict:\n",
      "        anno_dict[data[0]] = []\n",
      "    anno_dict[data[0]].append(data[2])"
     ],
     "language": "python",
     "metadata": {},
     "outputs": [],
     "prompt_number": ""
    },
    {
     "cell_type": "code",
     "collapsed": false,
     "input": [
      "with open(\"%s_topGO.txt\" % anno_file, \"w\") as o:\n",
      "    for k in sorted(anno_dict.keys()):\n",
      "        v = anno_dict[k]\n",
      "        o.write(\"%s\\t%s\\n\" % (k, \",\".join(v)))"
     ],
     "language": "python",
     "metadata": {},
     "outputs": [],
     "prompt_number": ""
    },
    {
     "cell_type": "markdown",
     "metadata": {},
     "source": [
      "#Run RSEM against unigene assembly"
     ]
    },
    {
     "cell_type": "code",
     "collapsed": false,
     "input": [
      "rsem_dir = \"/Users/chris/src/rsem-1.2.15\"\n",
      "rpr = os.path.join(rsem_dir, \"rsem-prepare-reference\")\n",
      "rce = os.path.join(rsem_dir, \"rsem-calculate-expression\")\n",
      "rpm = os.path.join(rsem_dir, \"rsem-plot-model\")\n",
      "rgdm = os.path.join(rsem_dir, \"rsem-generate-data-matrix\")\n",
      "rre = os.path.join(rsem_dir, \"rsem-run-ebseq\")\n",
      "rcf = os.path.join(rsem_dir, \"rsem-control-fdr\")"
     ],
     "language": "python",
     "metadata": {},
     "outputs": [],
     "prompt_number": ""
    },
    {
     "cell_type": "code",
     "collapsed": false,
     "input": [
      "cd ~/projects/black_spruce/seqclean/"
     ],
     "language": "python",
     "metadata": {},
     "outputs": [],
     "prompt_number": ""
    },
    {
     "cell_type": "code",
     "collapsed": false,
     "input": [
      "!mkdir rsem"
     ],
     "language": "python",
     "metadata": {},
     "outputs": [],
     "prompt_number": ""
    },
    {
     "cell_type": "code",
     "collapsed": false,
     "input": [
      "cd rsem"
     ],
     "language": "python",
     "metadata": {},
     "outputs": [],
     "prompt_number": ""
    },
    {
     "cell_type": "code",
     "collapsed": false,
     "input": [
      "pwd"
     ],
     "language": "python",
     "metadata": {},
     "outputs": [],
     "prompt_number": ""
    },
    {
     "cell_type": "code",
     "collapsed": false,
     "input": [
      "rpr_cmd = \"%s %s %s %s %s %s\" % (rpr,\n",
      "                           \"--bowtie2\",\n",
      "                           \"--bowtie2-path /Users/chris/src/bowtie2-2.2.3/\",\n",
      "                           \"~/projects/black_spruce/seqclean/all_ests.fa.clean_output/unigene_seq.fasta\",\n",
      "                           \"--no-polyA\",\n",
      "                           \"black_spruce\")"
     ],
     "language": "python",
     "metadata": {},
     "outputs": [],
     "prompt_number": ""
    },
    {
     "cell_type": "markdown",
     "metadata": {},
     "source": [
      "### Prepare rsem reference"
     ]
    },
    {
     "cell_type": "code",
     "collapsed": false,
     "input": [
      "!$rpr_cmd"
     ],
     "language": "python",
     "metadata": {},
     "outputs": [],
     "prompt_number": ""
    },
    {
     "cell_type": "markdown",
     "metadata": {},
     "source": [
      "###Compute expression for cambium and needle"
     ]
    },
    {
     "cell_type": "code",
     "collapsed": false,
     "input": [
      "for tissue, suffix in zip([\"cambium\", \"needle\"], [\"C\", \"N\"]):\n",
      "    files = []\n",
      "    parents = [\"P32\", \"P40\"]\n",
      "    for parent in parents:\n",
      "        #use the seqcleaned file\n",
      "        f = os.path.join(\"/Users/chris/projects/black_spruce/seqclean/%s%s.fa.clean\" % (parent, suffix))\n",
      "        files.append(f)\n",
      "        ind = \"%s%s\" % (parent, suffix)\n",
      "        rce_cmd = \"%s %s %s %s %s %s %s %s\" % (rce,\n",
      "                                       \"-p 8\",\n",
      "                                       \"--no-qualities\",\n",
      "                                       \"--bowtie2\",\n",
      "                                       \"--bowtie2-path ~/src/bowtie2-2.2.3\",\n",
      "                                       f,\n",
      "                                       \"black_spruce\",\n",
      "                                       ind)\n",
      "        !$rce_cmd\n",
      "    \n",
      "    rce_cmd = \"%s %s %s %s %s %s %s %s\" % (rce,\n",
      "                                       \"-p 8\",\n",
      "                                       \"--no-qualities\",\n",
      "                                       \"--bowtie2\",\n",
      "                                       \"--bowtie2-path ~/src/bowtie2-2.2.3\",\n",
      "                                       \",\".join(files),\n",
      "                                       \"black_spruce\",\n",
      "                                       tissue)\n",
      "    print rce_cmd\n",
      "    !$rce_cmd\n"
     ],
     "language": "python",
     "metadata": {},
     "outputs": [],
     "prompt_number": ""
    },
    {
     "cell_type": "markdown",
     "metadata": {},
     "source": [
      "###plot models"
     ]
    },
    {
     "cell_type": "code",
     "collapsed": false,
     "input": [
      "stat_dirs = !ls -d *.stat"
     ],
     "language": "python",
     "metadata": {},
     "outputs": [],
     "prompt_number": ""
    },
    {
     "cell_type": "code",
     "collapsed": false,
     "input": [
      "for s in stat_dirs:\n",
      "    name = s.split(\".\")[0]\n",
      "    plot = \"%s_plot_file.pdf\" % name\n",
      "    cmd = \"%s %s %s\" % (rpm, name, plot)\n",
      "    print cmd\n",
      "    !$cmd"
     ],
     "language": "python",
     "metadata": {},
     "outputs": [],
     "prompt_number": ""
    },
    {
     "cell_type": "markdown",
     "metadata": {},
     "source": [
      "    /Users/chris/src/rsem-1.2.15/rsem-plot-model P32C P32C_plot_file.pdf\n",
      "    /Users/chris/src/rsem-1.2.15/rsem-plot-model P32N P32N_plot_file.pdf\n",
      "    /Users/chris/src/rsem-1.2.15/rsem-plot-model P40C P40C_plot_file.pdf\n",
      "    /Users/chris/src/rsem-1.2.15/rsem-plot-model P40N P40N_plot_file.pdf\n",
      "    /Users/chris/src/rsem-1.2.15/rsem-plot-model cambium cambium_plot_file.pdf\n",
      "    /Users/chris/src/rsem-1.2.15/rsem-plot-model needle needle_plot_file.pdf"
     ]
    },
    {
     "cell_type": "code",
     "collapsed": false,
     "input": [
      "gene_results = !ls P*gene*.results"
     ],
     "language": "python",
     "metadata": {},
     "outputs": [],
     "prompt_number": ""
    },
    {
     "cell_type": "code",
     "collapsed": false,
     "input": [
      "gene_results = sorted(gene_results, key=lambda name: name[3])"
     ],
     "language": "python",
     "metadata": {},
     "outputs": [],
     "prompt_number": ""
    },
    {
     "cell_type": "code",
     "collapsed": false,
     "input": [
      "!$rgdm {\" \".join(gene_results)} > all_counts.matrix"
     ],
     "language": "python",
     "metadata": {},
     "outputs": [],
     "prompt_number": ""
    },
    {
     "cell_type": "code",
     "collapsed": false,
     "input": [
      "!head all_counts.matrix"
     ],
     "language": "python",
     "metadata": {},
     "outputs": [],
     "prompt_number": ""
    },
    {
     "cell_type": "markdown",
     "metadata": {},
     "source": [
      "###find DE genes"
     ]
    },
    {
     "cell_type": "markdown",
     "metadata": {},
     "source": [
      "###run ebseq in R for diagnostics"
     ]
    },
    {
     "cell_type": "code",
     "collapsed": false,
     "input": [
      " %load_ext rpy2.ipython"
     ],
     "language": "python",
     "metadata": {},
     "outputs": [],
     "prompt_number": ""
    },
    {
     "cell_type": "code",
     "collapsed": false,
     "input": [
      "%%R\n",
      "#borrowed and modified from rsem/ebseq/rsem-for-ebseq-de\n",
      "library(EBSeq)\n",
      "data = as.matrix(read.table(\"all_counts.matrix\", header=T, row.names=1))\n",
      "conditions = as.factor(rep(c(\"C1\",\"C2\"),each=2))\n",
      "sizes = MedianNorm(data)\n",
      "gen=50\n",
      "res = EBTest(Data=data,\n",
      "             Conditions=conditions,\n",
      "             sizeFactors=sizes,\n",
      "             maxround=gen,\n",
      "             Print=T, \n",
      "             Qtrm=1,\n",
      "             QtrmCut=5)\n",
      "PP <- as.data.frame(GetPPMat(res))\n",
      "fc_res <- PostFC(res)\n",
      "results <- cbind(PP, fc_res$PostFC, fc_res$RealFC)\n",
      "colnames(results) <- c(\"PPEE\", \"PPDE\", \"PostFC\", \"RealFC\")\n",
      "results <- results[order(results[,\"PPDE\"], decreasing = TRUE),]\n",
      "write.table(results, file = \"all_ebseq.txt\", sep = \"\\t\")"
     ],
     "language": "python",
     "metadata": {},
     "outputs": [],
     "prompt_number": ""
    },
    {
     "cell_type": "code",
     "collapsed": false,
     "input": [
      "!$rcf all_ebseq.txt 0.05 all_ebseq_fdr.txt"
     ],
     "language": "python",
     "metadata": {},
     "outputs": [],
     "prompt_number": ""
    },
    {
     "cell_type": "code",
     "collapsed": false,
     "input": [
      "%%R\n",
      "PlotPostVsRawFC(res,fc_res)"
     ],
     "language": "python",
     "metadata": {},
     "outputs": [],
     "prompt_number": ""
    },
    {
     "cell_type": "code",
     "collapsed": false,
     "input": [
      "%%R\n",
      "#Check for convergence\n",
      "cutoff = 50\n",
      "print(\"Alpha\")\n",
      "print(res$Alpha[1:cutoff])\n",
      "print(\"Beta\")\n",
      "print(res$Beta[1:cutoff])\n",
      "print(\"P\")\n",
      "print(res$P[1:cutoff])"
     ],
     "language": "python",
     "metadata": {},
     "outputs": [],
     "prompt_number": ""
    },
    {
     "cell_type": "markdown",
     "metadata": {},
     "source": [
      "    [1] \"Alpha\"\n",
      "     [1] 1.036734 1.085241 1.114953 1.133414 1.144429 1.151540 1.156885 1.158999\n",
      "     [9] 1.161182 1.162400 1.163383 1.163771 1.163951 1.164855 1.164409 1.164431\n",
      "    [17] 1.164856 1.164259 1.164882 1.164631 1.165125 1.165552 1.165870 1.165701\n",
      "    [25] 1.165528 1.165808 1.165757 1.165621 1.165823 1.165576 1.165556 1.165835\n",
      "    [33] 1.165835 1.165835 1.165835 1.165835 1.165835 1.165835 1.165835 1.165835\n",
      "    [41] 1.165835 1.165835 1.165835 1.165835 1.165835 1.165835 1.165835 1.165835\n",
      "    [49] 1.165835 1.165835\n",
      "    [1] \"Beta\"\n",
      "     [1] 1.233462 1.288055 1.321025 1.341280 1.353745 1.362035 1.367573 1.370358\n",
      "     [9] 1.371908 1.373840 1.375514 1.375678 1.375911 1.376453 1.375835 1.376093\n",
      "    [17] 1.376763 1.376191 1.376429 1.376852 1.377254 1.377545 1.378261 1.377269\n",
      "    [25] 1.376821 1.377388 1.377218 1.376863 1.377280 1.376728 1.376639 1.377255\n",
      "    [33] 1.377255 1.377255 1.377255 1.377255 1.377255 1.377255 1.377255 1.377255\n",
      "    [41] 1.377255 1.377255 1.377255 1.377255 1.377255 1.377255 1.377255 1.377255\n",
      "    [49] 1.377255 1.377255\n",
      "    [1] \"P\"\n",
      "     [1] 0.6428990 0.7778639 0.8607049 0.9120040 0.9438304 0.9641139 0.9769992\n",
      "     [8] 0.9852561 0.9904332 0.9938689 0.9960493 0.9974741 0.9983682 0.9989496\n",
      "    [15] 0.9993308 0.9995652 0.9997121 0.9998184 0.9998868 0.9999285 0.9999539\n",
      "    [22] 0.9999673 0.9999808 0.9999880 0.9999913 0.9999939 0.9999953 0.9999964\n",
      "    [29] 0.9999979 0.9999980 0.9999992 0.9999995 0.9999995 0.9999995 0.9999995\n",
      "    [36] 0.9999995 0.9999995 0.9999995 0.9999995 0.9999995 0.9999995 0.9999995\n",
      "    [43] 0.9999995 0.9999995 0.9999995 0.9999995 0.9999995 0.9999995 0.9999995\n",
      "    [50] 0.9999995"
     ]
    },
    {
     "cell_type": "code",
     "collapsed": false,
     "input": [
      "%%R\n",
      "library(topGO)\n",
      "rm(list=ls())\n",
      "count_file = \"seqclean/rsem/all_counts.matrix\"\n",
      "counts = read.table(count_file, header=T, row.names=1, sep=\"\\t\")\n",
      "\n",
      "gene_names = rownames(counts)\n",
      "\n",
      "cambium_sums = rowSums(counts[,c(\"P32C.genes.results\",\"P40C.genes.results\")])\n",
      "needle_sums = rowSums(counts[,c(\"P32N.genes.results\",\"P40N.genes.results\")])\n",
      "\n",
      "cambium_interesting = cambium_sums[cambium_sums>1]\n",
      "needle_interesting = needle_sums[needle_sums>1]\n",
      "\n",
      "gene_id_2go <- readMappings(file=\"all_annot_GOs_20140722_2254.txt_topGO.txt\")\n",
      "\n",
      "interesting = list()\n",
      "interesting$cambium = cambium_interesting\n",
      "interesting$needle = needle_interesting\n",
      "godata = list()\n",
      "onts = c(\"BP\",\"CC\", \"MF\")\n",
      "sigs = list()\n",
      "for (i in 1:length(onts)) {\n",
      "    for (j in 1:length(interesting)) {\n",
      "        interest = interesting[[j]]\n",
      "        gene_list <- factor(as.integer(gene_names %in% names(interest)))\n",
      "        names(gene_list) <- gene_names\n",
      "        \n",
      "        GOdata = new(\"topGOdata\",\n",
      "                     description=paste(names(interesting)[j], onts[i], sep=\"-\"),\n",
      "                     ontology = onts[i], \n",
      "                     allGenes = gene_list, \n",
      "                     annot = annFUN.gene2GO, \n",
      "                     gene2GO = gene_id_2go,\n",
      "                     nodeSize=5)\n",
      "        print(GOdata)\n",
      "        godata = append(godata, GOdata)\n",
      "        test.stat = runTest(GOdata, algorithm = \"classic\", statistic = \"fisher\")\n",
      "        sigs = append(sigs, test.stat)\n",
      "        printGraph(GOdata, \n",
      "                   test.stat, \n",
      "                   firstSigNodes = 5, \n",
      "                   fn.prefix = paste(\"tGO\", \"for\", description(GOdata)), \n",
      "                   useInfo = \"all\", \n",
      "                   pdfSW = TRUE)\n",
      "        \n",
      "        gt = GenTable(GOdata, classic=test.stat, topNodes=20)\n",
      "        write.table(gt, file=paste(description(GOdata), \".txt\", sep=\"\"), row.names=F)\n",
      "    }    \n",
      "}\n"
     ],
     "language": "python",
     "metadata": {},
     "outputs": [],
     "prompt_number": ""
    },
    {
     "cell_type": "code",
     "collapsed": false,
     "input": [],
     "language": "python",
     "metadata": {},
     "outputs": []
    }
   ],
   "metadata": {}
  }
 ]
}