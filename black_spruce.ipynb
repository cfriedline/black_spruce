{
 "metadata": {
  "name": "",
  "signature": "sha256:5890fbcdca61165a71546a5a10dd5d6e31cacec3adaff1daf8caa2c0031fd587"
 },
 "nbformat": 3,
 "nbformat_minor": 0,
 "worksheets": [
  {
   "cells": [
    {
     "cell_type": "code",
     "collapsed": false,
     "input": [
      "import Bio, os, sys, shutil\n",
      "from Bio import SeqIO, SearchIO\n",
      "import matplotlib\n",
      "import matplotlib.pyplot as plt\n",
      "%matplotlib inline\n",
      "from IPython.parallel import Client\n",
      "import numpy as np\n",
      "import scipy as sp\n",
      "import dill as pickle\n",
      "from Bio.Blast import NCBIXML\n",
      "import pandas as pd\n",
      "from pprint import pprint\n",
      "from lxml import etree\n",
      "from __future__ import division\n",
      "from IPython.display import FileLinks, FileLink"
     ],
     "language": "python",
     "metadata": {},
     "outputs": [],
     "prompt_number": ""
    },
    {
     "cell_type": "code",
     "collapsed": false,
     "input": [
      "cd \"~/projects/black_spruce/\""
     ],
     "language": "python",
     "metadata": {},
     "outputs": [],
     "prompt_number": ""
    },
    {
     "cell_type": "code",
     "collapsed": false,
     "input": [
      "scf_dirs = set()\n",
      "scf_count = 0\n",
      "for root, dirs, files in os.walk(\".\"):\n",
      "    for f in files:\n",
      "        if f.endswith(\".SCF\"):\n",
      "            p = os.path.join(root, f)\n",
      "            p_new = p.replace(\".SCF\", \".scf\")\n",
      "            shutil.move(p, p_new)\n",
      "            scf_dirs.add(os.path.dirname(p_new))\n",
      "            scf_count += 1\n",
      "        elif f.endswith(\".scf\"):\n",
      "            scf_dirs.add(os.path.dirname(os.path.join(root, f)))\n",
      "            scf_count+=1\n",
      "print \"found %d scf files in %d dirs\" % (scf_count, len(scf_dirs))"
     ],
     "language": "python",
     "metadata": {},
     "outputs": [],
     "prompt_number": ""
    },
    {
     "cell_type": "code",
     "collapsed": false,
     "input": [
      "scf_dirs\n",
      "seq_dirs = [os.path.abspath(\"%s_seq\" % x) for x in scf_dirs]\n",
      "seq_dirs"
     ],
     "language": "python",
     "metadata": {},
     "outputs": []
    },
    {
     "cell_type": "code",
     "collapsed": false,
     "input": [
      "rc = Client()\n",
      "dview = rc[:]\n",
      "lview = rc.load_balanced_view()"
     ],
     "language": "python",
     "metadata": {},
     "outputs": []
    },
    {
     "cell_type": "code",
     "collapsed": false,
     "input": [
      "print len(dview)"
     ],
     "language": "python",
     "metadata": {},
     "outputs": []
    },
    {
     "cell_type": "code",
     "collapsed": false,
     "input": [
      "@lview.remote()\n",
      "def run_phred(d, phred_cutoff):\n",
      "    import os\n",
      "    os.environ['PHRED_PARAMETER_FILE'] = '/Users/chris/src/phred-dist-020425.c-acd/phredpar.dat'\n",
      "    r = !~/src/phred-dist-020425.c-acd/phred -id {d.replace(\"_seq\", \"\")} -sd {d} -qd {d} -trim_fasta -trim_alt \"\" -trim_cutoff {phred_cutoff}\n",
      "    return r"
     ],
     "language": "python",
     "metadata": {},
     "outputs": []
    },
    {
     "cell_type": "code",
     "collapsed": false,
     "input": [
      "phred_cutoff = 0.01\n",
      "phred_res = []\n",
      "for d in seq_dirs:\n",
      "    if not os.path.exists(d):\n",
      "        os.mkdir(d)\n",
      "    phred_res.append(run_phred(d, phred_cutoff))"
     ],
     "language": "python",
     "metadata": {},
     "outputs": []
    },
    {
     "cell_type": "code",
     "collapsed": false,
     "input": [
      "reads = {}\n",
      "for seq_dir in seq_dirs:\n",
      "    reads[seq_dir] = []\n",
      "    seq_files = !ls {seq_dir} | grep .seq\n",
      "    seq_files = [os.path.join(seq_dir, x) for x in seq_files]\n",
      "    for seq_file in seq_files:\n",
      "        reads[seq_dir].append(SeqIO.read(seq_file, \"fasta\"))\n",
      "print reads.keys()"
     ],
     "language": "python",
     "metadata": {},
     "outputs": []
    },
    {
     "cell_type": "code",
     "collapsed": false,
     "input": [
      "good_reads = {}\n",
      "for k, v in reads.items():\n",
      "    good_reads[k] = []\n",
      "    for read in v:\n",
      "        if len(read) >= 100:\n",
      "            good_reads[k].append(read)"
     ],
     "language": "python",
     "metadata": {},
     "outputs": []
    },
    {
     "cell_type": "code",
     "collapsed": false,
     "input": [
      "def read_hist(read_dict):\n",
      "    lens = []\n",
      "    for k, v in read_dict.items():\n",
      "        for r in v:\n",
      "            lens.append(len(r))\n",
      "    plt.hist(lens)\n",
      "    plt.xlabel(\"read length\")\n",
      "    plt.ylabel(\"count\")\n",
      "    plt.title(\"%d reads, mean(len) = %.2f, sd=%.2f, [%d, %d]\" % (len(lens), np.mean(lens), \n",
      "                                                        np.std(lens), np.min(lens), np.max(lens)))\n",
      "    plt.show()"
     ],
     "language": "python",
     "metadata": {},
     "outputs": [],
     "prompt_number": ""
    },
    {
     "cell_type": "code",
     "collapsed": false,
     "input": [
      "read_hist(reads)"
     ],
     "language": "python",
     "metadata": {},
     "outputs": []
    },
    {
     "cell_type": "code",
     "collapsed": false,
     "input": [
      "read_hist(good_reads)"
     ],
     "language": "python",
     "metadata": {},
     "outputs": []
    },
    {
     "cell_type": "code",
     "collapsed": false,
     "input": [
      "names = {'im_bscp32N_seq':'P32N', \n",
      "         'im_bscp32C_seq':'P32C', \n",
      "         'BSCP40N_seq':'P40N', \n",
      "         'BSCP40C_seq':'P40C'}\n",
      "for k, reads in good_reads.items():\n",
      "    key = os.path.basename(k)\n",
      "    with open(\"%s.fa\" % names[key], \"w\") as out:\n",
      "        SeqIO.write(reads, out, \"fasta\")"
     ],
     "language": "python",
     "metadata": {},
     "outputs": []
    },
    {
     "cell_type": "code",
     "collapsed": false,
     "input": [
      "good_files = !grep -c \">\" *.fa\n",
      "good_files = [os.path.abspath(x.split(':')[0]) for x in good_files]\n",
      "print good_files"
     ],
     "language": "python",
     "metadata": {},
     "outputs": []
    },
    {
     "cell_type": "code",
     "collapsed": false,
     "input": [
      "class Qual:\n",
      "    def __init__(self, name):\n",
      "        self.name = name.split()[0]\n",
      "        self.description = name\n",
      "        self.vals = []\n",
      "        \n",
      "    def __str__(self):\n",
      "        return \">%s\\n%s\" % (self.name, ' '.join(self.vals))\n",
      "    \n",
      "    def add_vals(self, line):\n",
      "        self.vals.append(line)"
     ],
     "language": "python",
     "metadata": {},
     "outputs": []
    },
    {
     "cell_type": "code",
     "collapsed": false,
     "input": [
      "qual_dirs = seq_dirs"
     ],
     "language": "python",
     "metadata": {},
     "outputs": []
    },
    {
     "cell_type": "code",
     "collapsed": false,
     "input": [
      "qual_dirs"
     ],
     "language": "python",
     "metadata": {},
     "outputs": []
    },
    {
     "cell_type": "code",
     "collapsed": false,
     "input": [
      "good_read_names = set()\n",
      "for k, v in good_reads.items():\n",
      "    for r in v:\n",
      "        good_read_names.add(r.name)\n",
      "for qual_dir in qual_dirs:\n",
      "    print qual_dir\n",
      "    quals = !ls {qual_dir} | grep .qual\n",
      "    quals = [os.path.join(qual_dir, x) for x in quals]\n",
      "    q = None\n",
      "    qual_list = []\n",
      "    for qual in quals:\n",
      "        for line in open(qual):\n",
      "            line = line.strip()\n",
      "            if line.startswith(\">\"):\n",
      "                q = Qual(line[1:])\n",
      "                qual_list.append(q)\n",
      "            else:\n",
      "                q.add_vals(line)\n",
      "    key = os.path.basename(qual_dir)\n",
      "    with open(\"%s.qual\" % names[key], \"w\") as out:\n",
      "        for q in qual_list:\n",
      "            if len(q.vals) > 0:\n",
      "                out.write(\"%s\\n\" % str(q))"
     ],
     "language": "python",
     "metadata": {},
     "outputs": []
    },
    {
     "cell_type": "code",
     "collapsed": false,
     "input": [
      "good_files"
     ],
     "language": "python",
     "metadata": {},
     "outputs": []
    },
    {
     "cell_type": "markdown",
     "metadata": {},
     "source": [
      "##Must run seqclean on linux (cdbfasta does not run on Mac).\n",
      "\n",
      "1. Shutdown running mac notebook\n",
      "1. start linux vm\n",
      "1. relaunch notebook from shared folder\n",
      "\n",
      "For example:\n",
      "\n",
      "    chris@vm:~/projects/black_spruce/seqclean$ ~/src/seqclean-x86_64/seqclean P40C.fa -v ~/src/UniVec/UniVec -s ~/projects/Escherichia_coli_K_12_substr__DH10B_uid58979/NC_010473.fna"
     ]
    },
    {
     "cell_type": "code",
     "collapsed": false,
     "input": [
      "cd seqclean/"
     ],
     "language": "python",
     "metadata": {},
     "outputs": [],
     "prompt_number": ""
    },
    {
     "cell_type": "code",
     "collapsed": false,
     "input": [
      "seq_clean_files = !ls *.clean"
     ],
     "language": "python",
     "metadata": {},
     "outputs": [],
     "prompt_number": ""
    },
    {
     "cell_type": "code",
     "collapsed": false,
     "input": [
      "seq_clean_files = [os.path.abspath(x) for x in seq_clean_files]"
     ],
     "language": "python",
     "metadata": {},
     "outputs": [],
     "prompt_number": ""
    },
    {
     "cell_type": "code",
     "collapsed": false,
     "input": [
      "seq_clean_reads = {}\n",
      "for f in seq_clean_files:\n",
      "    seq_clean_reads[f] = []\n",
      "    for read in SeqIO.parse(f, \"fasta\"):\n",
      "        seq_clean_reads[f].append(read)"
     ],
     "language": "python",
     "metadata": {},
     "outputs": [],
     "prompt_number": ""
    },
    {
     "cell_type": "code",
     "collapsed": false,
     "input": [
      "read_hist(seq_clean_reads)"
     ],
     "language": "python",
     "metadata": {},
     "outputs": [],
     "prompt_number": ""
    },
    {
     "cell_type": "markdown",
     "metadata": {},
     "source": [
      "##Run iAssembler\n",
      "\n",
      "Again, have to use linux b/c not supported on Mac.  `*.clean` files moved to `seqclean`\n",
      " directory for processing\n",
      "\n",
      "For example:\n",
      "\n",
      "    (conda)chris@vm:~/projects/black_spruce/seqclean$ ~/src/iAssembler-v1.3.2.x64/iAssembler.pl -i P32C.fa.clean "
     ]
    },
    {
     "cell_type": "markdown",
     "metadata": {},
     "source": [
      "##Rename unigene files according to source sample"
     ]
    },
    {
     "cell_type": "code",
     "collapsed": false,
     "input": [
      "cd seqclean/"
     ],
     "language": "python",
     "metadata": {},
     "outputs": [],
     "prompt_number": ""
    },
    {
     "cell_type": "code",
     "collapsed": false,
     "input": [
      "pwd"
     ],
     "language": "python",
     "metadata": {},
     "outputs": [],
     "prompt_number": ""
    },
    {
     "cell_type": "code",
     "collapsed": false,
     "input": [
      "output_dirs = !ls | grep _output"
     ],
     "language": "python",
     "metadata": {},
     "outputs": [],
     "prompt_number": ""
    },
    {
     "cell_type": "code",
     "collapsed": false,
     "input": [
      "output_dirs = [os.path.abspath(x) for x in output_dirs]\n",
      "output_dirs"
     ],
     "language": "python",
     "metadata": {},
     "outputs": [],
     "prompt_number": ""
    },
    {
     "cell_type": "code",
     "collapsed": false,
     "input": [
      "import shutil\n",
      "assembled_files = {}\n",
      "for o in output_dirs:\n",
      "    assembled_files[o] = []\n",
      "    key = os.path.basename(o).split(\".\")[0]\n",
      "    for f in os.listdir(o):\n",
      "        if not key in f:\n",
      "            f_name = \"%s_%s\" % (key, f)\n",
      "            shutil.copy(os.path.join(o, f), os.path.join(o, f_name))\n",
      "            assembled_files[o].append(os.path.join(o, f_name))"
     ],
     "language": "python",
     "metadata": {},
     "outputs": [],
     "prompt_number": ""
    },
    {
     "cell_type": "code",
     "collapsed": false,
     "input": [
      "assembled_fasta = []\n",
      "for k, v in assembled_files.items():\n",
      "    for f in v:\n",
      "        if '.fasta' in f:\n",
      "            assembled_fasta.append(f)\n",
      "            res = !grep -c \">\" $f\n",
      "            print f, res[0]"
     ],
     "language": "python",
     "metadata": {},
     "outputs": [],
     "prompt_number": ""
    },
    {
     "cell_type": "code",
     "collapsed": false,
     "input": [
      "unigene_reads = {}\n",
      "for f in assembled_fasta:\n",
      "    unigene_reads[f] = []\n",
      "    for read in SeqIO.parse(f, \"fasta\"):\n",
      "        unigene_reads[f].append(read)"
     ],
     "language": "python",
     "metadata": {},
     "outputs": [],
     "prompt_number": ""
    },
    {
     "cell_type": "code",
     "collapsed": false,
     "input": [
      "read_hist(unigene_reads)"
     ],
     "language": "python",
     "metadata": {},
     "outputs": [],
     "prompt_number": ""
    },
    {
     "cell_type": "markdown",
     "metadata": {},
     "source": [
      "    ~/data7/my_interproscan/interproscan-5.3-46.0/interproscan.sh -i P32C_unigene_seq.fasta"
     ]
    },
    {
     "cell_type": "markdown",
     "metadata": {},
     "source": [
      "##Blast hits (iPlant)\n",
      "\n",
      "    cfriedline@vm64-60:~/projects/black_spruce$ ~/src/ncbi-blast-2.2.29+/bin/blastx -db ~/nr/nr -max_target_seqs 10 -outfmt 5 -num_threads 8 -evalue 1e-5 -query P32C.fa.clean_output/P32C_unigene_seq.fasta -out P32C_blast.xml"
     ]
    },
    {
     "cell_type": "markdown",
     "metadata": {},
     "source": [
      "##Download blast files from iPlant atmosphere"
     ]
    },
    {
     "cell_type": "code",
     "collapsed": false,
     "input": [
      "!scp atmo:/home/cfriedline/projects/black_spruce/*blast.xml ."
     ],
     "language": "python",
     "metadata": {},
     "outputs": [],
     "prompt_number": ""
    },
    {
     "cell_type": "code",
     "collapsed": false,
     "input": [
      "blast_files = !ls *_blast.xml"
     ],
     "language": "python",
     "metadata": {},
     "outputs": [],
     "prompt_number": ""
    },
    {
     "cell_type": "markdown",
     "metadata": {},
     "source": [
      "##Process blast"
     ]
    },
    {
     "cell_type": "code",
     "collapsed": false,
     "input": [
      "blast_files = [os.path.abspath(x) for x in blast_files]"
     ],
     "language": "python",
     "metadata": {},
     "outputs": [],
     "prompt_number": ""
    },
    {
     "cell_type": "code",
     "collapsed": false,
     "input": [
      "blast_files"
     ],
     "language": "python",
     "metadata": {},
     "outputs": [],
     "prompt_number": ""
    },
    {
     "cell_type": "code",
     "collapsed": false,
     "input": [
      "def plot_hist(data, title):\n",
      "    plt.hist(data)\n",
      "    plt.title(title)\n",
      "    plt.show()"
     ],
     "language": "python",
     "metadata": {},
     "outputs": [],
     "prompt_number": ""
    },
    {
     "cell_type": "code",
     "collapsed": false,
     "input": [
      "aln_limit = 1\n",
      "hsp_limit = 1\n",
      "for f in blast_files:\n",
      "    query_percs = [] \n",
      "    ident_percs = []\n",
      "    for record in NCBIXML.parse(open(f)):\n",
      "        for i, aln in enumerate(record.alignments):\n",
      "            if i == aln_limit: break\n",
      "            for j, hsp in enumerate(aln.hsps):\n",
      "                if j == hsp_limit: break\n",
      "                query_length = ((hsp.query_end-hsp.query_start)+1.0)\n",
      "                query_perc = query_length/record.query_length\n",
      "                query_percs.append(query_perc)\n",
      "                ident_perc = float(hsp.identities)/hsp.align_length\n",
      "                ident_percs.append(ident_perc)\n",
      "            break\n",
      "    plot_hist(query_percs, \"query percs %s\" % os.path.basename(f))\n",
      "    plot_hist(ident_percs, \"ident percs %s\" % os.path.basename(f))"
     ],
     "language": "python",
     "metadata": {},
     "outputs": [],
     "prompt_number": ""
    },
    {
     "cell_type": "markdown",
     "metadata": {},
     "source": [
      "##Run interpro on godel cluster\n",
      "\n",
      "    ~/data7/my_interproscan/interproscan-5.3-46.0/interproscan.sh --seqtype n --pathways --iprlookup --goterms -i P32C_unigene_seq.fasta"
     ]
    },
    {
     "cell_type": "code",
     "collapsed": false,
     "input": [
      "ip_files = ['P40N_unigene_seq.fasta_1.xml', \n",
      "            'P40C_unigene_seq.fasta_1.xml',\n",
      "            'P32N_unigene_seq.fasta_1.xml',\n",
      "            'P32C_unigene_seq.fasta_1.xml']\n",
      "ip_files = [os.path.join('/Users/chris/projects/black_spruce/interpro', x) for x in ip_files]"
     ],
     "language": "python",
     "metadata": {},
     "outputs": [],
     "prompt_number": ""
    },
    {
     "cell_type": "code",
     "collapsed": false,
     "input": [
      "interpro_dict = {}\n",
      "for ip_file in ip_files:\n",
      "    tree = etree.parse(ip_file)\n",
      "    root = tree.getroot()\n",
      "    nsmap = {'ns':root.nsmap[None]}\n",
      "    pathways = root.xpath(\"//ns:pathway-xref[@db='KEGG']\",namespaces=nsmap)\n",
      "    go = root.xpath('//ns:go-xref',namespaces=nsmap)\n",
      "    pathway_names = [x.attrib['name'] for x in pathways]\n",
      "    pathway_dict = {}\n",
      "    for n in pathway_names:\n",
      "        if not n in pathway_dict:\n",
      "            pathway_dict[n] = 1\n",
      "        else:\n",
      "            pathway_dict[n] += 1\n",
      "    interpro_dict[ip_file] = pathway_dict"
     ],
     "language": "python",
     "metadata": {},
     "outputs": [],
     "prompt_number": ""
    },
    {
     "cell_type": "code",
     "collapsed": false,
     "input": [
      "def add_to_dict(data, key, count):\n",
      "    if not key in data:\n",
      "        data[key] = count\n",
      "    else:\n",
      "\n",
      "        data[key] += count"
     ],
     "language": "python",
     "metadata": {},
     "outputs": [],
     "prompt_number": ""
    },
    {
     "cell_type": "code",
     "collapsed": false,
     "input": [
      "count_dict = {}\n",
      "total_count_dict = {}\n",
      "for k, v in interpro_dict.items():\n",
      "    group = os.path.basename(k).split(\"_\")[0][-1]\n",
      "    if not group in count_dict:\n",
      "        count_dict[group] = {}\n",
      "    for pathway, count in v.items():\n",
      "        add_to_dict(count_dict[group], pathway, count)\n",
      "        add_to_dict(total_count_dict, group, count)"
     ],
     "language": "python",
     "metadata": {},
     "outputs": [],
     "prompt_number": ""
    },
    {
     "cell_type": "code",
     "collapsed": true,
     "input": [
      "with open(\"pathways.txt\", \"w\") as o:\n",
      "    o.write(\"source\\tpathway\\test_count\\n\")\n",
      "    for k, v in count_dict.items():\n",
      "        for i, j in v.items():\n",
      "            o.write('%s\\t%s\\t%d\\n' % (k, i, j))\n"
     ],
     "language": "python",
     "metadata": {},
     "outputs": [],
     "prompt_number": ""
    },
    {
     "cell_type": "code",
     "collapsed": false,
     "input": [
      "def create_pie_chart(data_dict, filename, title, minval):\n",
      "    for k, v in data_dict.items():\n",
      "        labels = []\n",
      "        counts = []\n",
      "        keys = sorted(v.keys())\n",
      "        for pathway in keys:\n",
      "            count = v[pathway]\n",
      "            frac = count*1.0/total_count_dict[k]\n",
      "            if frac >= minval:\n",
      "                labels.append(pathway)\n",
      "                counts.append(count*1.0)\n",
      "        fig, ax = plt.subplots()\n",
      "        fig.set_size_inches(8,8)\n",
      "        plt.title(\"%s %s\" % (k, title))\n",
      "        vals = [x/sum(counts) for x in counts]\n",
      "        cmap = plt.cm.jet\n",
      "        colors = cmap(np.linspace(0.0, 1.0, len(vals)))\n",
      "        wedges = plt.pie(vals, \n",
      "                labels=labels,\n",
      "                colors=colors)\n",
      "        for wedge in wedges[0]:\n",
      "            wedge.set_edgecolor('white')\n",
      "        plt.savefig(\"%s_%s.pdf\" % (k, filename), bbox_inches='tight')\n",
      "        plt.show()\n",
      "create_pie_chart(count_dict, \"pathway\", \"KEGG Pathways\", 0.01)"
     ],
     "language": "python",
     "metadata": {},
     "outputs": [],
     "prompt_number": ""
    },
    {
     "cell_type": "code",
     "collapsed": false,
     "input": [
      "def get_go_info(ip_file, ns_id, p_id, match):\n",
      "    go = match.xpath(\".//ns:signature/ns:entry/ns:go-xref\", namespaces=nsmap)\n",
      "    if len(go) > 0:\n",
      "        if not ip_file in go_dict:\n",
      "            go_dict[ip_file] = {}\n",
      "            \n",
      "        if not ns_id in go_dict[ip_file]:\n",
      "            go_dict[ip_file][ns_id] = set()\n",
      "        for g in go:\n",
      "#             print g.attrib\n",
      "            go_dict[ip_file][ns_id].add(str(g.attrib))\n",
      "\n",
      "def process_match(ip_file, ns_id, p_id, orf, match):\n",
      "    get_go_info(ip_file, ns_id, p_id, match)\n",
      "\n",
      "def process_orf(ip_file, ns_id, orf):\n",
      "    p_id = orf.xpath(\"./ns:protein/ns:xref\", namespaces=nsmap)[0].attrib['id']\n",
      "    matches = orf.xpath(\"./ns:protein/ns:matches/*\", namespaces=nsmap)\n",
      "    for m in matches:\n",
      "        process_match(ip_file, ns_id, p_id, orf, m)    \n",
      "\n",
      "def process_orfs(ip_file, orfs):\n",
      "    for orf in orfs:\n",
      "        ns_id = orf.getparent().xpath(\"ns:xref\", namespaces=nsmap)[0].attrib['id']\n",
      "        process_orf(ip_file, ns_id, orf) \n",
      "    \n",
      "go_dict = {}\n",
      "for ip_file in ip_files:\n",
      "    print ip_file\n",
      "    tree = etree.parse(ip_file)\n",
      "    root = tree.getroot()\n",
      "    nsmap = {'ns':root.nsmap[None]}\n",
      "    orfs = root.xpath(\"//ns:orf\",namespaces=nsmap)\n",
      "    process_orfs(ip_file, orfs)"
     ],
     "language": "python",
     "metadata": {},
     "outputs": [],
     "prompt_number": ""
    },
    {
     "cell_type": "code",
     "collapsed": false,
     "input": [
      "go_mf_count_dict = {}\n",
      "go_bp_count_dict = {}\n",
      "for ip_file, ip_data in go_dict.items():\n",
      "    uni_keys = sorted(ip_data.keys())\n",
      "    group = os.path.basename(ip_file).split(\"_\")[0][-1]\n",
      "    if not group in go_mf_count_dict:\n",
      "        go_mf_count_dict[group] = {}\n",
      "        go_bp_count_dict[group] = {}\n",
      "    for uni in uni_keys:\n",
      "        uni_data = ip_data[uni]\n",
      "        for x in uni_data:\n",
      "            x = eval(x)\n",
      "            if 'MOLECULAR_FUNCTION' in x['category']:\n",
      "                add_to_dict(go_mf_count_dict[group], x['name'], 1)\n",
      "            elif 'BIOLOGICAL_PROCESS' in x['category']:\n",
      "                add_to_dict(go_bp_count_dict[group], x['name'], 1)\n",
      "                \n",
      "        "
     ],
     "language": "python",
     "metadata": {},
     "outputs": [],
     "prompt_number": ""
    },
    {
     "cell_type": "code",
     "collapsed": false,
     "input": [
      "create_pie_chart(go_mf_count_dict, \"go_mf\", \"GO Molecular Function\", 0.01)"
     ],
     "language": "python",
     "metadata": {},
     "outputs": [],
     "prompt_number": ""
    },
    {
     "cell_type": "code",
     "collapsed": false,
     "input": [
      "create_pie_chart(go_bp_count_dict, \"go_bp\", \"GO Biological Process\", 0.01)"
     ],
     "language": "python",
     "metadata": {},
     "outputs": [],
     "prompt_number": ""
    },
    {
     "cell_type": "markdown",
     "metadata": {},
     "source": [
      "##Filter blast hits"
     ]
    },
    {
     "cell_type": "code",
     "collapsed": false,
     "input": [
      "#decorate fasta files with sample (for blast2go)\n",
      "unigene_files = [\"/Users/chris/projects/black_spruce/seqclean/P32N.fa.clean_output/P32N_unigene_seq.fasta\",\n",
      "\"/Users/chris/projects/black_spruce/seqclean/P32C.fa.clean_output/P32C_unigene_seq.fasta\",\n",
      "\"/Users/chris/projects/black_spruce/seqclean/P40C.fa.clean_output/P40C_unigene_seq.fasta\",\n",
      "\"/Users/chris/projects/black_spruce/seqclean/P40N.fa.clean_output/P40N_unigene_seq.fasta\"]\n",
      "for u in unigene_files:\n",
      "    print u\n",
      "    key = os.path.basename(u).split(\"_\")[0]\n",
      "    recs = []\n",
      "    for rec in SeqIO.parse(u, \"fasta\"):\n",
      "        rec.id = \"%s_%s\" % (key, rec.id)\n",
      "        rec.description = \"\"\n",
      "        recs.append(rec)\n",
      "    out_file = \"%s_decorated.fasta\" % u\n",
      "    print out_file\n",
      "    SeqIO.write(recs, open(out_file,\"w\"), \"fasta\")"
     ],
     "language": "python",
     "metadata": {},
     "outputs": [],
     "prompt_number": ""
    },
    {
     "cell_type": "code",
     "collapsed": false,
     "input": [
      "from Bio import SearchIO\n",
      "aln_limit = 1\n",
      "hsp_limit = 1\n",
      "min_query_perc = 0.5\n",
      "min_ident_perc = 0.5\n",
      "for f in blast_files:\n",
      "    print f\n",
      "    key = os.path.basename(f).split(\"_\")[0]\n",
      "    filtered_records = []\n",
      "    bit_scores = []\n",
      "    num_filtered = 0\n",
      "    num_total = 0\n",
      "    qresults = (record for record in SearchIO.parse(open(f), \"blast-xml\"))\n",
      "    for qresult in qresults:\n",
      "        qresult.id = \"%s_%s\" % (key, qresult.id) #decorate as in decorated unigene fasta (for blast2go)\n",
      "        for hit in qresult:\n",
      "            num_total += 1\n",
      "            for hsp in hit.hsps:\n",
      "                bit_scores.append(hsp.bitscore)\n",
      "                if hsp.query_span/qresult.seq_len >= min_query_perc:\n",
      "                    if hsp.ident_num/hsp.aln_span >= min_ident_perc:\n",
      "                        filtered_records.append(qresult)\n",
      "                        num_filtered += 1\n",
      "                break #just get the top hsp\n",
      "            break #just get the top hit\n",
      "    print num_filtered, num_total\n",
      "    plot_hist(bit_scores, f)\n",
      "    SearchIO.write(filtered_records, \"%s_filtered_%.2f_query_%.2f_ident.xml\" % (f, \n",
      "                                                                                min_query_perc, \n",
      "                                                                                min_ident_perc), \n",
      "                   \"blast-xml\")"
     ],
     "language": "python",
     "metadata": {},
     "outputs": [],
     "prompt_number": ""
    },
    {
     "cell_type": "code",
     "collapsed": false,
     "input": [
      "import Bio\n",
      "print Bio.__version__"
     ],
     "language": "python",
     "metadata": {},
     "outputs": [],
     "prompt_number": ""
    },
    {
     "cell_type": "code",
     "collapsed": false,
     "input": [],
     "language": "python",
     "metadata": {},
     "outputs": [],
     "prompt_number": ""
    },
    {
     "cell_type": "code",
     "collapsed": false,
     "input": [],
     "language": "python",
     "metadata": {},
     "outputs": [],
     "prompt_number": ""
    },
    {
     "cell_type": "code",
     "collapsed": false,
     "input": [],
     "language": "python",
     "metadata": {},
     "outputs": [],
     "prompt_number": ""
    },
    {
     "cell_type": "code",
     "collapsed": false,
     "input": [],
     "language": "python",
     "metadata": {},
     "outputs": [],
     "prompt_number": ""
    },
    {
     "cell_type": "code",
     "collapsed": false,
     "input": [],
     "language": "python",
     "metadata": {},
     "outputs": [],
     "prompt_number": ""
    },
    {
     "cell_type": "code",
     "collapsed": false,
     "input": [],
     "language": "python",
     "metadata": {},
     "outputs": [],
     "prompt_number": ""
    },
    {
     "cell_type": "code",
     "collapsed": false,
     "input": [],
     "language": "python",
     "metadata": {},
     "outputs": [],
     "prompt_number": ""
    },
    {
     "cell_type": "code",
     "collapsed": false,
     "input": [],
     "language": "python",
     "metadata": {},
     "outputs": [],
     "prompt_number": ""
    },
    {
     "cell_type": "code",
     "collapsed": false,
     "input": [],
     "language": "python",
     "metadata": {},
     "outputs": [],
     "prompt_number": ""
    },
    {
     "cell_type": "code",
     "collapsed": false,
     "input": [],
     "language": "python",
     "metadata": {},
     "outputs": [],
     "prompt_number": ""
    },
    {
     "cell_type": "code",
     "collapsed": false,
     "input": [],
     "language": "python",
     "metadata": {},
     "outputs": [],
     "prompt_number": ""
    },
    {
     "cell_type": "code",
     "collapsed": false,
     "input": [],
     "language": "python",
     "metadata": {},
     "outputs": [],
     "prompt_number": ""
    },
    {
     "cell_type": "code",
     "collapsed": false,
     "input": [],
     "language": "python",
     "metadata": {},
     "outputs": []
    },
    {
     "cell_type": "markdown",
     "metadata": {},
     "source": [
      "##Blast2GO"
     ]
    },
    {
     "cell_type": "markdown",
     "metadata": {},
     "source": [
      "version 2.7.2, jre 1.7.0_65\n",
      "\n",
      "pro server USA1-b2g_may14\n",
      "\n",
      "1. import sequences (decorated unigenes, e.g., PC32_UN001 vs UN001)\n",
      "1. import blast results\n",
      "1. unselect hits without blast\n",
      "1. run mapping step\n",
      "1. run annotation step\n",
      "1. run interpro\n",
      "1. merge interpro\n",
      "1. run annex\n",
      "1. run go-enzymecode\n",
      "1. load kegg maps\n",
      "\n",
      "###Merge\n",
      "1. create new project\n",
      "1. add dats from cambium (or needle)\n",
      "1. redownload kegg maps\n",
      "\n",
      "###Export\n",
      "1. file -> expoort -> generic export - > sequence names for each cambium and needle dat \n",
      "\n",
      "###Exact test\n",
      "1. merge cambium and needle dat\n",
      "1. input test as needle and ref as cambium\n",
      "1. 0.05/FDR exact test\n",
      "1. input test as cambium and ref as needle\n",
      "1. exact test\n",
      "1. export results < 0.05 for all and most specific"
     ]
    },
    {
     "cell_type": "code",
     "collapsed": false,
     "input": [],
     "language": "python",
     "metadata": {},
     "outputs": []
    },
    {
     "cell_type": "code",
     "collapsed": false,
     "input": [],
     "language": "python",
     "metadata": {},
     "outputs": []
    },
    {
     "cell_type": "code",
     "collapsed": false,
     "input": [],
     "language": "python",
     "metadata": {},
     "outputs": []
    },
    {
     "cell_type": "code",
     "collapsed": false,
     "input": [],
     "language": "python",
     "metadata": {},
     "outputs": []
    },
    {
     "cell_type": "code",
     "collapsed": false,
     "input": [],
     "language": "python",
     "metadata": {},
     "outputs": []
    },
    {
     "cell_type": "markdown",
     "metadata": {},
     "source": [
      "##Collapse unigenes by tissue"
     ]
    },
    {
     "cell_type": "code",
     "collapsed": false,
     "input": [
      "decorated = !find . | grep decorated"
     ],
     "language": "python",
     "metadata": {},
     "outputs": [],
     "prompt_number": ""
    },
    {
     "cell_type": "code",
     "collapsed": false,
     "input": [
      "decorated = [os.path.abspath(x) for x in decorated]\n",
      "decorated"
     ],
     "language": "python",
     "metadata": {},
     "outputs": [],
     "prompt_number": ""
    },
    {
     "cell_type": "markdown",
     "metadata": {},
     "source": [
      "    ['/Users/chris/projects/black_spruce/seqclean/P32C.fa.clean_output/P32C_unigene_seq.fasta_decorated.fasta',\n",
      "     '/Users/chris/projects/black_spruce/seqclean/P32N.fa.clean_output/P32N_unigene_seq.fasta_decorated.fasta',\n",
      "     '/Users/chris/projects/black_spruce/seqclean/P40C.fa.clean_output/P40C_unigene_seq.fasta_decorated.fasta',\n",
      "     '/Users/chris/projects/black_spruce/seqclean/P40N.fa.clean_output/P40N_unigene_seq.fasta_decorated.fasta']"
     ]
    },
    {
     "cell_type": "code",
     "collapsed": false,
     "input": [
      "seq_dict = {}\n",
      "for d in decorated:\n",
      "    tissue = os.path.basename(d).split(\"_\")[0][-1]\n",
      "    if not tissue in seq_dict:\n",
      "        seq_dict[tissue] = []\n",
      "    for rec in SeqIO.parse(d, \"fasta\"):\n",
      "        seq_dict[tissue].append(rec)"
     ],
     "language": "python",
     "metadata": {},
     "outputs": [],
     "prompt_number": ""
    },
    {
     "cell_type": "code",
     "collapsed": false,
     "input": [
      "combined_outfiles = []\n",
      "for tissue, seq_list in seq_dict.items():\n",
      "    outfile = \"%s_unigenes_combined.fasta\" % tissue\n",
      "    combined_outfiles.append(outfile)\n",
      "    SeqIO.write(seq_list, outfile, \"fasta\")"
     ],
     "language": "python",
     "metadata": {},
     "outputs": [],
     "prompt_number": ""
    },
    {
     "cell_type": "code",
     "collapsed": false,
     "input": [
      "!cat C_unigenes_combined.fasta >> all_unigenes_combined.fasta"
     ],
     "language": "python",
     "metadata": {},
     "outputs": [],
     "prompt_number": ""
    },
    {
     "cell_type": "code",
     "collapsed": false,
     "input": [
      "!cat N_unigenes_combined.fasta >> all_unigenes_combined.fasta"
     ],
     "language": "python",
     "metadata": {},
     "outputs": [],
     "prompt_number": ""
    },
    {
     "cell_type": "markdown",
     "metadata": {},
     "source": [
      "##Collapse all ESTs into a single file\n",
      "(decorated by the source tissue)"
     ]
    },
    {
     "cell_type": "code",
     "collapsed": false,
     "input": [
      "est_files = !ls seqclean/*.fa"
     ],
     "language": "python",
     "metadata": {},
     "outputs": [],
     "prompt_number": ""
    },
    {
     "cell_type": "code",
     "collapsed": false,
     "input": [
      "est_seqs = []\n",
      "for e in est_files:\n",
      "    base = os.path.basename(e)\n",
      "    for rec in SeqIO.parse(e, \"fasta\"):\n",
      "        rec.description = rec.description.replace(rec.id, \"\")\n",
      "        rec.id = \"%s_%s\" % (base, rec.id)\n",
      "        est_seqs.append(rec)"
     ],
     "language": "python",
     "metadata": {},
     "outputs": [],
     "prompt_number": ""
    },
    {
     "cell_type": "code",
     "collapsed": false,
     "input": [
      "SeqIO.write(est_seqs, \"seqclean/all_ests.fa\", \"fasta\")"
     ],
     "language": "python",
     "metadata": {},
     "outputs": [],
     "prompt_number": ""
    },
    {
     "cell_type": "markdown",
     "metadata": {},
     "source": [
      "##Run seqclean on godel for all ESTs\n",
      "\n",
      "runs with blast-2.2.26, after using formatdb -pF on the E. coli genome below\n",
      "\n",
      "    ~/data7/src/seqclean-x86_64/seqclean all_ests.fa -v ~/data7/src/UniVec -s ~/data7/projects/Escherichia_coli_K_12_substr__DH10B_uid58979/NC_010473.fna\n",
      "    \n",
      "    Collecting cleaning reports\n",
      "\n",
      "    **************************************************\n",
      "    Sequences analyzed:      5996\n",
      "    -----------------------------------\n",
      "                       valid:      5938  (2842 trimmed)\n",
      "                     trashed:        58\n",
      "    **************************************************\n",
      "    ----= Trashing summary =------\n",
      "           by 'NC_010473.fna':       34\n",
      "                    by 'dust':        1\n",
      "                  by 'shortq':       23\n",
      "    ------------------------------\n",
      "    Output file containing only valid and trimmed sequences: all_ests.fa.clean\n",
      "    For trimming and trashing details see cleaning report  : all_ests.fa.cln\n",
      "    --------------------------------------------------\n",
      "    seqclean (all_ests.fa) finished on machine godel97"
     ]
    },
    {
     "cell_type": "markdown",
     "metadata": {},
     "source": [
      "##Run iAssembler on all ESTs"
     ]
    },
    {
     "cell_type": "markdown",
     "metadata": {},
     "source": [
      "    ~/data7/src/iAssembler-v1.3.2.x64/iAssembler.pl -i all_ests.fa.clean "
     ]
    },
    {
     "cell_type": "code",
     "collapsed": false,
     "input": [
      "all_est_dir = \"~/projects/black_spruce/seqclean/all_ests.fa.clean_output\""
     ],
     "language": "python",
     "metadata": {},
     "outputs": [],
     "prompt_number": ""
    },
    {
     "cell_type": "code",
     "collapsed": false,
     "input": [
      "cd $all_est_dir"
     ],
     "language": "python",
     "metadata": {},
     "outputs": [],
     "prompt_number": ""
    },
    {
     "cell_type": "code",
     "collapsed": false,
     "input": [
      "!head contig_member"
     ],
     "language": "python",
     "metadata": {},
     "outputs": [],
     "prompt_number": ""
    },
    {
     "cell_type": "code",
     "collapsed": false,
     "input": [
      "def create_est_count_file(contig_member_file):\n",
      "    est_counts = 0\n",
      "    unigene_counts = 0\n",
      "    keys = [\"P32C\", \"P40C\", \"P32N\", \"P40N\"]\n",
      "    with open(\"%s.counts\" % contig_member_file, \"w\") as o:\n",
      "        o.write(\"unigene\\t%s\\n\" % '\\t'.join(keys))\n",
      "        for line in open(contig_member_file):\n",
      "            unigene_counts += 1\n",
      "            counts = {}\n",
      "            for k in keys:\n",
      "                counts[k] = 0\n",
      "            line = line.split()\n",
      "            for elem in line[1:]:\n",
      "                tissue = elem.split(\".\")[0]\n",
      "                if tissue in keys:\n",
      "                    counts[tissue] += 1\n",
      "                est_counts += 1\n",
      "            vals = []\n",
      "            for k in keys:\n",
      "                vals.append(counts[k])\n",
      "            o.write(\"%s\\t%s\\n\" % (line[0], '\\t'.join([str(x) for x in vals])))\n",
      "    print \"%d ESTs in %d Unigenes\" % (est_counts, unigene_counts)\n",
      "create_est_count_file(\"contig_member\")"
     ],
     "language": "python",
     "metadata": {},
     "outputs": [],
     "prompt_number": ""
    },
    {
     "cell_type": "markdown",
     "metadata": {},
     "source": [
      "    5938 ESTs in 1945 Unigenes"
     ]
    },
    {
     "cell_type": "markdown",
     "metadata": {},
     "source": [
      "## Blast unigenes against nr"
     ]
    },
    {
     "cell_type": "code",
     "collapsed": false,
     "input": [
      "cd ~/projects/black_spruce/"
     ],
     "language": "python",
     "metadata": {},
     "outputs": [],
     "prompt_number": ""
    },
    {
     "cell_type": "markdown",
     "metadata": {},
     "source": [
      "    cd /home/cfriedline/data7/projects/black_spruce/\n",
      "\n",
      "    $qsub blast_all_ests.sh\n",
      "    ~/src/ncbi-blast-2.2.29+/bin/blastx -db ~/data7/nr/nr -max_target_seqs 10 -outfmt 5 -num_threads 24 -evalue 1e-5 -query all_ests.fa.clean_output/unigene_seq.fasta -out all_blast.xml\n"
     ]
    },
    {
     "cell_type": "markdown",
     "metadata": {},
     "source": [
      "## Massage Blast2GO output for topGO in R\n",
      "This file is generated using file -> export -> export annotations -> annotations by go"
     ]
    },
    {
     "cell_type": "code",
     "collapsed": false,
     "input": [
      "anno_file = \"all_annot_GOs_20140722_2254.txt\""
     ],
     "language": "python",
     "metadata": {},
     "outputs": [],
     "prompt_number": ""
    },
    {
     "cell_type": "code",
     "collapsed": false,
     "input": [
      "anno_dict = {}\n",
      "for line in open(anno_file):\n",
      "    data = line.split(\"\\t\")\n",
      "    if not data[0] in anno_dict:\n",
      "        anno_dict[data[0]] = []\n",
      "    anno_dict[data[0]].append(data[2])"
     ],
     "language": "python",
     "metadata": {},
     "outputs": [],
     "prompt_number": ""
    },
    {
     "cell_type": "code",
     "collapsed": false,
     "input": [
      "with open(\"%s_topGO.txt\" % anno_file, \"w\") as o:\n",
      "    for k in sorted(anno_dict.keys()):\n",
      "        v = anno_dict[k]\n",
      "        o.write(\"%s\\t%s\\n\" % (k, \",\".join(v)))"
     ],
     "language": "python",
     "metadata": {},
     "outputs": [],
     "prompt_number": ""
    },
    {
     "cell_type": "code",
     "collapsed": false,
     "input": [],
     "language": "python",
     "metadata": {},
     "outputs": []
    },
    {
     "cell_type": "code",
     "collapsed": false,
     "input": [],
     "language": "python",
     "metadata": {},
     "outputs": []
    },
    {
     "cell_type": "markdown",
     "metadata": {},
     "source": [
      "#Run RSEM against unigene assembly"
     ]
    },
    {
     "cell_type": "code",
     "collapsed": false,
     "input": [
      "rsem_dir = \"/Users/chris/src/rsem-1.2.15\"\n",
      "rpr = os.path.join(rsem_dir, \"rsem-prepare-reference\")\n",
      "rce = os.path.join(rsem_dir, \"rsem-calculate-expression\")"
     ],
     "language": "python",
     "metadata": {},
     "outputs": [],
     "prompt_number": ""
    },
    {
     "cell_type": "code",
     "collapsed": false,
     "input": [
      "cd ~/projects/black_spruce/seqclean/"
     ],
     "language": "python",
     "metadata": {},
     "outputs": [],
     "prompt_number": ""
    },
    {
     "cell_type": "code",
     "collapsed": false,
     "input": [
      "!mkdir rsem"
     ],
     "language": "python",
     "metadata": {},
     "outputs": [],
     "prompt_number": ""
    },
    {
     "cell_type": "code",
     "collapsed": false,
     "input": [
      "cd rsem"
     ],
     "language": "python",
     "metadata": {},
     "outputs": [],
     "prompt_number": ""
    },
    {
     "cell_type": "code",
     "collapsed": false,
     "input": [
      "pwd"
     ],
     "language": "python",
     "metadata": {},
     "outputs": [],
     "prompt_number": ""
    },
    {
     "cell_type": "code",
     "collapsed": false,
     "input": [
      "rpr_cmd = \"%s %s %s %s %s %s\" % (rpr,\n",
      "                           \"--bowtie2\",\n",
      "                           \"--bowtie2-path /Users/chris/src/bowtie2-2.2.3/\",\n",
      "                           \"~/projects/black_spruce/seqclean/all_ests.fa.clean_output/unigene_seq.fasta\",\n",
      "                           \"--no-polyA\",\n",
      "                           \"black_spruce\")"
     ],
     "language": "python",
     "metadata": {},
     "outputs": [],
     "prompt_number": ""
    },
    {
     "cell_type": "markdown",
     "metadata": {},
     "source": [
      "### Prepare rsem reference"
     ]
    },
    {
     "cell_type": "code",
     "collapsed": false,
     "input": [
      "!$rpr_cmd"
     ],
     "language": "python",
     "metadata": {},
     "outputs": [],
     "prompt_number": ""
    },
    {
     "cell_type": "markdown",
     "metadata": {},
     "source": [
      "###Compute expression for cambium and needle"
     ]
    },
    {
     "cell_type": "code",
     "collapsed": false,
     "input": [
      "for tissue, suffix in zip([\"cambium\", \"needle\"], [\"C\", \"N\"]):\n",
      "    files = []\n",
      "    parents = [\"P32\", \"P40\"]\n",
      "    for parent in parents:\n",
      "        #use the seqcleaned file\n",
      "        f = os.path.join(\"/Users/chris/projects/black_spruce/seqclean/%s%s.fa.clean\" % (parent, suffix))\n",
      "        files.append(f)\n",
      "    rce_cmd = \"%s %s %s %s %s %s %s %s\" % (rce,\n",
      "                                       \"-p 8\",\n",
      "                                       \"--no-qualities\",\n",
      "                                       \"--bowtie2\",\n",
      "                                       \"--bowtie2-path ~/src/bowtie2-2.2.3\",\n",
      "                                       \",\".join(files),\n",
      "                                       \"black_spruce\",\n",
      "                                       tissue)\n",
      "    print rce_cmd\n",
      "    !$rce_cmd\n"
     ],
     "language": "python",
     "metadata": {},
     "outputs": [],
     "prompt_number": ""
    },
    {
     "cell_type": "markdown",
     "metadata": {},
     "source": [
      "    /Users/chris/src/rsem-1.2.15/rsem-calculate-expression -p 8 --no-qualities --bowtie2 --bowtie2-path ~/src/bowtie2-2.2.3 /Users/chris/projects/black_spruce/seqclean/P32C.fa.clean,/Users/chris/projects/black_spruce/seqclean/P40C.fa.clean black_spruce cambium\n",
      "    /Users/chris/src/bowtie2-2.2.3/bowtie2 -f --sensitive --dpad 0 --gbar 99999999 --mp 1,1 --np 1 --score-min L,0,-0.1 -p 8 -k 200 -x black_spruce -U /Users/chris/projects/black_spruce/seqclean/P32C.fa.clean,/Users/chris/projects/black_spruce/seqclean/P40C.fa.clean | samtools view -S -b -o cambium.temp/cambium.bam -\n",
      "    [samopen] SAM header is present: 1945 sequences.\n",
      "    2958 reads; of these:\n",
      "      2958 (100.00%) were unpaired; of these:\n",
      "        293 (9.91%) aligned 0 times\n",
      "        1221 (41.28%) aligned exactly 1 time\n",
      "        1444 (48.82%) aligned >1 times\n",
      "    90.09% overall alignment rate\n",
      "\n",
      "    rsem-parse-alignments black_spruce cambium.temp/cambium cambium.stat/cambium b cambium.temp/cambium.bam -t 0 -tag XM\n",
      "    Done!\n",
      "\n",
      "    rsem-build-read-index 32 0 0 cambium.temp/cambium_alignable.fa\n",
      "    Build Index cambium.temp/cambium_alignable.fa is Done!\n",
      "\n",
      "    rsem-run-em black_spruce 0 cambium cambium.temp/cambium cambium.stat/cambium -p 8 -b b cambium.temp/cambium.bam 0\n",
      "    Refs.loadRefs finished!\n",
      "    Thread 0 : N = 448, NHit = 1725\n",
      "    Thread 1 : N = 397, NHit = 1726\n",
      "    Thread 2 : N = 355, NHit = 1735\n",
      "    Thread 3 : N = 256, NHit = 1727\n",
      "    Thread 4 : N = 263, NHit = 1731\n",
      "    Thread 5 : N = 316, NHit = 1734\n",
      "    Thread 6 : N = 318, NHit = 1729\n",
      "    DAT 0 reads left\n",
      "    Thread 7 : N = 312, NHit = 1693\n",
      "    EM_init finished!\n",
      "    estimateFromReads, N0 finished.\n",
      "    estimateFromReads, N1 finished.\n",
      "    ROUND = 1, SUM = 2958, bChange = 36.9475, totNum = 1945\n",
      "    ROUND = 2, SUM = 2958, bChange = 1, totNum = 233\n",
      "    ROUND = 3, SUM = 2958, bChange = 0.998708, totNum = 182\n",
      "    ROUND = 4, SUM = 2958, bChange = 0.920938, totNum = 136\n",
      "    ROUND = 5, SUM = 2958, bChange = 0.993174, totNum = 98\n",
      "    ROUND = 6, SUM = 2958, bChange = 0.783775, totNum = 68\n",
      "    ROUND = 7, SUM = 2958, bChange = 0.721786, totNum = 59\n",
      "    ROUND = 8, SUM = 2958, bChange = 0.649194, totNum = 50\n",
      "    ROUND = 9, SUM = 2958, bChange = 0.649482, totNum = 44\n",
      "    ROUND = 10, SUM = 2958, bChange = 0.521956, totNum = 40\n",
      "    ROUND = 11, SUM = 2958, bChange = 0.521964, totNum = 36\n",
      "    ROUND = 12, SUM = 2958, bChange = 0.521967, totNum = 28\n",
      "    ROUND = 13, SUM = 2958, bChange = 0.427098, totNum = 24\n",
      "    ROUND = 14, SUM = 2958, bChange = 0.427148, totNum = 20\n",
      "    ROUND = 15, SUM = 2958, bChange = 0.427176, totNum = 18\n",
      "    ROUND = 16, SUM = 2958, bChange = 0.427192, totNum = 17\n",
      "    ROUND = 17, SUM = 2958, bChange = 0.427202, totNum = 13\n",
      "    ROUND = 18, SUM = 2958, bChange = 0.424436, totNum = 11\n",
      "    ROUND = 19, SUM = 2958, bChange = 0.424441, totNum = 9\n",
      "    ROUND = 20, SUM = 2958, bChange = 0.424443, totNum = 8\n",
      "    ROUND = 21, SUM = 2958, bChange = 0.388874, totNum = 7\n",
      "    ROUND = 22, SUM = 2958, bChange = 0.388879, totNum = 6\n",
      "    ROUND = 23, SUM = 2958, bChange = 0.388883, totNum = 6\n",
      "    ROUND = 24, SUM = 2958, bChange = 0.232148, totNum = 4\n",
      "    ROUND = 25, SUM = 2958, bChange = 0.23208, totNum = 4\n",
      "    ROUND = 26, SUM = 2958, bChange = 0.232028, totNum = 4\n",
      "    ROUND = 27, SUM = 2958, bChange = 0.0460228, totNum = 3\n",
      "    ROUND = 28, SUM = 2958, bChange = 0.046475, totNum = 3\n",
      "    ROUND = 29, SUM = 2958, bChange = 0.0469102, totNum = 3\n",
      "    ROUND = 30, SUM = 2958, bChange = 0.0473286, totNum = 3\n",
      "    ROUND = 31, SUM = 2958, bChange = 0.0477306, totNum = 3\n",
      "    ROUND = 32, SUM = 2958, bChange = 0.0481165, totNum = 3\n",
      "    ROUND = 33, SUM = 2958, bChange = 0.0484866, totNum = 2\n",
      "    ROUND = 34, SUM = 2958, bChange = 0.0488413, totNum = 2\n",
      "    ROUND = 35, SUM = 2958, bChange = 0.049181, totNum = 2\n",
      "    ROUND = 36, SUM = 2958, bChange = 0.0495062, totNum = 2\n",
      "    ROUND = 37, SUM = 2958, bChange = 0.0498172, totNum = 2\n",
      "    ROUND = 38, SUM = 2958, bChange = 0.0501144, totNum = 2\n",
      "    ROUND = 39, SUM = 2958, bChange = 0.0503983, totNum = 2\n",
      "    ROUND = 40, SUM = 2958, bChange = 0.0506694, totNum = 2\n",
      "    ROUND = 41, SUM = 2958, bChange = 0.050928, totNum = 2\n",
      "    ROUND = 42, SUM = 2958, bChange = 0.0511747, totNum = 2\n",
      "    ROUND = 43, SUM = 2958, bChange = 0.0514097, totNum = 2\n",
      "    ROUND = 44, SUM = 2958, bChange = 0.0516337, totNum = 2\n",
      "    ROUND = 45, SUM = 2958, bChange = 0.051847, totNum = 2\n",
      "    ROUND = 46, SUM = 2958, bChange = 0.05205, totNum = 2\n",
      "    ROUND = 47, SUM = 2958, bChange = 0.0522431, totNum = 2\n",
      "    ROUND = 48, SUM = 2958, bChange = 0.0524268, totNum = 2\n",
      "    ROUND = 49, SUM = 2958, bChange = 0.0526014, totNum = 2\n",
      "    ROUND = 50, SUM = 2958, bChange = 0.0527674, totNum = 2\n",
      "    ROUND = 51, SUM = 2958, bChange = 0.052925, totNum = 2\n",
      "    ROUND = 52, SUM = 2958, bChange = 0.0530748, totNum = 2\n",
      "    ROUND = 53, SUM = 2958, bChange = 0.053217, totNum = 2\n",
      "    ROUND = 54, SUM = 2958, bChange = 0.0533519, totNum = 2\n",
      "    ROUND = 55, SUM = 2958, bChange = 0.05348, totNum = 2\n",
      "    ROUND = 56, SUM = 2958, bChange = 0.0536014, totNum = 2\n",
      "    ROUND = 57, SUM = 2958, bChange = 0.0537166, totNum = 2\n",
      "    ROUND = 58, SUM = 2958, bChange = 0.0538259, totNum = 2\n",
      "    ROUND = 59, SUM = 2958, bChange = 0.0539294, totNum = 2\n",
      "    ROUND = 60, SUM = 2958, bChange = 0.0540276, totNum = 2\n",
      "    ROUND = 61, SUM = 2958, bChange = 0.0541206, totNum = 2\n",
      "    ROUND = 62, SUM = 2958, bChange = 0.0542087, totNum = 2\n",
      "    ROUND = 63, SUM = 2958, bChange = 0.0542922, totNum = 2\n",
      "    ROUND = 64, SUM = 2958, bChange = 0.0543712, totNum = 2\n",
      "    ROUND = 65, SUM = 2958, bChange = 0.0544461, totNum = 2\n",
      "    ROUND = 66, SUM = 2958, bChange = 0.054517, totNum = 2\n",
      "    ROUND = 67, SUM = 2958, bChange = 0.054584, totNum = 2\n",
      "    ROUND = 68, SUM = 2958, bChange = 0.0546475, totNum = 2\n",
      "    ROUND = 69, SUM = 2958, bChange = 0.0547076, totNum = 2\n",
      "    ROUND = 70, SUM = 2958, bChange = 0.0547645, totNum = 2\n",
      "    ROUND = 71, SUM = 2958, bChange = 0.0548183, totNum = 1\n",
      "    ROUND = 72, SUM = 2958, bChange = 0.0548692, totNum = 1\n",
      "    ROUND = 73, SUM = 2958, bChange = 0.0549174, totNum = 1\n",
      "    ROUND = 74, SUM = 2958, bChange = 0.0549629, totNum = 1\n",
      "    ROUND = 75, SUM = 2958, bChange = 0.055006, totNum = 1\n",
      "    ROUND = 76, SUM = 2958, bChange = 0.0550467, totNum = 1\n",
      "    ROUND = 77, SUM = 2958, bChange = 0.0550852, totNum = 1\n",
      "    ROUND = 78, SUM = 2958, bChange = 0.0551216, totNum = 1\n",
      "    ROUND = 79, SUM = 2958, bChange = 0.0551561, totNum = 1\n",
      "    ROUND = 80, SUM = 2958, bChange = 0.0551886, totNum = 1\n",
      "    ROUND = 81, SUM = 2958, bChange = 0.0552194, totNum = 1\n",
      "    ROUND = 82, SUM = 2958, bChange = 0.0552485, totNum = 1\n",
      "    ROUND = 83, SUM = 2958, bChange = 0.055276, totNum = 1\n",
      "    ROUND = 84, SUM = 2958, bChange = 0.055302, totNum = 1\n",
      "    ROUND = 85, SUM = 2958, bChange = 0.0553265, totNum = 1\n",
      "    ROUND = 86, SUM = 2958, bChange = 0.0553498, totNum = 1\n",
      "    ROUND = 87, SUM = 2958, bChange = 0.0553717, totNum = 1\n",
      "    ROUND = 88, SUM = 2958, bChange = 0.0553924, totNum = 1\n",
      "    ROUND = 89, SUM = 2958, bChange = 0.055412, totNum = 1\n",
      "    ROUND = 90, SUM = 2958, bChange = 0.0554305, totNum = 1\n",
      "    ROUND = 91, SUM = 2958, bChange = 0.055448, totNum = 1\n",
      "    ROUND = 92, SUM = 2958, bChange = 0.0554645, totNum = 1\n",
      "    ROUND = 93, SUM = 2958, bChange = 0.0554801, totNum = 1\n",
      "    ROUND = 94, SUM = 2958, bChange = 0.0554949, totNum = 1\n",
      "    ROUND = 95, SUM = 2958, bChange = 0.0555088, totNum = 1\n",
      "    ROUND = 96, SUM = 2958, bChange = 0.055522, totNum = 1\n",
      "    ROUND = 97, SUM = 2958, bChange = 0.0555344, totNum = 1\n",
      "    ROUND = 98, SUM = 2958, bChange = 0.0555462, totNum = 1\n",
      "    ROUND = 99, SUM = 2958, bChange = 0.0555573, totNum = 1\n",
      "    ROUND = 100, SUM = 2958, bChange = 0.0555678, totNum = 1\n",
      "    ROUND = 101, SUM = 2958, bChange = 0.0555777, totNum = 1\n",
      "    ROUND = 102, SUM = 2958, bChange = 0.055587, totNum = 1\n",
      "    ROUND = 103, SUM = 2958, bChange = 0.0555958, totNum = 1\n",
      "    ROUND = 104, SUM = 2958, bChange = 0.0556042, totNum = 1\n",
      "    ROUND = 105, SUM = 2958, bChange = 0.0556121, totNum = 1\n",
      "    ROUND = 106, SUM = 2958, bChange = 0.0556195, totNum = 1\n",
      "    ROUND = 107, SUM = 2958, bChange = 0.0556265, totNum = 1\n",
      "    ROUND = 108, SUM = 2958, bChange = 0.0556332, totNum = 1\n",
      "    ROUND = 109, SUM = 2958, bChange = 0.0556395, totNum = 1\n",
      "    ROUND = 110, SUM = 2958, bChange = 0.0556454, totNum = 1\n",
      "    ROUND = 111, SUM = 2958, bChange = 0.055651, totNum = 1\n",
      "    ROUND = 112, SUM = 2958, bChange = 0.0556563, totNum = 1\n",
      "    ROUND = 113, SUM = 2958, bChange = 0.0556613, totNum = 1\n",
      "    ROUND = 114, SUM = 2958, bChange = 0.055666, totNum = 1\n",
      "    ROUND = 115, SUM = 2958, bChange = 0.0556704, totNum = 1\n",
      "    ROUND = 116, SUM = 2958, bChange = 0.0556746, totNum = 1\n",
      "    ROUND = 117, SUM = 2958, bChange = 0.0556786, totNum = 1\n",
      "    ROUND = 118, SUM = 2958, bChange = 0.0556823, totNum = 1\n",
      "    ROUND = 119, SUM = 2958, bChange = 0.0556859, totNum = 1\n",
      "    ROUND = 120, SUM = 2958, bChange = 0.0556892, totNum = 1\n",
      "    ROUND = 121, SUM = 2958, bChange = 0.0556924, totNum = 1\n",
      "    ROUND = 122, SUM = 2958, bChange = 0.0556954, totNum = 1\n",
      "    ROUND = 123, SUM = 2958, bChange = 0.0556982, totNum = 1\n",
      "    ROUND = 124, SUM = 2958, bChange = 0.0557008, totNum = 1\n",
      "    ROUND = 125, SUM = 2958, bChange = 0.0557033, totNum = 1\n",
      "    ROUND = 126, SUM = 2958, bChange = 0.0557057, totNum = 1\n",
      "    ROUND = 127, SUM = 2958, bChange = 0.055708, totNum = 1\n",
      "    ROUND = 128, SUM = 2958, bChange = 0.0557101, totNum = 1\n",
      "    ROUND = 129, SUM = 2958, bChange = 0.0557121, totNum = 1\n",
      "    ROUND = 130, SUM = 2958, bChange = 0.055714, totNum = 1\n",
      "    ROUND = 131, SUM = 2958, bChange = 0.0557157, totNum = 1\n",
      "    ROUND = 132, SUM = 2958, bChange = 0.0557174, totNum = 1\n",
      "    ROUND = 133, SUM = 2958, bChange = 0.055719, totNum = 1\n",
      "    ROUND = 134, SUM = 2958, bChange = 0.0557205, totNum = 1\n",
      "    ROUND = 135, SUM = 2958, bChange = 0.0557219, totNum = 1\n",
      "    ROUND = 136, SUM = 2958, bChange = 0.0557233, totNum = 1\n",
      "    ROUND = 137, SUM = 2958, bChange = 0.0557245, totNum = 1\n",
      "    ROUND = 138, SUM = 2958, bChange = 0.0557257, totNum = 1\n",
      "    ROUND = 139, SUM = 2958, bChange = 0.0557268, totNum = 1\n",
      "    ROUND = 140, SUM = 2958, bChange = 0.0557279, totNum = 1\n",
      "    ROUND = 141, SUM = 2958, bChange = 0.0557289, totNum = 1\n",
      "    ROUND = 142, SUM = 2958, bChange = 0.0557299, totNum = 1\n",
      "    ROUND = 143, SUM = 2958, bChange = 0.0557307, totNum = 1\n",
      "    ROUND = 144, SUM = 2958, bChange = 0.0557316, totNum = 1\n",
      "    ROUND = 145, SUM = 2958, bChange = 0.0557324, totNum = 1\n",
      "    ROUND = 146, SUM = 2958, bChange = 0.0557331, totNum = 1\n",
      "    ROUND = 147, SUM = 2958, bChange = 0.0557339, totNum = 1\n",
      "    ROUND = 148, SUM = 2958, bChange = 0.0557345, totNum = 1\n",
      "    ROUND = 149, SUM = 2958, bChange = 0.0557352, totNum = 1\n",
      "    ROUND = 150, SUM = 2958, bChange = 0.0557358, totNum = 1\n",
      "    ROUND = 151, SUM = 2958, bChange = 0.0557363, totNum = 1\n",
      "    ROUND = 152, SUM = 2958, bChange = 0.0557369, totNum = 1\n",
      "    ROUND = 153, SUM = 2958, bChange = 0.0557374, totNum = 1\n",
      "    ROUND = 154, SUM = 2958, bChange = 0.0557378, totNum = 1\n",
      "    ROUND = 155, SUM = 2958, bChange = 0.0557383, totNum = 1\n",
      "    ROUND = 156, SUM = 2958, bChange = 0.0557387, totNum = 1\n",
      "    ROUND = 157, SUM = 2958, bChange = 0.0557391, totNum = 1\n",
      "    ROUND = 158, SUM = 2958, bChange = 0.0557395, totNum = 1\n",
      "    ROUND = 159, SUM = 2958, bChange = 0.0557399, totNum = 1\n",
      "    ROUND = 160, SUM = 2958, bChange = 0.0557402, totNum = 1\n",
      "    ROUND = 161, SUM = 2958, bChange = 0.0557405, totNum = 1\n",
      "    ROUND = 162, SUM = 2958, bChange = 0.0557408, totNum = 1\n",
      "    ROUND = 163, SUM = 2958, bChange = 0.0557411, totNum = 1\n",
      "    ROUND = 164, SUM = 2958, bChange = 0.0557414, totNum = 1\n",
      "    ROUND = 165, SUM = 2958, bChange = 0.0557416, totNum = 1\n",
      "    ROUND = 166, SUM = 2958, bChange = 0.0557419, totNum = 1\n",
      "    ROUND = 167, SUM = 2958, bChange = 0.0557421, totNum = 1\n",
      "    ROUND = 168, SUM = 2958, bChange = 0.0557423, totNum = 1\n",
      "    ROUND = 169, SUM = 2958, bChange = 0.0557425, totNum = 1\n",
      "    ROUND = 170, SUM = 2958, bChange = 0.0557427, totNum = 1\n",
      "    ROUND = 171, SUM = 2958, bChange = 0.0557429, totNum = 1\n",
      "    ROUND = 172, SUM = 2958, bChange = 0.055743, totNum = 1\n",
      "    ROUND = 173, SUM = 2958, bChange = 0.0557432, totNum = 1\n",
      "    ROUND = 174, SUM = 2958, bChange = 0.0557434, totNum = 1\n",
      "    ROUND = 175, SUM = 2958, bChange = 0.0557435, totNum = 1\n",
      "    ROUND = 176, SUM = 2958, bChange = 0.0557436, totNum = 1\n",
      "    ROUND = 177, SUM = 2958, bChange = 2.29429e-06, totNum = 0\n",
      "    Expression Results are written!\n",
      "    Bam output file is generated!\n",
      "    Time Used for EM.cpp : 0 h 00 m 01 s\n",
      "\n",
      "    samtools sort -@ 8 -m 1G cambium.transcript.bam cambium.transcript.sorted\n",
      "\n",
      "    samtools index cambium.transcript.sorted.bam\n",
      "\n",
      "    rm -rf cambium.temp\n",
      "\n",
      "    /Users/chris/src/rsem-1.2.15/rsem-calculate-expression -p 8 --no-qualities --bowtie2 --bowtie2-path ~/src/bowtie2-2.2.3 /Users/chris/projects/black_spruce/seqclean/P32N.fa.clean,/Users/chris/projects/black_spruce/seqclean/P40N.fa.clean black_spruce needle\n",
      "    /Users/chris/src/bowtie2-2.2.3/bowtie2 -f --sensitive --dpad 0 --gbar 99999999 --mp 1,1 --np 1 --score-min L,0,-0.1 -p 8 -k 200 -x black_spruce -U /Users/chris/projects/black_spruce/seqclean/P32N.fa.clean,/Users/chris/projects/black_spruce/seqclean/P40N.fa.clean | samtools view -S -b -o needle.temp/needle.bam -\n",
      "    [samopen] SAM header is present: 1945 sequences.\n",
      "    2672 reads; of these:\n",
      "      2672 (100.00%) were unpaired; of these:\n",
      "        356 (13.32%) aligned 0 times\n",
      "        1253 (46.89%) aligned exactly 1 time\n",
      "        1063 (39.78%) aligned >1 times\n",
      "    86.68% overall alignment rate\n",
      "\n",
      "    rsem-parse-alignments black_spruce needle.temp/needle needle.stat/needle b needle.temp/needle.bam -t 0 -tag XM\n",
      "    Done!\n",
      "\n",
      "    rsem-build-read-index 32 0 0 needle.temp/needle_alignable.fa\n",
      "    Build Index needle.temp/needle_alignable.fa is Done!\n",
      "\n",
      "    rsem-run-em black_spruce 0 needle needle.temp/needle needle.stat/needle -p 8 -b b needle.temp/needle.bam 0\n",
      "    Refs.loadRefs finished!\n",
      "    Thread 0 : N = 432, NHit = 798\n",
      "    Thread 1 : N = 500, NHit = 801\n",
      "    Thread 2 : N = 378, NHit = 798\n",
      "    Thread 3 : N = 202, NHit = 807\n",
      "    Thread 4 : N = 177, NHit = 799\n",
      "    Thread 5 : N = 201, NHit = 800\n",
      "    Thread 6 : N = 203, NHit = 799\n",
      "    DAT 0 reads left\n",
      "    Thread 7 : N = 223, NHit = 782\n",
      "    EM_init finished!\n",
      "    estimateFromReads, N0 finished.\n",
      "    estimateFromReads, N1 finished.\n",
      "    ROUND = 1, SUM = 2672, bChange = 85.4252, totNum = 1945\n",
      "    ROUND = 2, SUM = 2672, bChange = 0.999998, totNum = 153\n",
      "    ROUND = 3, SUM = 2672, bChange = 0.947006, totNum = 105\n",
      "    ROUND = 4, SUM = 2672, bChange = 0.938076, totNum = 79\n",
      "    ROUND = 5, SUM = 2672, bChange = 0.501949, totNum = 54\n",
      "    ROUND = 6, SUM = 2672, bChange = 0.504623, totNum = 32\n",
      "    ROUND = 7, SUM = 2672, bChange = 0.505931, totNum = 23\n",
      "    ROUND = 8, SUM = 2672, bChange = 0.506575, totNum = 20\n",
      "    ROUND = 9, SUM = 2672, bChange = 0.506893, totNum = 17\n",
      "    ROUND = 10, SUM = 2672, bChange = 0.507049, totNum = 11\n",
      "    ROUND = 11, SUM = 2672, bChange = 0.507126, totNum = 8\n",
      "    ROUND = 12, SUM = 2672, bChange = 0.507164, totNum = 6\n",
      "    ROUND = 13, SUM = 2672, bChange = 0.507183, totNum = 5\n",
      "    ROUND = 14, SUM = 2672, bChange = 0.507192, totNum = 4\n",
      "    ROUND = 15, SUM = 2672, bChange = 0.507197, totNum = 3\n",
      "    ROUND = 16, SUM = 2672, bChange = 0.00312939, totNum = 2\n",
      "    ROUND = 17, SUM = 2672, bChange = 0.00177803, totNum = 2\n",
      "    ROUND = 18, SUM = 2672, bChange = 0.00125328, totNum = 2\n",
      "    ROUND = 19, SUM = 2672, bChange = 0.000925286, totNum = 0\n",
      "    ROUND = 20, SUM = 2672, bChange = 0.000682957, totNum = 0\n",
      "    Expression Results are written!\n",
      "    Bam output file is generated!\n",
      "    Time Used for EM.cpp : 0 h 00 m 01 s\n",
      "\n",
      "    samtools sort -@ 8 -m 1G needle.transcript.bam needle.transcript.sorted\n",
      "\n",
      "    samtools index needle.transcript.sorted.bam\n",
      "\n",
      "    rm -rf needle.temp"
     ]
    },
    {
     "cell_type": "code",
     "collapsed": false,
     "input": [],
     "language": "python",
     "metadata": {},
     "outputs": []
    }
   ],
   "metadata": {}
  }
 ]
}