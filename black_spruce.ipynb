{
 "metadata": {
  "name": "",
  "signature": "sha256:1906a6db956aff9d383a4af13cee43bb45191655a9a486ab595855921fb8d605"
 },
 "nbformat": 3,
 "nbformat_minor": 0,
 "worksheets": [
  {
   "cells": [
    {
     "cell_type": "code",
     "collapsed": false,
     "input": [
      "import Bio, os, sys, shutil\n",
      "from Bio import SeqIO, SearchIO\n",
      "import matplotlib\n",
      "import matplotlib.pyplot as plt\n",
      "%matplotlib inline\n",
      "from IPython.parallel import Client\n",
      "import numpy as np\n",
      "import scipy as sp\n",
      "import dill as pickle\n",
      "from Bio.Blast import NCBIXML\n",
      "import pandas as pd\n",
      "from pprint import pprint\n",
      "from lxml import etree\n",
      "from __future__ import division\n",
      "from IPython.display import FileLinks, FileLink"
     ],
     "language": "python",
     "metadata": {},
     "outputs": [],
     "prompt_number": ""
    },
    {
     "cell_type": "code",
     "collapsed": false,
     "input": [
      "cd \"~/projects/black_spruce/\""
     ],
     "language": "python",
     "metadata": {},
     "outputs": [],
     "prompt_number": ""
    },
    {
     "cell_type": "code",
     "collapsed": false,
     "input": [
      "scf_dirs = set()\n",
      "scf_count = 0\n",
      "for root, dirs, files in os.walk(\".\"):\n",
      "    for f in files:\n",
      "        if f.endswith(\".SCF\"):\n",
      "            p = os.path.join(root, f)\n",
      "            p_new = p.replace(\".SCF\", \".scf\")\n",
      "            shutil.move(p, p_new)\n",
      "            scf_dirs.add(os.path.dirname(p_new))\n",
      "            scf_count += 1\n",
      "        elif f.endswith(\".scf\"):\n",
      "            scf_dirs.add(os.path.dirname(os.path.join(root, f)))\n",
      "            scf_count+=1\n",
      "print \"found %d scf files in %d dirs\" % (scf_count, len(scf_dirs))"
     ],
     "language": "python",
     "metadata": {},
     "outputs": [],
     "prompt_number": ""
    },
    {
     "cell_type": "code",
     "collapsed": false,
     "input": [
      "scf_dirs\n",
      "seq_dirs = [os.path.abspath(\"%s_seq\" % x) for x in scf_dirs]\n",
      "seq_dirs"
     ],
     "language": "python",
     "metadata": {},
     "outputs": []
    },
    {
     "cell_type": "code",
     "collapsed": false,
     "input": [
      "rc = Client()\n",
      "dview = rc[:]\n",
      "lview = rc.load_balanced_view()"
     ],
     "language": "python",
     "metadata": {},
     "outputs": []
    },
    {
     "cell_type": "code",
     "collapsed": false,
     "input": [
      "print len(dview)"
     ],
     "language": "python",
     "metadata": {},
     "outputs": []
    },
    {
     "cell_type": "code",
     "collapsed": false,
     "input": [
      "@lview.remote()\n",
      "def run_phred(d, phred_cutoff):\n",
      "    import os\n",
      "    os.environ['PHRED_PARAMETER_FILE'] = '/Users/chris/src/phred-dist-020425.c-acd/phredpar.dat'\n",
      "    r = !~/src/phred-dist-020425.c-acd/phred -id {d.replace(\"_seq\", \"\")} -sd {d} -qd {d} -trim_fasta -trim_alt \"\" -trim_cutoff {phred_cutoff}\n",
      "    return r"
     ],
     "language": "python",
     "metadata": {},
     "outputs": []
    },
    {
     "cell_type": "code",
     "collapsed": false,
     "input": [
      "phred_cutoff = 0.01\n",
      "phred_res = []\n",
      "for d in seq_dirs:\n",
      "    if not os.path.exists(d):\n",
      "        os.mkdir(d)\n",
      "    phred_res.append(run_phred(d, phred_cutoff))"
     ],
     "language": "python",
     "metadata": {},
     "outputs": []
    },
    {
     "cell_type": "code",
     "collapsed": false,
     "input": [
      "reads = {}\n",
      "for seq_dir in seq_dirs:\n",
      "    reads[seq_dir] = []\n",
      "    seq_files = !ls {seq_dir} | grep .seq\n",
      "    seq_files = [os.path.join(seq_dir, x) for x in seq_files]\n",
      "    for seq_file in seq_files:\n",
      "        reads[seq_dir].append(SeqIO.read(seq_file, \"fasta\"))\n",
      "print reads.keys()"
     ],
     "language": "python",
     "metadata": {},
     "outputs": []
    },
    {
     "cell_type": "code",
     "collapsed": false,
     "input": [
      "good_reads = {}\n",
      "for k, v in reads.items():\n",
      "    good_reads[k] = []\n",
      "    for read in v:\n",
      "        if len(read) >= 100:\n",
      "            good_reads[k].append(read)"
     ],
     "language": "python",
     "metadata": {},
     "outputs": []
    },
    {
     "cell_type": "code",
     "collapsed": false,
     "input": [
      "def read_hist(read_dict):\n",
      "    lens = []\n",
      "    for k, v in read_dict.items():\n",
      "        for r in v:\n",
      "            lens.append(len(r))\n",
      "    plt.hist(lens)\n",
      "    plt.xlabel(\"read length\")\n",
      "    plt.ylabel(\"count\")\n",
      "    plt.title(\"%d reads, mean(len) = %.2f, sd=%.2f, [%d, %d]\" % (len(lens), np.mean(lens), \n",
      "                                                        np.std(lens), np.min(lens), np.max(lens)))\n",
      "    plt.show()"
     ],
     "language": "python",
     "metadata": {},
     "outputs": [],
     "prompt_number": ""
    },
    {
     "cell_type": "code",
     "collapsed": false,
     "input": [
      "read_hist(reads)"
     ],
     "language": "python",
     "metadata": {},
     "outputs": []
    },
    {
     "cell_type": "code",
     "collapsed": false,
     "input": [
      "read_hist(good_reads)"
     ],
     "language": "python",
     "metadata": {},
     "outputs": []
    },
    {
     "cell_type": "code",
     "collapsed": false,
     "input": [
      "names = {'im_bscp32N_seq':'P32N', \n",
      "         'im_bscp32C_seq':'P32C', \n",
      "         'BSCP40N_seq':'P40N', \n",
      "         'BSCP40C_seq':'P40C'}\n",
      "for k, reads in good_reads.items():\n",
      "    key = os.path.basename(k)\n",
      "    with open(\"%s.fa\" % names[key], \"w\") as out:\n",
      "        SeqIO.write(reads, out, \"fasta\")"
     ],
     "language": "python",
     "metadata": {},
     "outputs": []
    },
    {
     "cell_type": "code",
     "collapsed": false,
     "input": [
      "good_files = !grep -c \">\" *.fa\n",
      "good_files = [os.path.abspath(x.split(':')[0]) for x in good_files]\n",
      "print good_files"
     ],
     "language": "python",
     "metadata": {},
     "outputs": []
    },
    {
     "cell_type": "code",
     "collapsed": false,
     "input": [
      "class Qual:\n",
      "    def __init__(self, name):\n",
      "        self.name = name.split()[0]\n",
      "        self.description = name\n",
      "        self.vals = []\n",
      "        \n",
      "    def __str__(self):\n",
      "        return \">%s\\n%s\" % (self.name, ' '.join(self.vals))\n",
      "    \n",
      "    def add_vals(self, line):\n",
      "        self.vals.append(line)"
     ],
     "language": "python",
     "metadata": {},
     "outputs": []
    },
    {
     "cell_type": "code",
     "collapsed": false,
     "input": [
      "qual_dirs = seq_dirs"
     ],
     "language": "python",
     "metadata": {},
     "outputs": []
    },
    {
     "cell_type": "code",
     "collapsed": false,
     "input": [
      "qual_dirs"
     ],
     "language": "python",
     "metadata": {},
     "outputs": []
    },
    {
     "cell_type": "code",
     "collapsed": false,
     "input": [
      "good_read_names = set()\n",
      "for k, v in good_reads.items():\n",
      "    for r in v:\n",
      "        good_read_names.add(r.name)\n",
      "for qual_dir in qual_dirs:\n",
      "    print qual_dir\n",
      "    quals = !ls {qual_dir} | grep .qual\n",
      "    quals = [os.path.join(qual_dir, x) for x in quals]\n",
      "    q = None\n",
      "    qual_list = []\n",
      "    for qual in quals:\n",
      "        for line in open(qual):\n",
      "            line = line.strip()\n",
      "            if line.startswith(\">\"):\n",
      "                q = Qual(line[1:])\n",
      "                qual_list.append(q)\n",
      "            else:\n",
      "                q.add_vals(line)\n",
      "    key = os.path.basename(qual_dir)\n",
      "    with open(\"%s.qual\" % names[key], \"w\") as out:\n",
      "        for q in qual_list:\n",
      "            if len(q.vals) > 0:\n",
      "                out.write(\"%s\\n\" % str(q))"
     ],
     "language": "python",
     "metadata": {},
     "outputs": []
    },
    {
     "cell_type": "code",
     "collapsed": false,
     "input": [
      "good_files"
     ],
     "language": "python",
     "metadata": {},
     "outputs": []
    },
    {
     "cell_type": "markdown",
     "metadata": {},
     "source": [
      "##Must run seqclean on linux (cdbfasta does not run on Mac).\n",
      "\n",
      "1. Shutdown running mac notebook\n",
      "1. start linux vm\n",
      "1. relaunch notebook from shared folder\n",
      "\n",
      "For example:\n",
      "\n",
      "    chris@vm:~/projects/black_spruce/seqclean$ ~/src/seqclean-x86_64/seqclean P40C.fa -v ~/src/UniVec/UniVec -s ~/projects/Escherichia_coli_K_12_substr__DH10B_uid58979/NC_010473.fna"
     ]
    },
    {
     "cell_type": "code",
     "collapsed": false,
     "input": [
      "cd seqclean/"
     ],
     "language": "python",
     "metadata": {},
     "outputs": [],
     "prompt_number": ""
    },
    {
     "cell_type": "code",
     "collapsed": false,
     "input": [
      "seq_clean_files = !ls *.clean"
     ],
     "language": "python",
     "metadata": {},
     "outputs": [],
     "prompt_number": ""
    },
    {
     "cell_type": "code",
     "collapsed": false,
     "input": [
      "seq_clean_files = [os.path.abspath(x) for x in seq_clean_files]"
     ],
     "language": "python",
     "metadata": {},
     "outputs": [],
     "prompt_number": ""
    },
    {
     "cell_type": "code",
     "collapsed": false,
     "input": [
      "seq_clean_reads = {}\n",
      "for f in seq_clean_files:\n",
      "    seq_clean_reads[f] = []\n",
      "    for read in SeqIO.parse(f, \"fasta\"):\n",
      "        seq_clean_reads[f].append(read)"
     ],
     "language": "python",
     "metadata": {},
     "outputs": [],
     "prompt_number": ""
    },
    {
     "cell_type": "code",
     "collapsed": false,
     "input": [
      "read_hist(seq_clean_reads)"
     ],
     "language": "python",
     "metadata": {},
     "outputs": [],
     "prompt_number": ""
    },
    {
     "cell_type": "markdown",
     "metadata": {},
     "source": [
      "##Run iAssembler\n",
      "\n",
      "Again, have to use linux b/c not supported on Mac.  `*.clean` files moved to `seqclean`\n",
      " directory for processing\n",
      "\n",
      "For example:\n",
      "\n",
      "    (conda)chris@vm:~/projects/black_spruce/seqclean$ ~/src/iAssembler-v1.3.2.x64/iAssembler.pl -i P32C.fa.clean "
     ]
    },
    {
     "cell_type": "markdown",
     "metadata": {},
     "source": [
      "##Rename unigene files according to source sample"
     ]
    },
    {
     "cell_type": "code",
     "collapsed": false,
     "input": [
      "cd seqclean/"
     ],
     "language": "python",
     "metadata": {},
     "outputs": [],
     "prompt_number": ""
    },
    {
     "cell_type": "code",
     "collapsed": false,
     "input": [
      "pwd"
     ],
     "language": "python",
     "metadata": {},
     "outputs": [],
     "prompt_number": ""
    },
    {
     "cell_type": "code",
     "collapsed": false,
     "input": [
      "output_dirs = !ls | grep _output"
     ],
     "language": "python",
     "metadata": {},
     "outputs": [],
     "prompt_number": ""
    },
    {
     "cell_type": "code",
     "collapsed": false,
     "input": [
      "output_dirs = [os.path.abspath(x) for x in output_dirs]\n",
      "output_dirs"
     ],
     "language": "python",
     "metadata": {},
     "outputs": [],
     "prompt_number": ""
    },
    {
     "cell_type": "code",
     "collapsed": false,
     "input": [
      "import shutil\n",
      "assembled_files = {}\n",
      "for o in output_dirs:\n",
      "    assembled_files[o] = []\n",
      "    key = os.path.basename(o).split(\".\")[0]\n",
      "    for f in os.listdir(o):\n",
      "        if not key in f:\n",
      "            f_name = \"%s_%s\" % (key, f)\n",
      "            shutil.copy(os.path.join(o, f), os.path.join(o, f_name))\n",
      "            assembled_files[o].append(os.path.join(o, f_name))"
     ],
     "language": "python",
     "metadata": {},
     "outputs": [],
     "prompt_number": ""
    },
    {
     "cell_type": "code",
     "collapsed": false,
     "input": [
      "assembled_fasta = []\n",
      "for k, v in assembled_files.items():\n",
      "    for f in v:\n",
      "        if '.fasta' in f:\n",
      "            assembled_fasta.append(f)\n",
      "            res = !grep -c \">\" $f\n",
      "            print f, res[0]"
     ],
     "language": "python",
     "metadata": {},
     "outputs": [],
     "prompt_number": ""
    },
    {
     "cell_type": "code",
     "collapsed": false,
     "input": [
      "unigene_reads = {}\n",
      "for f in assembled_fasta:\n",
      "    unigene_reads[f] = []\n",
      "    for read in SeqIO.parse(f, \"fasta\"):\n",
      "        unigene_reads[f].append(read)"
     ],
     "language": "python",
     "metadata": {},
     "outputs": [],
     "prompt_number": ""
    },
    {
     "cell_type": "code",
     "collapsed": false,
     "input": [
      "read_hist(unigene_reads)"
     ],
     "language": "python",
     "metadata": {},
     "outputs": [],
     "prompt_number": ""
    },
    {
     "cell_type": "markdown",
     "metadata": {},
     "source": [
      "    ~/data7/my_interproscan/interproscan-5.3-46.0/interproscan.sh -i P32C_unigene_seq.fasta"
     ]
    },
    {
     "cell_type": "markdown",
     "metadata": {},
     "source": [
      "##Blast hits (iPlant)\n",
      "\n",
      "    cfriedline@vm64-60:~/projects/black_spruce$ ~/src/ncbi-blast-2.2.29+/bin/blastx -db ~/nr/nr -max_target_seqs 10 -outfmt 5 -num_threads 8 -evalue 1e-5 -query P32C.fa.clean_output/P32C_unigene_seq.fasta -out P32C_blast.xml"
     ]
    },
    {
     "cell_type": "markdown",
     "metadata": {},
     "source": [
      "##Download blast files from iPlant atmosphere"
     ]
    },
    {
     "cell_type": "code",
     "collapsed": false,
     "input": [
      "!scp atmo:/home/cfriedline/projects/black_spruce/*blast.xml ."
     ],
     "language": "python",
     "metadata": {},
     "outputs": [],
     "prompt_number": ""
    },
    {
     "cell_type": "code",
     "collapsed": false,
     "input": [
      "blast_files = !ls *_blast.xml"
     ],
     "language": "python",
     "metadata": {},
     "outputs": [],
     "prompt_number": ""
    },
    {
     "cell_type": "markdown",
     "metadata": {},
     "source": [
      "##Process blast"
     ]
    },
    {
     "cell_type": "code",
     "collapsed": false,
     "input": [
      "blast_files = [os.path.abspath(x) for x in blast_files]"
     ],
     "language": "python",
     "metadata": {},
     "outputs": [],
     "prompt_number": ""
    },
    {
     "cell_type": "code",
     "collapsed": false,
     "input": [
      "blast_files"
     ],
     "language": "python",
     "metadata": {},
     "outputs": [],
     "prompt_number": ""
    },
    {
     "cell_type": "code",
     "collapsed": false,
     "input": [
      "def plot_hist(data, title):\n",
      "    plt.hist(data)\n",
      "    plt.title(title)\n",
      "    plt.show()"
     ],
     "language": "python",
     "metadata": {},
     "outputs": [],
     "prompt_number": ""
    },
    {
     "cell_type": "code",
     "collapsed": false,
     "input": [
      "aln_limit = 1\n",
      "hsp_limit = 1\n",
      "for f in blast_files:\n",
      "    query_percs = [] \n",
      "    ident_percs = []\n",
      "    for record in NCBIXML.parse(open(f)):\n",
      "        for i, aln in enumerate(record.alignments):\n",
      "            if i == aln_limit: break\n",
      "            for j, hsp in enumerate(aln.hsps):\n",
      "                if j == hsp_limit: break\n",
      "                query_length = ((hsp.query_end-hsp.query_start)+1.0)\n",
      "                query_perc = query_length/record.query_length\n",
      "                query_percs.append(query_perc)\n",
      "                ident_perc = float(hsp.identities)/hsp.align_length\n",
      "                ident_percs.append(ident_perc)\n",
      "            break\n",
      "    plot_hist(query_percs, \"query percs %s\" % os.path.basename(f))\n",
      "    plot_hist(ident_percs, \"ident percs %s\" % os.path.basename(f))"
     ],
     "language": "python",
     "metadata": {},
     "outputs": [],
     "prompt_number": ""
    },
    {
     "cell_type": "markdown",
     "metadata": {},
     "source": [
      "##Run interpro on godel cluster\n",
      "\n",
      "    ~/data7/my_interproscan/interproscan-5.3-46.0/interproscan.sh --seqtype n --pathways --iprlookup --goterms -i P32C_unigene_seq.fasta"
     ]
    },
    {
     "cell_type": "code",
     "collapsed": false,
     "input": [
      "ip_files = ['P40N_unigene_seq.fasta_1.xml', \n",
      "            'P40C_unigene_seq.fasta_1.xml',\n",
      "            'P32N_unigene_seq.fasta_1.xml',\n",
      "            'P32C_unigene_seq.fasta_1.xml']\n",
      "ip_files = [os.path.join('/Users/chris/projects/black_spruce/interpro', x) for x in ip_files]"
     ],
     "language": "python",
     "metadata": {},
     "outputs": [],
     "prompt_number": ""
    },
    {
     "cell_type": "code",
     "collapsed": false,
     "input": [
      "interpro_dict = {}\n",
      "for ip_file in ip_files:\n",
      "    tree = etree.parse(ip_file)\n",
      "    root = tree.getroot()\n",
      "    nsmap = {'ns':root.nsmap[None]}\n",
      "    pathways = root.xpath(\"//ns:pathway-xref[@db='KEGG']\",namespaces=nsmap)\n",
      "    go = root.xpath('//ns:go-xref',namespaces=nsmap)\n",
      "    pathway_names = [x.attrib['name'] for x in pathways]\n",
      "    pathway_dict = {}\n",
      "    for n in pathway_names:\n",
      "        if not n in pathway_dict:\n",
      "            pathway_dict[n] = 1\n",
      "        else:\n",
      "            pathway_dict[n] += 1\n",
      "    interpro_dict[ip_file] = pathway_dict"
     ],
     "language": "python",
     "metadata": {},
     "outputs": [],
     "prompt_number": ""
    },
    {
     "cell_type": "code",
     "collapsed": false,
     "input": [
      "def add_to_dict(data, key, count):\n",
      "    if not key in data:\n",
      "        data[key] = count\n",
      "    else:\n",
      "\n",
      "        data[key] += count"
     ],
     "language": "python",
     "metadata": {},
     "outputs": [],
     "prompt_number": ""
    },
    {
     "cell_type": "code",
     "collapsed": false,
     "input": [
      "count_dict = {}\n",
      "total_count_dict = {}\n",
      "for k, v in interpro_dict.items():\n",
      "    group = os.path.basename(k).split(\"_\")[0][-1]\n",
      "    if not group in count_dict:\n",
      "        count_dict[group] = {}\n",
      "    for pathway, count in v.items():\n",
      "        add_to_dict(count_dict[group], pathway, count)\n",
      "        add_to_dict(total_count_dict, group, count)"
     ],
     "language": "python",
     "metadata": {},
     "outputs": [],
     "prompt_number": ""
    },
    {
     "cell_type": "code",
     "collapsed": true,
     "input": [
      "with open(\"pathways.txt\", \"w\") as o:\n",
      "    o.write(\"source\\tpathway\\test_count\\n\")\n",
      "    for k, v in count_dict.items():\n",
      "        for i, j in v.items():\n",
      "            o.write('%s\\t%s\\t%d\\n' % (k, i, j))\n"
     ],
     "language": "python",
     "metadata": {},
     "outputs": [],
     "prompt_number": ""
    },
    {
     "cell_type": "code",
     "collapsed": false,
     "input": [
      "def create_pie_chart(data_dict, filename, title, minval):\n",
      "    for k, v in data_dict.items():\n",
      "        labels = []\n",
      "        counts = []\n",
      "        keys = sorted(v.keys())\n",
      "        for pathway in keys:\n",
      "            count = v[pathway]\n",
      "            frac = count*1.0/total_count_dict[k]\n",
      "            if frac >= minval:\n",
      "                labels.append(pathway)\n",
      "                counts.append(count*1.0)\n",
      "        fig, ax = plt.subplots()\n",
      "        fig.set_size_inches(8,8)\n",
      "        plt.title(\"%s %s\" % (k, title))\n",
      "        vals = [x/sum(counts) for x in counts]\n",
      "        cmap = plt.cm.jet\n",
      "        colors = cmap(np.linspace(0.0, 1.0, len(vals)))\n",
      "        wedges = plt.pie(vals, \n",
      "                labels=labels,\n",
      "                colors=colors)\n",
      "        for wedge in wedges[0]:\n",
      "            wedge.set_edgecolor('white')\n",
      "        plt.savefig(\"%s_%s.pdf\" % (k, filename), bbox_inches='tight')\n",
      "        plt.show()\n",
      "create_pie_chart(count_dict, \"pathway\", \"KEGG Pathways\", 0.01)"
     ],
     "language": "python",
     "metadata": {},
     "outputs": [],
     "prompt_number": ""
    },
    {
     "cell_type": "code",
     "collapsed": false,
     "input": [
      "def get_go_info(ip_file, ns_id, p_id, match):\n",
      "    go = match.xpath(\".//ns:signature/ns:entry/ns:go-xref\", namespaces=nsmap)\n",
      "    if len(go) > 0:\n",
      "        if not ip_file in go_dict:\n",
      "            go_dict[ip_file] = {}\n",
      "            \n",
      "        if not ns_id in go_dict[ip_file]:\n",
      "            go_dict[ip_file][ns_id] = set()\n",
      "        for g in go:\n",
      "#             print g.attrib\n",
      "            go_dict[ip_file][ns_id].add(str(g.attrib))\n",
      "\n",
      "def process_match(ip_file, ns_id, p_id, orf, match):\n",
      "    get_go_info(ip_file, ns_id, p_id, match)\n",
      "\n",
      "def process_orf(ip_file, ns_id, orf):\n",
      "    p_id = orf.xpath(\"./ns:protein/ns:xref\", namespaces=nsmap)[0].attrib['id']\n",
      "    matches = orf.xpath(\"./ns:protein/ns:matches/*\", namespaces=nsmap)\n",
      "    for m in matches:\n",
      "        process_match(ip_file, ns_id, p_id, orf, m)    \n",
      "\n",
      "def process_orfs(ip_file, orfs):\n",
      "    for orf in orfs:\n",
      "        ns_id = orf.getparent().xpath(\"ns:xref\", namespaces=nsmap)[0].attrib['id']\n",
      "        process_orf(ip_file, ns_id, orf) \n",
      "    \n",
      "go_dict = {}\n",
      "for ip_file in ip_files:\n",
      "    print ip_file\n",
      "    tree = etree.parse(ip_file)\n",
      "    root = tree.getroot()\n",
      "    nsmap = {'ns':root.nsmap[None]}\n",
      "    orfs = root.xpath(\"//ns:orf\",namespaces=nsmap)\n",
      "    process_orfs(ip_file, orfs)"
     ],
     "language": "python",
     "metadata": {},
     "outputs": [],
     "prompt_number": ""
    },
    {
     "cell_type": "code",
     "collapsed": false,
     "input": [
      "go_mf_count_dict = {}\n",
      "go_bp_count_dict = {}\n",
      "for ip_file, ip_data in go_dict.items():\n",
      "    uni_keys = sorted(ip_data.keys())\n",
      "    group = os.path.basename(ip_file).split(\"_\")[0][-1]\n",
      "    if not group in go_mf_count_dict:\n",
      "        go_mf_count_dict[group] = {}\n",
      "        go_bp_count_dict[group] = {}\n",
      "    for uni in uni_keys:\n",
      "        uni_data = ip_data[uni]\n",
      "        for x in uni_data:\n",
      "            x = eval(x)\n",
      "            if 'MOLECULAR_FUNCTION' in x['category']:\n",
      "                add_to_dict(go_mf_count_dict[group], x['name'], 1)\n",
      "            elif 'BIOLOGICAL_PROCESS' in x['category']:\n",
      "                add_to_dict(go_bp_count_dict[group], x['name'], 1)\n",
      "                \n",
      "        "
     ],
     "language": "python",
     "metadata": {},
     "outputs": [],
     "prompt_number": ""
    },
    {
     "cell_type": "code",
     "collapsed": false,
     "input": [
      "create_pie_chart(go_mf_count_dict, \"go_mf\", \"GO Molecular Function\", 0.01)"
     ],
     "language": "python",
     "metadata": {},
     "outputs": [],
     "prompt_number": ""
    },
    {
     "cell_type": "code",
     "collapsed": false,
     "input": [
      "create_pie_chart(go_bp_count_dict, \"go_bp\", \"GO Biological Process\", 0.01)"
     ],
     "language": "python",
     "metadata": {},
     "outputs": [],
     "prompt_number": ""
    },
    {
     "cell_type": "markdown",
     "metadata": {},
     "source": [
      "##Filter blast hits"
     ]
    },
    {
     "cell_type": "code",
     "collapsed": false,
     "input": [
      "#decorate fasta files with sample (for blast2go)\n",
      "unigene_files = [\"/Users/chris/projects/black_spruce/seqclean/P32N.fa.clean_output/P32N_unigene_seq.fasta\",\n",
      "\"/Users/chris/projects/black_spruce/seqclean/P32C.fa.clean_output/P32C_unigene_seq.fasta\",\n",
      "\"/Users/chris/projects/black_spruce/seqclean/P40C.fa.clean_output/P40C_unigene_seq.fasta\",\n",
      "\"/Users/chris/projects/black_spruce/seqclean/P40N.fa.clean_output/P40N_unigene_seq.fasta\"]\n",
      "for u in unigene_files:\n",
      "    print u\n",
      "    key = os.path.basename(u).split(\"_\")[0]\n",
      "    recs = []\n",
      "    for rec in SeqIO.parse(u, \"fasta\"):\n",
      "        rec.id = \"%s_%s\" % (key, rec.id)\n",
      "        rec.description = \"\"\n",
      "        recs.append(rec)\n",
      "    out_file = \"%s_decorated.fasta\" % u\n",
      "    print out_file\n",
      "    SeqIO.write(recs, open(out_file,\"w\"), \"fasta\")"
     ],
     "language": "python",
     "metadata": {},
     "outputs": [],
     "prompt_number": ""
    },
    {
     "cell_type": "code",
     "collapsed": false,
     "input": [
      "from Bio import SearchIO\n",
      "aln_limit = 1\n",
      "hsp_limit = 1\n",
      "min_query_perc = 0.5\n",
      "min_ident_perc = 0.5\n",
      "for f in blast_files:\n",
      "    print f\n",
      "    key = os.path.basename(f).split(\"_\")[0]\n",
      "    filtered_records = []\n",
      "    bit_scores = []\n",
      "    num_filtered = 0\n",
      "    num_total = 0\n",
      "    qresults = (record for record in SearchIO.parse(open(f), \"blast-xml\"))\n",
      "    for qresult in qresults:\n",
      "        qresult.id = \"%s_%s\" % (key, qresult.id) #decorate as in decorated unigene fasta (for blast2go)\n",
      "        for hit in qresult:\n",
      "            num_total += 1\n",
      "            for hsp in hit.hsps:\n",
      "                bit_scores.append(hsp.bitscore)\n",
      "                if hsp.query_span/qresult.seq_len >= min_query_perc:\n",
      "                    if hsp.ident_num/hsp.aln_span >= min_ident_perc:\n",
      "                        filtered_records.append(qresult)\n",
      "                        num_filtered += 1\n",
      "                break #just get the top hsp\n",
      "            break #just get the top hit\n",
      "    print num_filtered, num_total\n",
      "    plot_hist(bit_scores, f)\n",
      "    SearchIO.write(filtered_records, \"%s_filtered_%.2f_query_%.2f_ident.xml\" % (f, \n",
      "                                                                                min_query_perc, \n",
      "                                                                                min_ident_perc), \n",
      "                   \"blast-xml\")"
     ],
     "language": "python",
     "metadata": {},
     "outputs": [],
     "prompt_number": ""
    },
    {
     "cell_type": "code",
     "collapsed": false,
     "input": [
      "import Bio\n",
      "print Bio.__version__"
     ],
     "language": "python",
     "metadata": {},
     "outputs": [],
     "prompt_number": ""
    },
    {
     "cell_type": "code",
     "collapsed": false,
     "input": [],
     "language": "python",
     "metadata": {},
     "outputs": [],
     "prompt_number": ""
    },
    {
     "cell_type": "code",
     "collapsed": false,
     "input": [],
     "language": "python",
     "metadata": {},
     "outputs": [],
     "prompt_number": ""
    },
    {
     "cell_type": "code",
     "collapsed": false,
     "input": [],
     "language": "python",
     "metadata": {},
     "outputs": [],
     "prompt_number": ""
    },
    {
     "cell_type": "code",
     "collapsed": false,
     "input": [],
     "language": "python",
     "metadata": {},
     "outputs": [],
     "prompt_number": ""
    },
    {
     "cell_type": "code",
     "collapsed": false,
     "input": [],
     "language": "python",
     "metadata": {},
     "outputs": [],
     "prompt_number": ""
    },
    {
     "cell_type": "code",
     "collapsed": false,
     "input": [],
     "language": "python",
     "metadata": {},
     "outputs": [],
     "prompt_number": ""
    },
    {
     "cell_type": "code",
     "collapsed": false,
     "input": [],
     "language": "python",
     "metadata": {},
     "outputs": [],
     "prompt_number": ""
    },
    {
     "cell_type": "code",
     "collapsed": false,
     "input": [],
     "language": "python",
     "metadata": {},
     "outputs": [],
     "prompt_number": ""
    },
    {
     "cell_type": "code",
     "collapsed": false,
     "input": [],
     "language": "python",
     "metadata": {},
     "outputs": [],
     "prompt_number": ""
    },
    {
     "cell_type": "code",
     "collapsed": false,
     "input": [],
     "language": "python",
     "metadata": {},
     "outputs": [],
     "prompt_number": ""
    },
    {
     "cell_type": "code",
     "collapsed": false,
     "input": [],
     "language": "python",
     "metadata": {},
     "outputs": [],
     "prompt_number": ""
    },
    {
     "cell_type": "code",
     "collapsed": false,
     "input": [],
     "language": "python",
     "metadata": {},
     "outputs": [],
     "prompt_number": ""
    },
    {
     "cell_type": "code",
     "collapsed": false,
     "input": [],
     "language": "python",
     "metadata": {},
     "outputs": []
    },
    {
     "cell_type": "markdown",
     "metadata": {},
     "source": [
      "##Blast2GO"
     ]
    },
    {
     "cell_type": "markdown",
     "metadata": {},
     "source": [
      "version 2.7.2, jre 1.7.0_65\n",
      "\n",
      "pro server USA1-b2g_may14\n",
      "\n",
      "1. import sequences (decorated unigenes, e.g., PC32_UN001 vs UN001)\n",
      "1. import blast results\n",
      "1. unselect hits without blast\n",
      "1. run mapping step\n",
      "1. run annotation step\n",
      "1. run interpro\n",
      "1. merge interpro\n",
      "1. run annex\n",
      "1. run go-enzymecode\n",
      "1. load kegg maps\n",
      "\n",
      "###Merge\n",
      "1. create new project\n",
      "1. add dats from cambium (or needle)\n",
      "1. redownload kegg maps\n",
      "\n",
      "###Export\n",
      "1. file -> expoort -> generic export - > sequence names for each cambium and needle dat \n",
      "\n",
      "###Exact test\n",
      "1. merge cambium and needle dat\n",
      "1. input test as needle and ref as cambium\n",
      "1. 0.05/FDR exact test\n",
      "1. input test as cambium and ref as needle\n",
      "1. exact test\n",
      "1. export results < 0.05 for all and most specific"
     ]
    },
    {
     "cell_type": "code",
     "collapsed": false,
     "input": [],
     "language": "python",
     "metadata": {},
     "outputs": []
    },
    {
     "cell_type": "code",
     "collapsed": false,
     "input": [],
     "language": "python",
     "metadata": {},
     "outputs": []
    },
    {
     "cell_type": "code",
     "collapsed": false,
     "input": [],
     "language": "python",
     "metadata": {},
     "outputs": []
    },
    {
     "cell_type": "code",
     "collapsed": false,
     "input": [],
     "language": "python",
     "metadata": {},
     "outputs": []
    },
    {
     "cell_type": "code",
     "collapsed": false,
     "input": [],
     "language": "python",
     "metadata": {},
     "outputs": []
    },
    {
     "cell_type": "markdown",
     "metadata": {},
     "source": [
      "##Collapse unigenes by tissue"
     ]
    },
    {
     "cell_type": "code",
     "collapsed": false,
     "input": [
      "decorated = !find . | grep decorated"
     ],
     "language": "python",
     "metadata": {},
     "outputs": [],
     "prompt_number": ""
    },
    {
     "cell_type": "code",
     "collapsed": false,
     "input": [
      "decorated = [os.path.abspath(x) for x in decorated]\n",
      "decorated"
     ],
     "language": "python",
     "metadata": {},
     "outputs": [],
     "prompt_number": ""
    },
    {
     "cell_type": "markdown",
     "metadata": {},
     "source": [
      "    ['/Users/chris/projects/black_spruce/seqclean/P32C.fa.clean_output/P32C_unigene_seq.fasta_decorated.fasta',\n",
      "     '/Users/chris/projects/black_spruce/seqclean/P32N.fa.clean_output/P32N_unigene_seq.fasta_decorated.fasta',\n",
      "     '/Users/chris/projects/black_spruce/seqclean/P40C.fa.clean_output/P40C_unigene_seq.fasta_decorated.fasta',\n",
      "     '/Users/chris/projects/black_spruce/seqclean/P40N.fa.clean_output/P40N_unigene_seq.fasta_decorated.fasta']"
     ]
    },
    {
     "cell_type": "code",
     "collapsed": false,
     "input": [
      "seq_dict = {}\n",
      "for d in decorated:\n",
      "    tissue = os.path.basename(d).split(\"_\")[0][-1]\n",
      "    if not tissue in seq_dict:\n",
      "        seq_dict[tissue] = []\n",
      "    for rec in SeqIO.parse(d, \"fasta\"):\n",
      "        seq_dict[tissue].append(rec)"
     ],
     "language": "python",
     "metadata": {},
     "outputs": [],
     "prompt_number": ""
    },
    {
     "cell_type": "code",
     "collapsed": false,
     "input": [
      "combined_outfiles = []\n",
      "for tissue, seq_list in seq_dict.items():\n",
      "    outfile = \"%s_unigenes_combined.fasta\" % tissue\n",
      "    combined_outfiles.append(outfile)\n",
      "    SeqIO.write(seq_list, outfile, \"fasta\")"
     ],
     "language": "python",
     "metadata": {},
     "outputs": [],
     "prompt_number": ""
    },
    {
     "cell_type": "code",
     "collapsed": false,
     "input": [
      "!cat C_unigenes_combined.fasta >> all_unigenes_combined.fasta"
     ],
     "language": "python",
     "metadata": {},
     "outputs": [],
     "prompt_number": ""
    },
    {
     "cell_type": "code",
     "collapsed": false,
     "input": [
      "!cat N_unigenes_combined.fasta >> all_unigenes_combined.fasta"
     ],
     "language": "python",
     "metadata": {},
     "outputs": [],
     "prompt_number": ""
    },
    {
     "cell_type": "markdown",
     "metadata": {},
     "source": [
      "##Collapse all ESTs into a single file\n",
      "(decorated by the source tissue)"
     ]
    },
    {
     "cell_type": "code",
     "collapsed": false,
     "input": [
      "est_files = !ls seqclean/*.fa"
     ],
     "language": "python",
     "metadata": {},
     "outputs": [],
     "prompt_number": ""
    },
    {
     "cell_type": "code",
     "collapsed": false,
     "input": [
      "est_seqs = []\n",
      "for e in est_files:\n",
      "    base = os.path.basename(e)\n",
      "    for rec in SeqIO.parse(e, \"fasta\"):\n",
      "        rec.description = rec.description.replace(rec.id, \"\")\n",
      "        rec.id = \"%s_%s\" % (base, rec.id)\n",
      "        est_seqs.append(rec)"
     ],
     "language": "python",
     "metadata": {},
     "outputs": [],
     "prompt_number": ""
    },
    {
     "cell_type": "code",
     "collapsed": false,
     "input": [
      "SeqIO.write(est_seqs, \"seqclean/all_ests.fa\", \"fasta\")"
     ],
     "language": "python",
     "metadata": {},
     "outputs": [],
     "prompt_number": ""
    },
    {
     "cell_type": "markdown",
     "metadata": {},
     "source": [
      "##Run seqclean on godel for all ESTs\n",
      "\n",
      "runs with blast-2.2.26, after using formatdb -pF on the E. coli genome below\n",
      "\n",
      "    ~/data7/src/seqclean-x86_64/seqclean all_ests.fa -v ~/data7/src/UniVec -s ~/data7/projects/Escherichia_coli_K_12_substr__DH10B_uid58979/NC_010473.fna\n",
      "    \n",
      "    Collecting cleaning reports\n",
      "\n",
      "    **************************************************\n",
      "    Sequences analyzed:      5996\n",
      "    -----------------------------------\n",
      "                       valid:      5938  (2842 trimmed)\n",
      "                     trashed:        58\n",
      "    **************************************************\n",
      "    ----= Trashing summary =------\n",
      "           by 'NC_010473.fna':       34\n",
      "                    by 'dust':        1\n",
      "                  by 'shortq':       23\n",
      "    ------------------------------\n",
      "    Output file containing only valid and trimmed sequences: all_ests.fa.clean\n",
      "    For trimming and trashing details see cleaning report  : all_ests.fa.cln\n",
      "    --------------------------------------------------\n",
      "    seqclean (all_ests.fa) finished on machine godel97"
     ]
    },
    {
     "cell_type": "markdown",
     "metadata": {},
     "source": [
      "##Run iAssembler on all ESTs"
     ]
    },
    {
     "cell_type": "markdown",
     "metadata": {},
     "source": [
      "    ~/data7/src/iAssembler-v1.3.2.x64/iAssembler.pl -i all_ests.fa.clean "
     ]
    },
    {
     "cell_type": "code",
     "collapsed": false,
     "input": [
      "all_est_dir = \"~/projects/black_spruce/seqclean/all_ests.fa.clean_output\""
     ],
     "language": "python",
     "metadata": {},
     "outputs": [],
     "prompt_number": ""
    },
    {
     "cell_type": "code",
     "collapsed": false,
     "input": [
      "cd $all_est_dir"
     ],
     "language": "python",
     "metadata": {},
     "outputs": [],
     "prompt_number": ""
    },
    {
     "cell_type": "code",
     "collapsed": false,
     "input": [
      "!head contig_member"
     ],
     "language": "python",
     "metadata": {},
     "outputs": [],
     "prompt_number": ""
    },
    {
     "cell_type": "code",
     "collapsed": false,
     "input": [
      "def create_est_count_file(contig_member_file):\n",
      "    est_counts = 0\n",
      "    unigene_counts = 0\n",
      "    keys = [\"C\", \"N\"]\n",
      "    with open(\"%s.counts\" % contig_member_file, \"w\") as o:\n",
      "        o.write(\"unigene\\t%s\\n\" % '\\t'.join(keys))\n",
      "        for line in open(contig_member_file):\n",
      "            unigene_counts += 1\n",
      "            counts = {}\n",
      "            for k in keys:\n",
      "                counts[k] = 0\n",
      "            line = line.split()\n",
      "            for elem in line[1:]:\n",
      "                tissue = elem.split(\".\")[0][-1]\n",
      "                counts[tissue] += 1\n",
      "                est_counts += 1\n",
      "            vals = []\n",
      "            for k in keys:\n",
      "                vals.append(counts[k])\n",
      "            o.write(\"%s\\t%s\\n\" % (line[0], '\\t'.join([str(x) for x in vals])))\n",
      "    print \"%d ESTs in %d Unigenes\" % (est_counts, unigene_counts)\n",
      "create_est_count_file(\"contig_member\")"
     ],
     "language": "python",
     "metadata": {},
     "outputs": [],
     "prompt_number": ""
    },
    {
     "cell_type": "markdown",
     "metadata": {},
     "source": [
      "    5938 ESTs in 1945 Unigenes"
     ]
    },
    {
     "cell_type": "markdown",
     "metadata": {},
     "source": [
      "## Blast unigenes against nr"
     ]
    },
    {
     "cell_type": "code",
     "collapsed": false,
     "input": [
      "cd ~/projects/black_spruce/"
     ],
     "language": "python",
     "metadata": {},
     "outputs": [],
     "prompt_number": ""
    },
    {
     "cell_type": "markdown",
     "metadata": {},
     "source": [
      "    cd /home/cfriedline/data7/projects/black_spruce/\n",
      "\n",
      "    ~/src/ncbi-blast-2.2.29+/bin/blastx -db ~/data7/nr/nr -max_target_seqs 10 -outfmt 5 -num_threads 24 -evalue 1e-5 -query all_ests.fa.clean_output/unigene_seq.fasta -out all_blast.xml"
     ]
    },
    {
     "cell_type": "code",
     "collapsed": false,
     "input": [],
     "language": "python",
     "metadata": {},
     "outputs": []
    }
   ],
   "metadata": {}
  }
 ]
}