{
 "cells": [
  {
   "cell_type": "code",
   "execution_count": "0",
   "metadata": {
    "collapsed": false
   },
   "outputs": [],
   "source": [
    "from Bio import SwissProt, SeqIO\n",
    "import gzip"
   ]
  },
  {
   "cell_type": "code",
   "execution_count": "0",
   "metadata": {
    "collapsed": false
   },
   "outputs": [],
   "source": [
    "cd ~/gpfs/projects/black_spruce/"
   ]
  },
  {
   "cell_type": "code",
   "execution_count": "0",
   "metadata": {
    "collapsed": true
   },
   "outputs": [],
   "source": [
    "def get_accessions(dat_file):\n",
    "    s = set()\n",
    "    for rec in SwissProt.parse(open(dat_file)):\n",
    "       [s.add(x) for x in rec.accessions]\n",
    "    return s"
   ]
  },
  {
   "cell_type": "code",
   "execution_count": "0",
   "metadata": {
    "collapsed": false
   },
   "outputs": [],
   "source": [
    "sprot_accessions = get_accessions(\"uniprot_sprot_plants.dat\")"
   ]
  },
  {
   "cell_type": "code",
   "execution_count": "0",
   "metadata": {
    "collapsed": false
   },
   "outputs": [],
   "source": [
    "len(sprot_accessions)"
   ]
  },
  {
   "cell_type": "code",
   "execution_count": "0",
   "metadata": {
    "collapsed": true
   },
   "outputs": [],
   "source": [
    "def get_recs(accessions, fastagz):\n",
    "    recs = []\n",
    "    for rec in SeqIO.parse(gzip.open(fastagz), \"fasta\"):\n",
    "        acc = rec.name.split(\"|\")[1]\n",
    "        if acc in accessions:\n",
    "            recs.append(rec)\n",
    "    return recs\n",
    "\n",
    "def stream_recs_to_file(accessions, fastagz, out_file):\n",
    "    with open(out_file, \"w\") as o:\n",
    "        for rec in SeqIO.parse(gzip.open(fastagz), \"fasta\"):\n",
    "            acc = rec.name.split(\"|\")[1]\n",
    "            if acc in accessions:\n",
    "                SeqIO.write(rec, o, \"fasta\")"
   ]
  },
  {
   "cell_type": "code",
   "execution_count": "0",
   "metadata": {
    "collapsed": false
   },
   "outputs": [],
   "source": [
    "sprot_recs = get_recs(sprot_accessions, \"uniprot_sprot.fasta.gz\")"
   ]
  },
  {
   "cell_type": "code",
   "execution_count": "0",
   "metadata": {
    "collapsed": false
   },
   "outputs": [],
   "source": [
    "SeqIO.write(sprot_recs, open(\"uniprot_sprot_plants.fasta\", \"w\"), \"fasta\")"
   ]
  },
  {
   "cell_type": "markdown",
   "metadata": {
    "collapsed": true
   },
   "source": [
    "```bash\n",
    "/home/cfriedline/gpfs/src/ncbi-blast-2.2.30+/bin/makeblastdb \\\n",
    "-in uniprot_sprot_plants.fasta \\\n",
    "-dbtype prot \\\n",
    "-parse_seqids \n",
    "```"
   ]
  },
  {
   "cell_type": "markdown",
   "metadata": {},
   "source": [
    "```bash\n",
    "/home/cfriedline/gpfs/src/ncbi-blast-2.2.30+/bin/blastx \\\n",
    "-db uniprot_sprot_plants.fasta \\\n",
    "-query seqclean/all_ests.fa.clean_output/all_unigene_seq.fasta \\\n",
    "-out all_uniprot_sprot.xml \\\n",
    "-outfmt 5 \\\n",
    "-num_alignments 10 \\\n",
    "-evalue 1e-5 \\\n",
    "-num_threads 20\n",
    "```\n"
   ]
  },
  {
   "cell_type": "code",
   "execution_count": "0",
   "metadata": {
    "collapsed": false
   },
   "outputs": [],
   "source": [
    "trembl_accessions = get_accessions(\"uniprot_trembl_plants.dat\")"
   ]
  },
  {
   "cell_type": "code",
   "execution_count": "0",
   "metadata": {
    "collapsed": false
   },
   "outputs": [],
   "source": [
    "len(trembl_accessions)"
   ]
  },
  {
   "cell_type": "code",
   "execution_count": "0",
   "metadata": {
    "collapsed": false
   },
   "outputs": [],
   "source": [
    "trembl_recs = stream_recs_to_file(trembl_accessions, \n",
    "                                  \"uniprot_trembl.fasta.gz\", \n",
    "                                  \"uniprot_trembl_plants.fasta\")"
   ]
  },
  {
   "cell_type": "code",
   "execution_count": "0",
   "metadata": {
    "collapsed": true
   },
   "outputs": [],
   "source": []
  }
 ],
 "metadata": {
  "kernelspec": {
   "display_name": "Python 2",
   "language": "python",
   "name": "python2"
  },
  "language_info": {
   "codemirror_mode": {
    "name": "ipython",
    "version": 2
   },
   "file_extension": ".py",
   "mimetype": "text/x-python",
   "name": "python",
   "nbconvert_exporter": "python",
   "pygments_lexer": "ipython2",
   "version": "2.7.9"
  }
 },
 "nbformat": 4,
 "nbformat_minor": 0
}