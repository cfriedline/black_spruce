{
 "cells": [
  {
   "cell_type": "code",
   "execution_count": "0",
   "metadata": {
    "collapsed": false
   },
   "outputs": [],
   "source": [
    "cd ~/g/projects/black_spruce/seqclean/"
   ]
  },
  {
   "cell_type": "code",
   "execution_count": "0",
   "metadata": {
    "collapsed": false
   },
   "outputs": [],
   "source": [
    "cleaned = !ls P*.clean | grep -v all\n",
    "cleaned = cleaned[2:]"
   ]
  },
  {
   "cell_type": "code",
   "execution_count": "0",
   "metadata": {
    "collapsed": false
   },
   "outputs": [],
   "source": [
    "cleaned"
   ]
  },
  {
   "cell_type": "code",
   "execution_count": "0",
   "metadata": {
    "collapsed": false
   },
   "outputs": [],
   "source": [
    "from Bio import SeqIO"
   ]
  },
  {
   "cell_type": "code",
   "execution_count": "0",
   "metadata": {
    "collapsed": false
   },
   "outputs": [],
   "source": [
    "counts = {}\n",
    "with open(\"dbest.fa\", \"w\") as o:\n",
    "    for c in cleaned:\n",
    "        print c\n",
    "        sample = c.split(\".\")[0]\n",
    "        if not sample in counts:\n",
    "            counts[sample] = 1\n",
    "        for rec in SeqIO.parse(c, \"fasta\"):\n",
    "            rec.description = \"[organism=Picea mariana] [isolate=%s] [moltype=mRNA] %s Pinus mariana cDNA clone %s\" % (sample,\n",
    "                                                                                                                       sample,\n",
    "                                                                                                                      rec.id)\n",
    "            rec.id = \"%s_%d\" % (sample, counts[sample])\n",
    "            counts[sample] += 1\n",
    "            SeqIO.write(rec, o, \"fasta\")"
   ]
  },
  {
   "cell_type": "code",
   "execution_count": "0",
   "metadata": {
    "collapsed": false
   },
   "outputs": [],
   "source": [
    "!head dbest.fa"
   ]
  },
  {
   "cell_type": "code",
   "execution_count": "0",
   "metadata": {
    "collapsed": true
   },
   "outputs": [],
   "source": []
  }
 ],
 "metadata": {
  "kernelspec": {
   "display_name": "Python 2",
   "language": "python",
   "name": "python2"
  },
  "language_info": {
   "codemirror_mode": {
    "name": "ipython",
    "version": 2
   },
   "file_extension": ".py",
   "mimetype": "text/x-python",
   "name": "python",
   "nbconvert_exporter": "python",
   "pygments_lexer": "ipython2",
   "version": "2.7.10"
  }
 },
 "nbformat": 4,
 "nbformat_minor": 0
}