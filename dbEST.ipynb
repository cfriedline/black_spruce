{
 "cells": [
  {
   "cell_type": "code",
   "execution_count": "0",
   "metadata": {
    "collapsed": true
   },
   "outputs": [],
   "source": [
    "def shell(cmd):\n",
    "    from subprocess import Popen, PIPE\n",
    "    p = Popen(cmd, shell=True, stdout=PIPE, stderr=PIPE)\n",
    "    stdout, stderr = p.communicate()\n",
    "    return [x for x in stdout.split(\"\\n\") if x != '']#, stderr.split(\"\\n\")"
   ]
  },
  {
   "cell_type": "code",
   "execution_count": "0",
   "metadata": {
    "collapsed": false
   },
   "outputs": [],
   "source": [
    "cd ~/g/projects/black_spruce_new"
   ]
  },
  {
   "cell_type": "code",
   "execution_count": "0",
   "metadata": {
    "collapsed": false
   },
   "outputs": [],
   "source": [
    "fa = \"all.fa.clean.sequin.trim\""
   ]
  },
  {
   "cell_type": "code",
   "execution_count": "0",
   "metadata": {
    "collapsed": false
   },
   "outputs": [],
   "source": [
    "from Bio import SeqIO"
   ]
  },
  {
   "cell_type": "code",
   "execution_count": "0",
   "metadata": {
    "collapsed": false
   },
   "outputs": [],
   "source": [
    "writers = {}\n",
    "def get_writer(name):\n",
    "    if not name in writers:\n",
    "        writers[name] = open(\"%s_deconv.fa\" % name, \"w\")\n",
    "    return writers[name]\n",
    "\n",
    "def close_writers():\n",
    "    for k, v in writers.items():\n",
    "        v.close()\n",
    "\n",
    "for rec in SeqIO.parse(fa, \"fasta\"):\n",
    "    sample = rec.id.split(\"_\")[0]\n",
    "    w = get_writer(sample)\n",
    "    SeqIO.write(rec, w, \"fasta\")\n",
    "close_writers()"
   ]
  },
  {
   "cell_type": "code",
   "execution_count": "0",
   "metadata": {
    "collapsed": true
   },
   "outputs": [],
   "source": [
    "cleaned = shell(\"ls *deconv.fa\")"
   ]
  },
  {
   "cell_type": "code",
   "execution_count": "0",
   "metadata": {
    "collapsed": false
   },
   "outputs": [],
   "source": [
    "cleaned = sorted(cleaned)"
   ]
  },
  {
   "cell_type": "code",
   "execution_count": "0",
   "metadata": {
    "collapsed": false
   },
   "outputs": [],
   "source": [
    "cleaned"
   ]
  },
  {
   "cell_type": "code",
   "execution_count": "0",
   "metadata": {
    "collapsed": false
   },
   "outputs": [],
   "source": [
    "counts = {}\n",
    "with open(\"dbest.fa\", \"w\") as o:\n",
    "    for c in cleaned:\n",
    "        print c\n",
    "        sample = c.split(\"_\")[0]\n",
    "        if not sample in counts:\n",
    "            counts[sample] = 1\n",
    "        for rec in SeqIO.parse(c, \"fasta\"):\n",
    "            rec.description = \"[organism=Picea mariana] [isolate=%s] [moltype=mRNA] %s Pinus mariana cDNA clone %s\" % (sample,\n",
    "                                                                                                                       sample,\n",
    "                                                                                                                      rec.id)\n",
    "            rec.id = \"%s_%d\" % (sample, counts[sample])\n",
    "            counts[sample] += 1\n",
    "            SeqIO.write(rec, o, \"fasta\")"
   ]
  },
  {
   "cell_type": "code",
   "execution_count": "0",
   "metadata": {
    "collapsed": false
   },
   "outputs": [],
   "source": [
    "shell(\"head dbest.fa\")"
   ]
  },
  {
   "cell_type": "code",
   "execution_count": "0",
   "metadata": {
    "collapsed": true
   },
   "outputs": [],
   "source": []
  }
 ],
 "metadata": {
  "kernelspec": {
   "display_name": "Python 2",
   "language": "python",
   "name": "python2"
  },
  "language_info": {
   "codemirror_mode": {
    "name": "ipython",
    "version": 2
   },
   "file_extension": ".py",
   "mimetype": "text/x-python",
   "name": "python",
   "nbconvert_exporter": "python",
   "pygments_lexer": "ipython2",
   "version": "2.7.10"
  }
 },
 "nbformat": 4,
 "nbformat_minor": 0
}