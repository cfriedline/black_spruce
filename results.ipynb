{
 "metadata": {
  "name": "",
  "signature": "sha256:6596d0bd4c6cb46f7d6f2c1d14769567af65e155298aba8b2a92689b6be6f6f4"
 },
 "nbformat": 3,
 "nbformat_minor": 0,
 "worksheets": [
  {
   "cells": [
    {
     "cell_type": "code",
     "collapsed": false,
     "input": [
      "import sqlite3\n",
      "import pandas as pd"
     ],
     "language": "python",
     "metadata": {},
     "outputs": [],
     "prompt_number": ""
    },
    {
     "cell_type": "code",
     "collapsed": false,
     "input": [
      "conn = sqlite3.connect(\"black_spruce.sqlite\")"
     ],
     "language": "python",
     "metadata": {},
     "outputs": [],
     "prompt_number": ""
    },
    {
     "cell_type": "code",
     "collapsed": false,
     "input": [
      "unigene_counts = pd.read_sql(\"select unigene_id, \\\n",
      "            sum(assembled_reads) as total \\\n",
      "            from unigene_sample \\\n",
      "            group by unigene_id\", conn)\n",
      "samples = pd.read_sql(\"select distinct sample_id from unigene_sample\", conn)"
     ],
     "language": "python",
     "metadata": {},
     "outputs": [],
     "prompt_number": ""
    },
    {
     "cell_type": "code",
     "collapsed": false,
     "input": [
      "total_singletons = len(unigene_counts[unigene_counts.total==1])\n",
      "total_singletons"
     ],
     "language": "python",
     "metadata": {},
     "outputs": [],
     "prompt_number": ""
    },
    {
     "cell_type": "markdown",
     "metadata": {},
     "source": [
      "    1102"
     ]
    },
    {
     "cell_type": "code",
     "collapsed": false,
     "input": [
      "singletons_by_sample = {}\n",
      "sql = \"select assembled_reads from unigene_sample where unigene_id=? and sample_id=?\"\n",
      "for unigene_id in unigene_counts[unigene_counts.total==1].unigene_id:\n",
      "    for sample_id in samples.sample_id:\n",
      "        if not sample_id in singletons_by_sample:\n",
      "            singletons_by_sample[sample_id] = 0\n",
      "        for count in conn.execute(sql, [unigene_id, sample_id]):\n",
      "            singletons_by_sample[sample_id] += count[0]"
     ],
     "language": "python",
     "metadata": {},
     "outputs": [],
     "prompt_number": ""
    },
    {
     "cell_type": "code",
     "collapsed": false,
     "input": [
      "singletons_by_sample"
     ],
     "language": "python",
     "metadata": {},
     "outputs": [],
     "prompt_number": ""
    },
    {
     "cell_type": "markdown",
     "metadata": {},
     "source": [
      "    {u'32C': 189, u'32N': 525, u'40C': 246, u'40N': 142}"
     ]
    },
    {
     "cell_type": "code",
     "collapsed": false,
     "input": [],
     "language": "python",
     "metadata": {},
     "outputs": []
    }
   ],
   "metadata": {}
  }
 ]
}