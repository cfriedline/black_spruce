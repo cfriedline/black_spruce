{
 "metadata": {
  "name": "",
  "signature": "sha256:509e7164ba8a27fd93c9bb6711f047b15dd571bf7c3c841abb2d68169b0d9f06"
 },
 "nbformat": 3,
 "nbformat_minor": 0,
 "worksheets": [
  {
   "cells": [
    {
     "cell_type": "markdown",
     "metadata": {},
     "source": [
      "##Download from plantgenie.org FTP"
     ]
    },
    {
     "cell_type": "code",
     "collapsed": false,
     "input": [
      "blastx = \"/Users/chris/bnfo/ncbi-blast-2.2.30+/bin/blastx\""
     ],
     "language": "python",
     "metadata": {},
     "outputs": [],
     "prompt_number": ""
    },
    {
     "cell_type": "markdown",
     "metadata": {},
     "source": [
      "##Blast against all peptides"
     ]
    },
    {
     "cell_type": "code",
     "collapsed": false,
     "input": [
      "!$blastx -query seqclean/all_ests.fa.clean_output/all_unigene_seq.fasta_decorated.fasta \\\n",
      "-db Z4006_Gene_Prediction/Pabies1.0-all-pep/Pabies1.0-all-pep.faa \\\n",
      "-num_threads 8 \\\n",
      "-max_target_seqs 1 \\\n",
      "-outfmt 5 \\\n",
      "-out abies_all.xml"
     ],
     "language": "python",
     "metadata": {},
     "outputs": [],
     "prompt_number": ""
    },
    {
     "cell_type": "markdown",
     "metadata": {},
     "source": [
      "##Blast against high quality pepties"
     ]
    },
    {
     "cell_type": "code",
     "collapsed": false,
     "input": [
      "!$blastx -query seqclean/all_ests.fa.clean_output/all_unigene_seq.fasta_decorated.fasta \\\n",
      "-db Z4006_Gene_Prediction/Pabies1.0-high-confidence-pep/Pabies1.0-HC-pep.faa \\\n",
      "-num_threads 8 \\\n",
      "-max_target_seqs 1 \\\n",
      "-outfmt 5 \\\n",
      "-out abies_hc.xml"
     ],
     "language": "python",
     "metadata": {},
     "outputs": [],
     "prompt_number": ""
    },
    {
     "cell_type": "markdown",
     "metadata": {},
     "source": [
      "##Process results"
     ]
    },
    {
     "cell_type": "code",
     "collapsed": false,
     "input": [
      "from Bio import SearchIO"
     ],
     "language": "python",
     "metadata": {},
     "outputs": [],
     "prompt_number": ""
    },
    {
     "cell_type": "code",
     "collapsed": false,
     "input": [
      "def percent_id(hsp):\n",
      "    return hsp.ident_num*100./hsp.aln_span"
     ],
     "language": "python",
     "metadata": {},
     "outputs": [],
     "prompt_number": ""
    },
    {
     "cell_type": "code",
     "collapsed": false,
     "input": [
      "def query_perc(query_len, query_span):\n",
      "    return query_span*100./query_len"
     ],
     "language": "python",
     "metadata": {},
     "outputs": [],
     "prompt_number": ""
    },
    {
     "cell_type": "code",
     "collapsed": false,
     "input": [
      "def good_hit(res, hsp):\n",
      "    if query_perc(res.seq_len, hsp.query_span) < 50:\n",
      "        return False\n",
      "    if percent_id(hsp) < 50:\n",
      "        return False\n",
      "    return True"
     ],
     "language": "python",
     "metadata": {},
     "outputs": [],
     "prompt_number": ""
    },
    {
     "cell_type": "code",
     "collapsed": false,
     "input": [
      "qresults = SearchIO.parse(\"abies_hc.xml\", \"blast-xml\")\n",
      "good_hc_hits = []\n",
      "for res in qresults:\n",
      "    for hsp in res.hsps[0:1]: # get top hit hsp\n",
      "        if good_hit(res, hsp):\n",
      "            print hsp\n",
      "            good_hc_hits.append(hsp.hit_id)"
     ],
     "language": "python",
     "metadata": {},
     "outputs": [],
     "prompt_number": ""
    },
    {
     "cell_type": "code",
     "collapsed": false,
     "input": [
      "qresults = SearchIO.parse(\"abies_all.xml\", \"blast-xml\")\n",
      "good_all_hits = []\n",
      "for res in qresults:\n",
      "    for hsp in res.hsps[0:1]:\n",
      "        if good_hit(res, hsp):\n",
      "            print hsp\n",
      "            good_all_hits.append(hsp.hit_id)"
     ],
     "language": "python",
     "metadata": {},
     "outputs": [],
     "prompt_number": ""
    },
    {
     "cell_type": "code",
     "collapsed": false,
     "input": [
      "print len(good_all_hits), len(good_hc_hits)"
     ],
     "language": "python",
     "metadata": {},
     "outputs": [],
     "prompt_number": ""
    },
    {
     "cell_type": "code",
     "collapsed": false,
     "input": [
      "print len(set(good_all_hits)), len(set(good_hc_hits))"
     ],
     "language": "python",
     "metadata": {},
     "outputs": [],
     "prompt_number": ""
    },
    {
     "cell_type": "code",
     "collapsed": false,
     "input": [
      "len(set(good_all_hits).intersection(set(good_hc_hits)))"
     ],
     "language": "python",
     "metadata": {},
     "outputs": [],
     "prompt_number": ""
    },
    {
     "cell_type": "code",
     "collapsed": false,
     "input": [],
     "language": "python",
     "metadata": {},
     "outputs": []
    }
   ],
   "metadata": {}
  }
 ]
}