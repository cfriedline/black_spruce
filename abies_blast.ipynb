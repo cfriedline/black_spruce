{
 "cells": [
  {
   "cell_type": "code",
   "execution_count": "",
   "metadata": {
    "collapsed": false
   },
   "outputs": [],
   "source": [
    "from matplotlib_venn import venn2, venn2_circles\n",
    "import matplotlib.pyplot as plt\n",
    "%matplotlib inline\n",
    "from Bio import SearchIO"
   ]
  },
  {
   "cell_type": "markdown",
   "metadata": {},
   "source": [
    "##Download from plantgenie.org FTP"
   ]
  },
  {
   "cell_type": "code",
   "execution_count": "",
   "metadata": {
    "collapsed": false
   },
   "outputs": [],
   "source": [
    "blastx = \"/Users/chris/bnfo/ncbi-blast-2.2.30+/bin/blastx\""
   ]
  },
  {
   "cell_type": "markdown",
   "metadata": {},
   "source": [
    "##Blast against all peptides"
   ]
  },
  {
   "cell_type": "code",
   "execution_count": "",
   "metadata": {
    "collapsed": false
   },
   "outputs": [],
   "source": [
    "!grep -c \">\" seqclean/all_ests.fa.clean_output/all_unigene_seq.fasta_decorated.fasta"
   ]
  },
  {
   "cell_type": "code",
   "execution_count": "",
   "metadata": {
    "collapsed": false
   },
   "outputs": [],
   "source": [
    "!$blastx -query seqclean/all_ests.fa.clean_output/all_unigene_seq.fasta_decorated.fasta \\\n",
    "-db Z4006_Gene_Prediction/Pabies1.0-all-pep/Pabies1.0-all-pep.faa \\\n",
    "-num_threads 8 \\\n",
    "-max_target_seqs 1 \\\n",
    "-outfmt 5 \\\n",
    "-out abies_all.xml"
   ]
  },
  {
   "cell_type": "markdown",
   "metadata": {},
   "source": [
    "##Blast against high quality pepties"
   ]
  },
  {
   "cell_type": "code",
   "execution_count": "",
   "metadata": {
    "collapsed": false
   },
   "outputs": [],
   "source": [
    "!$blastx -query seqclean/all_ests.fa.clean_output/all_unigene_seq.fasta_decorated.fasta \\\n",
    "-db Z4006_Gene_Prediction/Pabies1.0-high-confidence-pep/Pabies1.0-HC-pep.faa \\\n",
    "-num_threads 8 \\\n",
    "-max_target_seqs 1 \\\n",
    "-outfmt 5 \\\n",
    "-out abies_hc.xml"
   ]
  },
  {
   "cell_type": "markdown",
   "metadata": {},
   "source": [
    "##Process results"
   ]
  },
  {
   "cell_type": "code",
   "execution_count": "",
   "metadata": {
    "collapsed": false
   },
   "outputs": [],
   "source": [
    "def percent_id(hsp):\n",
    "    return hsp.ident_num*100./hsp.aln_span"
   ]
  },
  {
   "cell_type": "code",
   "execution_count": "",
   "metadata": {
    "collapsed": false
   },
   "outputs": [],
   "source": [
    "def query_perc(query_len, query_span):\n",
    "    return query_span*100./query_len"
   ]
  },
  {
   "cell_type": "code",
   "execution_count": "",
   "metadata": {
    "collapsed": false
   },
   "outputs": [],
   "source": [
    "def good_hit(res, hsp):\n",
    "    if query_perc(res.seq_len, hsp.query_span) <= 50:\n",
    "        return False\n",
    "    if percent_id(hsp) <= 30:\n",
    "        return False\n",
    "    return True"
   ]
  },
  {
   "cell_type": "code",
   "execution_count": "",
   "metadata": {
    "collapsed": false
   },
   "outputs": [],
   "source": [
    "qresults = SearchIO.parse(\"abies_hc.xml\", \"blast-xml\")\n",
    "good_hc_hits = []\n",
    "for res in qresults:\n",
    "    for hsp in res.hsps: # get top hit hsp\n",
    "        if good_hit(res, hsp):\n",
    "            print hsp\n",
    "            good_hc_hits.append(hsp.hit_id.split()[0])\n",
    "            break"
   ]
  },
  {
   "cell_type": "code",
   "execution_count": "",
   "metadata": {
    "collapsed": false
   },
   "outputs": [],
   "source": [
    "qresults = SearchIO.parse(\"abies_all.xml\", \"blast-xml\")\n",
    "good_all_hits = []\n",
    "for res in qresults:\n",
    "    for hsp in res.hsps:\n",
    "        if good_hit(res, hsp):\n",
    "            print hsp\n",
    "            good_all_hits.append(hsp.hit_id.split()[0])\n",
    "            break"
   ]
  },
  {
   "cell_type": "code",
   "execution_count": "",
   "metadata": {
    "collapsed": false
   },
   "outputs": [],
   "source": [
    "print len(good_all_hits), len(good_hc_hits)"
   ]
  },
  {
   "cell_type": "code",
   "execution_count": "",
   "metadata": {
    "collapsed": false
   },
   "outputs": [],
   "source": [
    "print len(set(good_all_hits)), len(set(good_hc_hits))"
   ]
  },
  {
   "cell_type": "code",
   "execution_count": "",
   "metadata": {
    "collapsed": false
   },
   "outputs": [],
   "source": [
    "len(set(good_all_hits).union(set(good_hc_hits)))"
   ]
  },
  {
   "cell_type": "code",
   "execution_count": "",
   "metadata": {
    "collapsed": false
   },
   "outputs": [],
   "source": [
    "plt.figure(figsize=(5,5))\n",
    "v = venn2([set(good_hc_hits),set(good_all_hits)], set_labels=[\"High-quality\", \"All genes\"])\n",
    "c = venn2_circles([set(good_hc_hits),set(good_all_blasthits)],\n",
    "                  linestyle=\"solid\",\n",
    "                  linewidth=0.7)\n",
    "plt.title(\"Blastx of 1945 unigenes against all and high quality gene models from P. abies\")\n",
    "plt.show()"
   ]
  },
  {
   "cell_type": "code",
   "execution_count": "",
   "metadata": {
    "collapsed": false
   },
   "outputs": [],
   "source": [
    "len(set(good_all_hits) - set(good_hc_hits))"
   ]
  },
  {
   "cell_type": "code",
   "execution_count": "",
   "metadata": {
    "collapsed": false
   },
   "outputs": [],
   "source": [
    "all_ids = !/Users/chris/bnfo/ncbi-blast-2.2.30+/bin/blastdbcmd \\\n",
    "-db Z4006_Gene_Prediction/Pabies1.0-all-pep/Pabies1.0-all-pep.faa \\\n",
    "-entry 'all' \\\n",
    "-outfmt '%o %t %s'"
   ]
  },
  {
   "cell_type": "code",
   "execution_count": "",
   "metadata": {
    "collapsed": false
   },
   "outputs": [],
   "source": [
    "hc_ids = !/Users/chris/bnfo/ncbi-blast-2.2.30+/bin/blastdbcmd \\\n",
    "-db Z4006_Gene_Prediction/Pabies1.0-high-confidence-pep/Pabies1.0-HC-pep.faa \\\n",
    "-entry 'all' \\\n",
    "-outfmt '%o %t %s'"
   ]
  },
  {
   "cell_type": "code",
   "execution_count": "",
   "metadata": {
    "collapsed": false
   },
   "outputs": [],
   "source": [
    "hc_titles = [x.split()[1] for x in hc_ids]\n",
    "all_titles = [x.split()[1] for x in all_ids]"
   ]
  },
  {
   "cell_type": "code",
   "execution_count": "",
   "metadata": {
    "collapsed": false
   },
   "outputs": [],
   "source": [
    "plt.figure(figsize=(5,5))\n",
    "v = venn2([set(hc_titles),set(all_titles)], set_labels=[\"High-quality\", \"All genes\"])\n",
    "c = venn2_circles([set(hc_titles),set(all_titles)],\n",
    "                  linestyle=\"solid\",\n",
    "                  linewidth=0.7)\n",
    "plt.title(\"blastdbcmd -entry 'all'\")\n",
    "plt.show()"
   ]
  },
  {
   "cell_type": "code",
   "execution_count": "",
   "metadata": {
    "collapsed": false
   },
   "outputs": [],
   "source": [
    "hc_title_set = set(hc_titles)\n",
    "all_title_set = set(all_titles)"
   ]
  },
  {
   "cell_type": "code",
   "execution_count": "",
   "metadata": {
    "collapsed": false
   },
   "outputs": [],
   "source": [
    "def format_to_fasta(line):\n",
    "    data = line.split()\n",
    "    seq = data[-1]\n",
    "    title = \"|\".join(data[:-1])\n",
    "    return \">%s\\n%s\" % (title, seq)\n",
    "with open(\"abies_hc.fasta\", \"w\") as o:\n",
    "    for elem in hc_ids:\n",
    "        if elem.split()[1] in good_hc_hits:\n",
    "            o.write(\"%s\\n\" % format_to_fasta(elem))\n",
    "with open(\"abies_all.fasta\", \"w\") as o:\n",
    "    for elem in all_ids:\n",
    "        if elem.split()[1] in good_all_hits:\n",
    "            o.write(\"%s\\n\" % format_to_fasta(elem))"
   ]
  },
  {
   "cell_type": "code",
   "execution_count": "",
   "metadata": {
    "collapsed": false
   },
   "outputs": [],
   "source": [
    "!grep -c \">\" abies_hc.fasta"
   ]
  },
  {
   "cell_type": "code",
   "execution_count": "",
   "metadata": {
    "collapsed": false
   },
   "outputs": [],
   "source": [
    "!grep -c \">\" abies_all.fasta"
   ]
  },
  {
   "cell_type": "code",
   "execution_count": "",
   "metadata": {
    "collapsed": false
   },
   "outputs": [],
   "source": []
  }
 ],
 "metadata": {
  "kernelspec": {
   "display_name": "Python 2",
   "language": "python",
   "name": "python2"
  },
  "language_info": {
   "codemirror_mode": {
    "name": "ipython",
    "version": 2
   },
   "file_extension": ".py",
   "mimetype": "text/x-python",
   "name": "python",
   "nbconvert_exporter": "python",
   "pygments_lexer": "ipython2",
   "version": "2.7.9"
  }
 },
 "nbformat": 4,
 "nbformat_minor": 0
}