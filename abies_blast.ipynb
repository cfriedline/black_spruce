{
 "cells": [
  {
   "cell_type": "code",
   "execution_count": "0",
   "metadata": {
    "collapsed": true
   },
   "outputs": [],
   "source": [
    "import os"
   ]
  },
  {
   "cell_type": "code",
   "execution_count": "0",
   "metadata": {
    "collapsed": false
   },
   "outputs": [],
   "source": [
    "from matplotlib_venn import venn2, venn2_circles\n",
    "import matplotlib.pyplot as plt\n",
    "%matplotlib inline\n",
    "from Bio import SearchIO"
   ]
  },
  {
   "cell_type": "markdown",
   "metadata": {},
   "source": [
    "##Download from plantgenie.org FTP"
   ]
  },
  {
   "cell_type": "code",
   "execution_count": "0",
   "metadata": {
    "collapsed": false
   },
   "outputs": [],
   "source": [
    "blastx = \"/home/cfriedline/g/src/ncbi-blast-2.2.30+/bin/blastx\"\n",
    "tblastx = \"/home/cfriedline/g/src/ncbi-blast-2.2.30+/bin/tblastx\""
   ]
  },
  {
   "cell_type": "code",
   "execution_count": "0",
   "metadata": {
    "collapsed": false
   },
   "outputs": [],
   "source": [
    "[os.path.exists(x) for x in [blastx, tblastx]]"
   ]
  },
  {
   "cell_type": "markdown",
   "metadata": {},
   "source": [
    "##Blast against all peptides"
   ]
  },
  {
   "cell_type": "code",
   "execution_count": "0",
   "metadata": {
    "collapsed": false
   },
   "outputs": [],
   "source": [
    "!grep -c \">\" seqclean/all_ests.fa.clean_output/all_unigene_seq.fasta_decorated.fasta"
   ]
  },
  {
   "cell_type": "code",
   "execution_count": "0",
   "metadata": {
    "collapsed": false
   },
   "outputs": [],
   "source": [
    "!$blastx -query seqclean/all_ests.fa.clean_output/all_unigene_seq.fasta_decorated.fasta \\\n",
    "-db Z4006_Gene_Prediction/Pabies1.0-all-pep/Pabies1.0-all-pep.faa \\\n",
    "-num_threads 8 \\\n",
    "-max_target_seqs 1 \\\n",
    "-outfmt 5 \\\n",
    "-out abies_all.xml"
   ]
  },
  {
   "cell_type": "markdown",
   "metadata": {},
   "source": [
    "##Blast against high quality pepties"
   ]
  },
  {
   "cell_type": "code",
   "execution_count": "0",
   "metadata": {
    "collapsed": false
   },
   "outputs": [],
   "source": [
    "!$blastx -query seqclean/all_ests.fa.clean_output/all_unigene_seq.fasta_decorated.fasta \\\n",
    "-db Z4006_Gene_Prediction/Pabies1.0-high-confidence-pep/Pabies1.0-HC-pep.faa \\\n",
    "-num_threads 8 \\\n",
    "-max_target_seqs 1 \\\n",
    "-outfmt 5 \\\n",
    "-out abies_hc.xml"
   ]
  },
  {
   "cell_type": "markdown",
   "metadata": {},
   "source": [
    "##Blast against NS Transcriptome from Chen et al 2012"
   ]
  },
  {
   "cell_type": "code",
   "execution_count": "0",
   "metadata": {
    "collapsed": false
   },
   "outputs": [],
   "source": [
    "cd ~/g/projects/black_spruce"
   ]
  },
  {
   "cell_type": "code",
   "execution_count": "0",
   "metadata": {
    "collapsed": false
   },
   "outputs": [],
   "source": [
    "!/home/cfriedline/g/src/ncbi-blast-2.2.30+/bin/makeblastdb -in pa_tgicl95_151.fa -dbtype nucl"
   ]
  },
  {
   "cell_type": "code",
   "execution_count": "0",
   "metadata": {
    "collapsed": false
   },
   "outputs": [],
   "source": [
    "!$tblastx -query seqclean/all_ests.fa.clean_output/all_unigene_seq.fasta_decorated.fasta \\\n",
    "-db pa_tgicl95_151.fa \\\n",
    "-num_threads 12 \\\n",
    "-max_target_seqs 1 \\\n",
    "-outfmt 5 \\\n",
    "-out abies_chen.xml"
   ]
  },
  {
   "cell_type": "markdown",
   "metadata": {},
   "source": [
    "##Process results"
   ]
  },
  {
   "cell_type": "code",
   "execution_count": "0",
   "metadata": {
    "collapsed": false
   },
   "outputs": [],
   "source": [
    "def percent_id(hsp):\n",
    "    return hsp.ident_num*100./hsp.aln_span"
   ]
  },
  {
   "cell_type": "code",
   "execution_count": "0",
   "metadata": {
    "collapsed": false
   },
   "outputs": [],
   "source": [
    "def query_perc(query_len, query_span):\n",
    "    return query_span*100./query_len"
   ]
  },
  {
   "cell_type": "code",
   "execution_count": "0",
   "metadata": {
    "collapsed": false
   },
   "outputs": [],
   "source": [
    "def good_hit(res, hsp):\n",
    "    if query_perc(res.seq_len, hsp.query_span) <= 70:\n",
    "        return False\n",
    "    if percent_id(hsp) <= 40:\n",
    "        return False\n",
    "    return True"
   ]
  },
  {
   "cell_type": "code",
   "execution_count": "0",
   "metadata": {
    "collapsed": false
   },
   "outputs": [],
   "source": [
    "qresults = SearchIO.parse(\"abies_chen.xml\", \"blast-xml\")\n",
    "chen_hsps = []\n",
    "chen_discard = []\n",
    "percent_ids = []\n",
    "query_percs = []\n",
    "discard_percent_ids = []\n",
    "discard_query_percs = []\n",
    "putative= []\n",
    "no_hits = []\n",
    "\n",
    "with open(\"chen_blast.txt\", \"w\") as o:\n",
    "    o.write(\"%s\\n\" % \"\\t\".join([\"query_id\",\n",
    "                               \"hit_id\",\n",
    "                               \"query_start\",\n",
    "                               \"query_end\",\n",
    "                               \"hit_start\",\n",
    "                               \"hit_end\",\n",
    "                                \"query_length\",\n",
    "                               \"hit_frame\",\n",
    "                               \"e_value\",\n",
    "                                \"percent_id\",\n",
    "                               \"query_length_percent\"]))\n",
    "    for res in qresults:\n",
    "        if len(res.hits) == 0:\n",
    "            no_hits.append(res)\n",
    "        for hsp in res.hsps: # get top hit hsp\n",
    "            qp = query_perc(res.seq_len, hsp.query_span)\n",
    "            pi = percent_id(hsp)\n",
    "            query_percs.append(qp)\n",
    "            percent_ids.append(pi)\n",
    "            if good_hit(res, hsp):\n",
    "                chen_hsps.append((res,hsp))\n",
    "            else:\n",
    "                chen_discard.append((res,hsp))\n",
    "                discard_percent_ids.append(pi)\n",
    "                discard_query_percs.append(qp)\n",
    "\n",
    "                if qp > 50 and pi > 30 and res.seq_len > 600:\n",
    "                    putative.append((res, hsp))\n",
    "                    \n",
    "            o.write(\"%s\\t%s\\t%d\\t%d\\t%d\\t%d\\t%d\\t%d\\t%g\\t%.2f\\t%.2f\\n\" % (hsp.query_id, \n",
    "                                                                      hsp.hit_id, \n",
    "                                                                      hsp.query_start, \n",
    "                                                                      hsp.query_end, \n",
    "                                                                      hsp.hit_start, \n",
    "                                                                      hsp.hit_end,\n",
    "                                                                      res.seq_len,\n",
    "                                                                      hsp.hit_frame,\n",
    "                                                                      hsp.evalue,\n",
    "                                                                      pi,\n",
    "                                                                      qp))\n",
    "            \n",
    "            break"
   ]
  },
  {
   "cell_type": "code",
   "execution_count": "0",
   "metadata": {
    "collapsed": false
   },
   "outputs": [],
   "source": [
    "pwd"
   ]
  },
  {
   "cell_type": "code",
   "execution_count": "0",
   "metadata": {
    "collapsed": false
   },
   "outputs": [],
   "source": [
    "no_hits"
   ]
  },
  {
   "cell_type": "code",
   "execution_count": "0",
   "metadata": {
    "collapsed": false
   },
   "outputs": [],
   "source": [
    "len(chen_hsps), len(putative), len(chen_discard), len(no_hits)"
   ]
  },
  {
   "cell_type": "code",
   "execution_count": "0",
   "metadata": {
    "collapsed": false
   },
   "outputs": [],
   "source": [
    "[x.seq_len for x in no_hits]"
   ]
  },
  {
   "cell_type": "code",
   "execution_count": "0",
   "metadata": {
    "collapsed": false
   },
   "outputs": [],
   "source": [
    "for x in chen_hits:\n",
    "    print x"
   ]
  },
  {
   "cell_type": "code",
   "execution_count": "0",
   "metadata": {
    "collapsed": false
   },
   "outputs": [],
   "source": [
    "plt.hist(query_percs)\n",
    "plt.title(\"all query percentage\")\n",
    "plt.show()\n",
    "plt.hist(percent_ids)\n",
    "plt.title(\"all percent id\")\n",
    "plt.show()\n",
    "\n",
    "plt.hist(discard_query_percs)\n",
    "plt.title(\"discard query percentage\")\n",
    "plt.show()\n",
    "plt.hist(discard_percent_ids)\n",
    "plt.title(\"discard percent id\")\n",
    "plt.show()\n",
    "\n",
    "plt.scatter(discard_percent_ids, discard_query_percs)\n",
    "plt.xlabel(\"percent id\")\n",
    "plt.ylabel(\"query percentage\")\n",
    "plt.title(\"discarded\")\n",
    "plt.show()"
   ]
  },
  {
   "cell_type": "code",
   "execution_count": "0",
   "metadata": {
    "collapsed": false
   },
   "outputs": [],
   "source": [
    "x = []\n",
    "y = []\n",
    "for res, hsp in chen_discard:\n",
    "    x.append(res.seq_len)\n",
    "    y.append(hsp.query_span)\n",
    "plt.scatter(x, y)\n",
    "plt.xlabel(\"seq len\")\n",
    "plt.ylabel(\"query span\")\n",
    "plt.ylim((-10, max(x)))\n",
    "plt.show()"
   ]
  },
  {
   "cell_type": "code",
   "execution_count": "0",
   "metadata": {
    "collapsed": false
   },
   "outputs": [],
   "source": [
    "for res,hsp in chen_discard:\n",
    "    print res,hsp"
   ]
  },
  {
   "cell_type": "code",
   "execution_count": "0",
   "metadata": {
    "collapsed": false
   },
   "outputs": [],
   "source": [
    "for res,hsp in chen_hsps:\n",
    "    print res\n",
    "    print hsp\n",
    "    print hsp.query_span\n",
    "    break"
   ]
  },
  {
   "cell_type": "code",
   "execution_count": "0",
   "metadata": {
    "collapsed": false,
    "scrolled": true
   },
   "outputs": [],
   "source": [
    "qresults = SearchIO.parse(\"abies_hc.xml\", \"blast-xml\")\n",
    "good_hc_hits = []\n",
    "for res in qresults:\n",
    "    for hsp in res.hsps: # get top hit hsp\n",
    "        if good_hit(res, hsp):\n",
    "            #print hsp\n",
    "            good_hc_hits.append(hsp.hit_id.split()[0])\n",
    "            break"
   ]
  },
  {
   "cell_type": "code",
   "execution_count": "0",
   "metadata": {
    "collapsed": false
   },
   "outputs": [],
   "source": [
    "qresults = SearchIO.parse(\"abies_all.xml\", \"blast-xml\")\n",
    "good_all_hits = []\n",
    "for res in qresults:\n",
    "    for hsp in res.hsps:\n",
    "        if good_hit(res, hsp):\n",
    "            #print hsp\n",
    "            good_all_hits.append(hsp.hit_id.split()[0])\n",
    "            break"
   ]
  },
  {
   "cell_type": "code",
   "execution_count": "0",
   "metadata": {
    "collapsed": false
   },
   "outputs": [],
   "source": [
    "print len(good_all_hits), len(good_hc_hits)"
   ]
  },
  {
   "cell_type": "code",
   "execution_count": "0",
   "metadata": {
    "collapsed": false
   },
   "outputs": [],
   "source": [
    "print len(set(good_all_hits)), len(set(good_hc_hits))"
   ]
  },
  {
   "cell_type": "code",
   "execution_count": "0",
   "metadata": {
    "collapsed": false
   },
   "outputs": [],
   "source": [
    "len(set(good_all_hits).union(set(good_hc_hits)))"
   ]
  },
  {
   "cell_type": "code",
   "execution_count": "0",
   "metadata": {
    "collapsed": false
   },
   "outputs": [],
   "source": [
    "plt.figure(figsize=(5,5))\n",
    "v = venn2([set(good_hc_hits),set(good_all_hits)], set_labels=[\"High-quality\", \"All genes\"])\n",
    "c = venn2_circles([set(good_hc_hits),set(good_all_hits)],\n",
    "                  linestyle=\"solid\",\n",
    "                  linewidth=0.7)\n",
    "plt.title(\"Blastx of 1945 unigenes against all and high quality gene models from P. abies\")\n",
    "plt.show()"
   ]
  },
  {
   "cell_type": "code",
   "execution_count": "0",
   "metadata": {
    "collapsed": false
   },
   "outputs": [],
   "source": [
    "len(set(good_all_hits) - set(good_hc_hits))"
   ]
  },
  {
   "cell_type": "code",
   "execution_count": "0",
   "metadata": {
    "collapsed": false
   },
   "outputs": [],
   "source": [
    "all_ids = !/home/cfriedline/g/src/ncbi-blast-2.2.30+/bin/blastdbcmd \\\n",
    "-db Z4006_Gene_Prediction/Pabies1.0-all-pep/Pabies1.0-all-pep.faa \\\n",
    "-entry 'all' \\\n",
    "-outfmt '%o %t %s'"
   ]
  },
  {
   "cell_type": "code",
   "execution_count": "0",
   "metadata": {
    "collapsed": false
   },
   "outputs": [],
   "source": [
    "hc_ids = !/home/cfriedline/g/src/ncbi-blast-2.2.30+/bin/blastdbcmd \\\n",
    "-db Z4006_Gene_Prediction/Pabies1.0-high-confidence-pep/Pabies1.0-HC-pep.faa \\\n",
    "-entry 'all' \\\n",
    "-outfmt '%o %t %s'"
   ]
  },
  {
   "cell_type": "code",
   "execution_count": "0",
   "metadata": {
    "collapsed": false
   },
   "outputs": [],
   "source": [
    "hc_titles = [x.split()[1] for x in hc_ids]\n",
    "all_titles = [x.split()[1] for x in all_ids]"
   ]
  },
  {
   "cell_type": "code",
   "execution_count": "0",
   "metadata": {
    "collapsed": false,
    "scrolled": true
   },
   "outputs": [],
   "source": [
    "hc_titles[0:5]"
   ]
  },
  {
   "cell_type": "code",
   "execution_count": "0",
   "metadata": {
    "collapsed": false
   },
   "outputs": [],
   "source": [
    "all_titles[0:5]"
   ]
  },
  {
   "cell_type": "code",
   "execution_count": "0",
   "metadata": {
    "collapsed": false
   },
   "outputs": [],
   "source": [
    "plt.figure(figsize=(5,5))\n",
    "v = venn2([set(hc_titles),set(all_titles)], set_labels=[\"High-quality\", \"All genes\"])\n",
    "c = venn2_circles([set(hc_titles[2:]),set(all_titles[2:])],\n",
    "                  linestyle=\"solid\",\n",
    "                  linewidth=0.7)\n",
    "plt.title(\"blastdbcmd -entry 'all'\")\n",
    "plt.show()"
   ]
  },
  {
   "cell_type": "code",
   "execution_count": "0",
   "metadata": {
    "collapsed": false
   },
   "outputs": [],
   "source": [
    "hc_title_set = set(hc_titles)\n",
    "all_title_set = set(all_titles)"
   ]
  },
  {
   "cell_type": "code",
   "execution_count": "0",
   "metadata": {
    "collapsed": false
   },
   "outputs": [],
   "source": [
    "def format_to_fasta(line):\n",
    "    data = line.split()\n",
    "    seq = data[-1]\n",
    "    title = \"|\".join(data[:-1])\n",
    "    return \">%s\\n%s\" % (title, seq)\n",
    "with open(\"abies_hc.fasta\", \"w\") as o:\n",
    "    for elem in hc_ids:\n",
    "        if elem.split()[1] in good_hc_hits:\n",
    "            o.write(\"%s\\n\" % format_to_fasta(elem))\n",
    "with open(\"abies_all.fasta\", \"w\") as o:\n",
    "    for elem in all_ids:\n",
    "        if elem.split()[1] in good_all_hits:\n",
    "            o.write(\"%s\\n\" % format_to_fasta(elem))"
   ]
  },
  {
   "cell_type": "code",
   "execution_count": "0",
   "metadata": {
    "collapsed": false
   },
   "outputs": [],
   "source": [
    "!grep -c \">\" abies_hc.fasta"
   ]
  },
  {
   "cell_type": "code",
   "execution_count": "0",
   "metadata": {
    "collapsed": false
   },
   "outputs": [],
   "source": [
    "!grep -c \">\" abies_all.fasta"
   ]
  },
  {
   "cell_type": "code",
   "execution_count": "0",
   "metadata": {
    "collapsed": false
   },
   "outputs": [],
   "source": []
  }
 ],
 "metadata": {
  "kernelspec": {
   "display_name": "Python 2",
   "language": "python",
   "name": "python2"
  },
  "language_info": {
   "codemirror_mode": {
    "name": "ipython",
    "version": 2
   },
   "file_extension": ".py",
   "mimetype": "text/x-python",
   "name": "python",
   "nbconvert_exporter": "python",
   "pygments_lexer": "ipython2",
   "version": "2.7.10"
  }
 },
 "nbformat": 4,
 "nbformat_minor": 0
}