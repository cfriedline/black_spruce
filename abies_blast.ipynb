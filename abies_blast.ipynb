{
 "metadata": {
  "name": "",
  "signature": "sha256:33d0290d107a1dbf263d1cd5c2987082f5a1e24ed8bfed2a66ac082fbc4b595a"
 },
 "nbformat": 3,
 "nbformat_minor": 0,
 "worksheets": [
  {
   "cells": [
    {
     "cell_type": "code",
     "collapsed": false,
     "input": [
      "from matplotlib_venn import venn2, venn2_circles\n",
      "import matplotlib.pyplot as plt\n",
      "%matplotlib inline\n",
      "from Bio import SearchIO"
     ],
     "language": "python",
     "metadata": {},
     "outputs": [],
     "prompt_number": ""
    },
    {
     "cell_type": "markdown",
     "metadata": {},
     "source": [
      "##Download from plantgenie.org FTP"
     ]
    },
    {
     "cell_type": "code",
     "collapsed": false,
     "input": [
      "blastx = \"/Users/chris/bnfo/ncbi-blast-2.2.30+/bin/blastx\""
     ],
     "language": "python",
     "metadata": {},
     "outputs": [],
     "prompt_number": ""
    },
    {
     "cell_type": "markdown",
     "metadata": {},
     "source": [
      "##Blast against all peptides"
     ]
    },
    {
     "cell_type": "code",
     "collapsed": false,
     "input": [
      "!grep -c \">\" seqclean/all_ests.fa.clean_output/all_unigene_seq.fasta_decorated.fasta"
     ],
     "language": "python",
     "metadata": {},
     "outputs": [],
     "prompt_number": ""
    },
    {
     "cell_type": "code",
     "collapsed": false,
     "input": [
      "!$blastx -query seqclean/all_ests.fa.clean_output/all_unigene_seq.fasta_decorated.fasta \\\n",
      "-db Z4006_Gene_Prediction/Pabies1.0-all-pep/Pabies1.0-all-pep.faa \\\n",
      "-num_threads 8 \\\n",
      "-max_target_seqs 1 \\\n",
      "-outfmt 5 \\\n",
      "-out abies_all.xml"
     ],
     "language": "python",
     "metadata": {},
     "outputs": [],
     "prompt_number": ""
    },
    {
     "cell_type": "markdown",
     "metadata": {},
     "source": [
      "##Blast against high quality pepties"
     ]
    },
    {
     "cell_type": "code",
     "collapsed": false,
     "input": [
      "!$blastx -query seqclean/all_ests.fa.clean_output/all_unigene_seq.fasta_decorated.fasta \\\n",
      "-db Z4006_Gene_Prediction/Pabies1.0-high-confidence-pep/Pabies1.0-HC-pep.faa \\\n",
      "-num_threads 8 \\\n",
      "-max_target_seqs 1 \\\n",
      "-outfmt 5 \\\n",
      "-out abies_hc.xml"
     ],
     "language": "python",
     "metadata": {},
     "outputs": [],
     "prompt_number": ""
    },
    {
     "cell_type": "markdown",
     "metadata": {},
     "source": [
      "##Process results"
     ]
    },
    {
     "cell_type": "code",
     "collapsed": false,
     "input": [
      "def percent_id(hsp):\n",
      "    return hsp.ident_num*100./hsp.aln_span"
     ],
     "language": "python",
     "metadata": {},
     "outputs": [],
     "prompt_number": ""
    },
    {
     "cell_type": "code",
     "collapsed": false,
     "input": [
      "def query_perc(query_len, query_span):\n",
      "    return query_span*100./query_len"
     ],
     "language": "python",
     "metadata": {},
     "outputs": [],
     "prompt_number": ""
    },
    {
     "cell_type": "code",
     "collapsed": false,
     "input": [
      "def good_hit(res, hsp):\n",
      "    if query_perc(res.seq_len, hsp.query_span) <= 50:\n",
      "        return False\n",
      "    if percent_id(hsp) <= 30:\n",
      "        return False\n",
      "    return True"
     ],
     "language": "python",
     "metadata": {},
     "outputs": [],
     "prompt_number": ""
    },
    {
     "cell_type": "code",
     "collapsed": false,
     "input": [
      "qresults = SearchIO.parse(\"abies_hc.xml\", \"blast-xml\")\n",
      "good_hc_hits = []\n",
      "for res in qresults:\n",
      "    for hsp in res.hsps: # get top hit hsp\n",
      "        if good_hit(res, hsp):\n",
      "            print hsp\n",
      "            good_hc_hits.append(hsp.hit_id)"
     ],
     "language": "python",
     "metadata": {},
     "outputs": [],
     "prompt_number": ""
    },
    {
     "cell_type": "code",
     "collapsed": false,
     "input": [
      "qresults = SearchIO.parse(\"abies_all.xml\", \"blast-xml\")\n",
      "good_all_hits = []\n",
      "for res in qresults:\n",
      "    for hsp in res.hsps:\n",
      "        if good_hit(res, hsp):\n",
      "            print hsp\n",
      "            good_all_hits.append(hsp.hit_id)"
     ],
     "language": "python",
     "metadata": {},
     "outputs": [],
     "prompt_number": ""
    },
    {
     "cell_type": "code",
     "collapsed": false,
     "input": [
      "print len(good_all_hits), len(good_hc_hits)"
     ],
     "language": "python",
     "metadata": {},
     "outputs": [],
     "prompt_number": ""
    },
    {
     "cell_type": "code",
     "collapsed": false,
     "input": [
      "print len(set(good_all_hits)), len(set(good_hc_hits))"
     ],
     "language": "python",
     "metadata": {},
     "outputs": [],
     "prompt_number": ""
    },
    {
     "cell_type": "code",
     "collapsed": false,
     "input": [
      "plt.figure(figsize=(5,5))\n",
      "v = venn2([set(good_hc_hits),set(good_all_hits)], set_labels=[\"High-quality\", \"All genes\"])\n",
      "c = venn2_circles([set(good_hc_hits),set(good_all_hits)],\n",
      "                  linestyle=\"solid\",\n",
      "                  linewidth=0.7)\n",
      "plt.title(\"Blastx of 1945 unigenes against all and high quality gene models from P. abies\")\n",
      "plt.show()"
     ],
     "language": "python",
     "metadata": {},
     "outputs": [],
     "prompt_number": ""
    },
    {
     "cell_type": "code",
     "collapsed": false,
     "input": [
      "len(set(good_all_hits) - set(good_hc_hits))"
     ],
     "language": "python",
     "metadata": {},
     "outputs": [],
     "prompt_number": ""
    },
    {
     "cell_type": "code",
     "collapsed": false,
     "input": [],
     "language": "python",
     "metadata": {},
     "outputs": []
    }
   ],
   "metadata": {}
  }
 ]
}