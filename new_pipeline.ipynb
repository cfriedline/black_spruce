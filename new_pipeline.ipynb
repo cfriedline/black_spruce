{
 "cells": [
  {
   "cell_type": "markdown",
   "metadata": {
    "collapsed": false
   },
   "source": [
    "import os\n",
    "from Bio import SeqIO\n",
    "import pandas as pd\n",
    "import numpy as np\n",
    "from statsmodels.sandbox.stats.multicomp import multipletests\n",
    "import sys\n",
    "import seaborn as sns\n",
    "import matplotlib.pyplot as plt\n",
    "%matplotlib inline\n",
    "import dill"
   ]
  },
  {
   "cell_type": "code",
   "execution_count": "0",
   "metadata": {
    "collapsed": false
   },
   "outputs": [],
   "source": [
    "os.environ['R_HOME'] = \"/home/cfriedline/R3/lib64/R/\"\n",
    "import rpy2.ipython\n",
    "import rpy2.robjects as robjects\n",
    "%load_ext rpy2.ipython\n",
    "r = robjects.r\n",
    "ri2py = robjects.conversion.ri2py"
   ]
  },
  {
   "cell_type": "code",
   "execution_count": "0",
   "metadata": {
    "collapsed": false
   },
   "outputs": [],
   "source": [
    "%%R\n",
    "library(topGO)\n",
    "library(qvalue)"
   ]
  },
  {
   "cell_type": "code",
   "execution_count": "0",
   "metadata": {
    "collapsed": false
   },
   "outputs": [],
   "source": [
    "cd ~/g/projects/black_spruce_new/"
   ]
  },
  {
   "cell_type": "code",
   "execution_count": "0",
   "metadata": {
    "collapsed": true
   },
   "outputs": [],
   "source": [
    "def shell(cmd):\n",
    "    from subprocess import Popen, PIPE\n",
    "    p = Popen(cmd, shell=True, stdout=PIPE, stderr=PIPE)\n",
    "    stdout, stderr = p.communicate()\n",
    "    return [x for x in stdout.split(\"\\n\") if x != '']#, stderr.split(\"\\n\")"
   ]
  },
  {
   "cell_type": "code",
   "execution_count": "0",
   "metadata": {
    "collapsed": true
   },
   "outputs": [],
   "source": [
    "samples = [\"P40C\", \"P40N\", \"P32C\", \"P32N\"]"
   ]
  },
  {
   "cell_type": "code",
   "execution_count": "0",
   "metadata": {
    "collapsed": false
   },
   "outputs": [],
   "source": [
    "for s in samples:\n",
    "    fa = \"%s.fa\" % s\n",
    "    ql = \"%s.qual\" % s\n",
    "    for f in [fa, ql]:\n",
    "        shell(\"cp ../black_spruce/$f .\")"
   ]
  },
  {
   "cell_type": "code",
   "execution_count": "0",
   "metadata": {
    "collapsed": false
   },
   "outputs": [],
   "source": [
    "fa_files = shell(\"ls *.fa\")"
   ]
  },
  {
   "cell_type": "code",
   "execution_count": "0",
   "metadata": {
    "collapsed": false
   },
   "outputs": [],
   "source": [
    "fa_files"
   ]
  },
  {
   "cell_type": "markdown",
   "metadata": {},
   "source": [
    "##Run seqclean"
   ]
  },
  {
   "cell_type": "code",
   "execution_count": "0",
   "metadata": {
    "collapsed": true
   },
   "outputs": [],
   "source": [
    "os.environ['PATH'] = \"/home/cfriedline/g/src/blast-2.2.26/bin:%s\" % os.environ['PATH']"
   ]
  },
  {
   "cell_type": "code",
   "execution_count": "0",
   "metadata": {
    "collapsed": false
   },
   "outputs": [],
   "source": [
    "shell(\"which blastall\")"
   ]
  },
  {
   "cell_type": "code",
   "execution_count": "0",
   "metadata": {
    "collapsed": false
   },
   "outputs": [],
   "source": [
    "for f in fa_files:\n",
    "    print f\n",
    "    shell(\"~/g/src/seqclean-x86_64/seqclean %s \\\n",
    "    -v /home/cfriedline/g/src/univec_9/UniVec \\\n",
    "    -s ~/g/projects/Escherichia_coli_K_12_substr__DH10B_uid58979/NC_010473.fna\" % f)"
   ]
  },
  {
   "cell_type": "code",
   "execution_count": "0",
   "metadata": {
    "collapsed": true
   },
   "outputs": [],
   "source": [
    "clean_fa = shell(\"ls *.clean | grep -v all\")"
   ]
  },
  {
   "cell_type": "code",
   "execution_count": "0",
   "metadata": {
    "collapsed": false
   },
   "outputs": [],
   "source": [
    "clean_fa"
   ]
  },
  {
   "cell_type": "markdown",
   "metadata": {},
   "source": [
    "##Combine into single fasta file"
   ]
  },
  {
   "cell_type": "code",
   "execution_count": "0",
   "metadata": {
    "collapsed": true
   },
   "outputs": [],
   "source": [
    "with open(\"all.fa.clean\", \"w\") as o:\n",
    "    for f in clean_fa:\n",
    "        sample = f.split(\".\")[0]\n",
    "        for rec in SeqIO.parse(f, \"fasta\"):\n",
    "            rec.id = \"%s_%s\" % (sample, rec.id)\n",
    "            SeqIO.write(rec, o, \"fasta\")"
   ]
  },
  {
   "cell_type": "code",
   "execution_count": "0",
   "metadata": {
    "collapsed": false
   },
   "outputs": [],
   "source": [
    "shell(\"grep -c '>' *.fa\")"
   ]
  },
  {
   "cell_type": "code",
   "execution_count": "0",
   "metadata": {
    "collapsed": false
   },
   "outputs": [],
   "source": [
    "shell(\"grep -c '>' *.clean\")"
   ]
  },
  {
   "cell_type": "markdown",
   "metadata": {},
   "source": [
    "##Input into Sequin for futher vector trimming\n",
    "\n",
    "* select only strong/moderate\n",
    "* trim \n",
    "* add moltype=mRNA\n",
    "* add topology=linear\n",
    "* export nucleotide fasta as `all.fa.clean.sequin`"
   ]
  },
  {
   "cell_type": "markdown",
   "metadata": {},
   "source": [
    "##Remove sequences < 100nt"
   ]
  },
  {
   "cell_type": "code",
   "execution_count": "0",
   "metadata": {
    "collapsed": false
   },
   "outputs": [],
   "source": [
    "with open(\"all.fa.clean.sequin.trim\", \"w\") as o:\n",
    "    for rec in SeqIO.parse(\"all.fa.clean.sequin\", \"fasta\"):\n",
    "        if len(rec) >= 100:\n",
    "            SeqIO.write(rec, o, \"fasta\")"
   ]
  },
  {
   "cell_type": "code",
   "execution_count": "0",
   "metadata": {
    "collapsed": false
   },
   "outputs": [],
   "source": [
    "shell(\"grep -c '>' *.sequin\")"
   ]
  },
  {
   "cell_type": "code",
   "execution_count": "0",
   "metadata": {
    "collapsed": false
   },
   "outputs": [],
   "source": [
    "shell(\"grep -c '>' *.trim\")"
   ]
  },
  {
   "cell_type": "markdown",
   "metadata": {
    "collapsed": false
   },
   "source": [
    "## Run iAssembler\n",
    "\n",
    "```bash\n",
    "~/g/src/iAssembler-v1.3.2.x64/iAssembler.pl -a 20 -b 20 -i all.fa.clean.sequin.trim\n",
    "```"
   ]
  },
  {
   "cell_type": "markdown",
   "metadata": {},
   "source": [
    "##Blastx against uniprot (see uniprot.ipynb)\n",
    "\n",
    "```bash\n",
    "/home/cfriedline/gpfs/src/ncbi-blast-2.2.30+/bin/blastx \\\n",
    "-db ../black_spruce/uniprot_sprot_plants.fasta \\\n",
    "-query all.fa.clean.sequin.trim_output/unigene_seq.fasta \\\n",
    "-out all.fa.clean.sequin.trim_uniprot_sprot.xml \\\n",
    "-outfmt 5 \\\n",
    "-num_alignments 10 \\\n",
    "-evalue 1e-5 \\\n",
    "-num_threads 20\n",
    "```"
   ]
  },
  {
   "cell_type": "code",
   "execution_count": "0",
   "metadata": {
    "collapsed": false
   },
   "outputs": [],
   "source": [
    "shell(\"grep -c '>' all.fa.clean.sequin.trim_output/unigene_seq.fasta\")"
   ]
  },
  {
   "cell_type": "markdown",
   "metadata": {},
   "source": [
    "##Compute counts per tissue"
   ]
  },
  {
   "cell_type": "code",
   "execution_count": "0",
   "metadata": {
    "collapsed": false
   },
   "outputs": [],
   "source": [
    "counts = {}\n",
    "for line in open(\"all.fa.clean.sequin.trim_output/contig_member\"):\n",
    "    data = line.strip().split(\"\\t\")\n",
    "    if not data[0] in counts:\n",
    "        counts[data[0]] = {}\n",
    "    for seq in data[1:]:\n",
    "        tissue = seq.split(\"_\")[0]\n",
    "        if not tissue in counts[data[0]]:\n",
    "            counts[data[0]][tissue] = 1\n",
    "        else:\n",
    "            counts[data[0]][tissue] += 1"
   ]
  },
  {
   "cell_type": "code",
   "execution_count": "0",
   "metadata": {
    "collapsed": false
   },
   "outputs": [],
   "source": [
    "counts = pd.DataFrame(counts).T"
   ]
  },
  {
   "cell_type": "code",
   "execution_count": "0",
   "metadata": {
    "collapsed": true
   },
   "outputs": [],
   "source": [
    "counts = counts.fillna(0)"
   ]
  },
  {
   "cell_type": "code",
   "execution_count": "0",
   "metadata": {
    "collapsed": false
   },
   "outputs": [],
   "source": [
    "counts.head()"
   ]
  },
  {
   "cell_type": "code",
   "execution_count": "0",
   "metadata": {
    "collapsed": true
   },
   "outputs": [],
   "source": [
    "count_file = \"all.fa.clean.sequin.trim_output/contig_member.counts\""
   ]
  },
  {
   "cell_type": "code",
   "execution_count": "0",
   "metadata": {
    "collapsed": false
   },
   "outputs": [],
   "source": [
    "counts.to_csv(count_file, sep=\"\\t\", header=True, index=True)"
   ]
  },
  {
   "cell_type": "code",
   "execution_count": "0",
   "metadata": {
    "collapsed": false
   },
   "outputs": [],
   "source": [
    "counts = pd.read_csv(count_file, sep=\"\\t\", header=0, index_col=0)"
   ]
  },
  {
   "cell_type": "code",
   "execution_count": "0",
   "metadata": {
    "collapsed": false
   },
   "outputs": [],
   "source": [
    "counts.head()"
   ]
  },
  {
   "cell_type": "code",
   "execution_count": "0",
   "metadata": {
    "collapsed": true
   },
   "outputs": [],
   "source": [
    "def combine(row):\n",
    "    return pd.Series([None, (row.P32C+row.P40C), (row.P32N+row.P40N)])\n",
    "combined = counts.apply(combine, axis=1)\n",
    "combined.columns = [\"Descr\", \"C\", \"N\"]\n",
    "combined.index.name = \"UNIQID\""
   ]
  },
  {
   "cell_type": "code",
   "execution_count": "0",
   "metadata": {
    "collapsed": false
   },
   "outputs": [],
   "source": [
    "combined.head()"
   ]
  },
  {
   "cell_type": "code",
   "execution_count": "0",
   "metadata": {
    "collapsed": false
   },
   "outputs": [],
   "source": [
    "totals = pd.DataFrame(columns=combined.columns)\n",
    "totals.ix['UNIQID',:] = combined.apply(np.sum)\n",
    "totals.ix['UNIQID','Descr'] = 'Descr'\n",
    "totals"
   ]
  },
  {
   "cell_type": "code",
   "execution_count": "0",
   "metadata": {
    "collapsed": true
   },
   "outputs": [],
   "source": [
    "df = pd.concat([totals, combined])"
   ]
  },
  {
   "cell_type": "code",
   "execution_count": "0",
   "metadata": {
    "collapsed": true
   },
   "outputs": [],
   "source": [
    "df.Descr[1:] = df.index[1:]"
   ]
  },
  {
   "cell_type": "code",
   "execution_count": "0",
   "metadata": {
    "collapsed": false
   },
   "outputs": [],
   "source": [
    "df.head()"
   ]
  },
  {
   "cell_type": "code",
   "execution_count": "0",
   "metadata": {
    "collapsed": true
   },
   "outputs": [],
   "source": [
    "new_index = [\"UNIQID\"]\n",
    "new_index.extend([int(x.replace(\"UN\", \"\")) for x in df.index[1:]])"
   ]
  },
  {
   "cell_type": "code",
   "execution_count": "0",
   "metadata": {
    "collapsed": true
   },
   "outputs": [],
   "source": [
    "df.index = new_index"
   ]
  },
  {
   "cell_type": "code",
   "execution_count": "0",
   "metadata": {
    "collapsed": false
   },
   "outputs": [],
   "source": [
    "df.head()"
   ]
  },
  {
   "cell_type": "code",
   "execution_count": "0",
   "metadata": {
    "collapsed": true
   },
   "outputs": [],
   "source": [
    "def convert_to_int(col):\n",
    "    try:\n",
    "        return col.astype(int)\n",
    "    except:\n",
    "        return col\n",
    "df = df.apply(convert_to_int)\n",
    "        \n",
    "df.to_csv(\"ideg6_counts.txt\", sep=\"\\t\", header=False, index=True, float_format=\"%.0f\")"
   ]
  },
  {
   "cell_type": "markdown",
   "metadata": {},
   "source": [
    "## Use IDEG6 web tool to calculate differentially expressed genes\n",
    "http://telethon.bio.unipd.it/bioinfo/IDEG6_form/\n",
    "\n",
    "bonferronni = 3.723008e-05"
   ]
  },
  {
   "cell_type": "code",
   "execution_count": "0",
   "metadata": {
    "collapsed": true
   },
   "outputs": [],
   "source": [
    "bonferronni_alpha = 3.723008e-05"
   ]
  },
  {
   "cell_type": "code",
   "execution_count": "0",
   "metadata": {
    "collapsed": true
   },
   "outputs": [],
   "source": [
    "dge_file = \"ideg6_results.txt\""
   ]
  },
  {
   "cell_type": "code",
   "execution_count": "0",
   "metadata": {
    "collapsed": false
   },
   "outputs": [],
   "source": [
    "results = pd.read_csv(dge_file, sep=\"\\t\", header=0, index_col=0)\n",
    "results.columns = [x.replace(\".\", \"\") for x in results.columns]\n",
    "results.columns = [x.replace(\"-\", \"_\") for x in results.columns]\n",
    "results.columns = [x.strip() for x in results.columns]\n",
    "results = results.ix[:,:-1] #drop extra column at the end"
   ]
  },
  {
   "cell_type": "code",
   "execution_count": "0",
   "metadata": {
    "collapsed": false
   },
   "outputs": [],
   "source": [
    "results.head()"
   ]
  },
  {
   "cell_type": "code",
   "execution_count": "0",
   "metadata": {
    "collapsed": true
   },
   "outputs": [],
   "source": [
    "stat_cols = [u'AC1_2', u'Fisher1_2', u'Chi2x21_2', u'R', u'Chi']\n",
    "qvalue_cols = [u'Fisher1_2', u'Chi2x21_2', u'R', u'Chi']"
   ]
  },
  {
   "cell_type": "code",
   "execution_count": "0",
   "metadata": {
    "collapsed": true
   },
   "outputs": [],
   "source": [
    "def fdr_bh(pvals):\n",
    "    return multipletests(pvals, method=\"fdr_bh\")[1]"
   ]
  },
  {
   "cell_type": "code",
   "execution_count": "0",
   "metadata": {
    "collapsed": false
   },
   "outputs": [],
   "source": [
    "def q_value(pvals):\n",
    "    p = robjects.FloatVector(pvals)\n",
    "    robjects.globalenv['p'] = p\n",
    "    vals = r('qvalue(p)')\n",
    "    return pd.Series(ri2py(vals.rx('pvalues')[0]))\n",
    "qvalue_results = results[qvalue_cols].apply(q_value)\n",
    "qvalue_results.columns = [\"%s_q\" % x for x in qvalue_results.columns]"
   ]
  },
  {
   "cell_type": "code",
   "execution_count": "0",
   "metadata": {
    "collapsed": false
   },
   "outputs": [],
   "source": [
    "fdr_results = results[stat_cols].apply(fdr_bh)\n",
    "fdr_results.columns = [\"%s_fdr\" % x for x in fdr_results.columns]"
   ]
  },
  {
   "cell_type": "code",
   "execution_count": "0",
   "metadata": {
    "collapsed": true
   },
   "outputs": [],
   "source": [
    "results_df = results.join(fdr_results).join(qvalue_results)"
   ]
  },
  {
   "cell_type": "code",
   "execution_count": "0",
   "metadata": {
    "collapsed": false
   },
   "outputs": [],
   "source": [
    "sns.set_context(\"talk\")\n",
    "X = sorted(results_df.Chi)\n",
    "plt.step(X, np.arange(len(X)))\n",
    "plt.show()"
   ]
  },
  {
   "cell_type": "code",
   "execution_count": "0",
   "metadata": {
    "collapsed": true
   },
   "outputs": [],
   "source": [
    "results_df.Description = [x.strip() for x in results_df.Description]"
   ]
  },
  {
   "cell_type": "code",
   "execution_count": "0",
   "metadata": {
    "collapsed": false
   },
   "outputs": [],
   "source": [
    "results_df[['Chi','Chi_fdr','Chi_q']][0:10]"
   ]
  },
  {
   "cell_type": "code",
   "execution_count": "0",
   "metadata": {
    "collapsed": true
   },
   "outputs": [],
   "source": [
    "fdr_cols = [u'AC1_2_fdr', u'Fisher1_2_fdr', u'Chi2x21_2_fdr', u'R_fdr', u'Chi_fdr',\n",
    "           'Fisher1_2_q', 'Chi2x21_2_q', 'R_q', 'Chi_q']"
   ]
  },
  {
   "cell_type": "code",
   "execution_count": "0",
   "metadata": {
    "collapsed": false
   },
   "outputs": [],
   "source": [
    "fdr_res = pd.DataFrame(index=['total','sig'])\n",
    "for col in fdr_cols:\n",
    "    d = results_df[col]\n",
    "    fdr_res[col] = [len(d), len(d[d<0.05])]\n",
    "fdr_res.T"
   ]
  },
  {
   "cell_type": "code",
   "execution_count": "0",
   "metadata": {
    "collapsed": false
   },
   "outputs": [],
   "source": [
    "stat_res = pd.DataFrame(index=['total','p<0.05', 'p<bonferroni'])\n",
    "for col in stat_cols:\n",
    "    d = results_df[col]\n",
    "    stat_res[col] = [len(d), len(d[d<0.05]), len(d[d<bonferronni_alpha])]\n",
    "stat_res.T"
   ]
  },
  {
   "cell_type": "code",
   "execution_count": "0",
   "metadata": {
    "collapsed": false
   },
   "outputs": [],
   "source": [
    "len(results_df[results_df.Chi < 0.05]), len(results_df[results_df.Chi_fdr < 0.05])"
   ]
  },
  {
   "cell_type": "code",
   "execution_count": "0",
   "metadata": {
    "collapsed": true
   },
   "outputs": [],
   "source": [
    "go_file = \"topGO_full_blast2go_export_20150626_1451.txt\""
   ]
  },
  {
   "cell_type": "code",
   "execution_count": "0",
   "metadata": {
    "collapsed": true
   },
   "outputs": [],
   "source": [
    "go = pd.read_csv(go_file, sep=\"\\t\", header=None, index_col=0, names=[\"go\"])\n",
    "go.index = [x.strip() for x in go.index]"
   ]
  },
  {
   "cell_type": "code",
   "execution_count": "0",
   "metadata": {
    "collapsed": false
   },
   "outputs": [],
   "source": [
    "go.head()"
   ]
  },
  {
   "cell_type": "code",
   "execution_count": "0",
   "metadata": {
    "collapsed": true
   },
   "outputs": [],
   "source": [
    "counts_go = counts.join(go)"
   ]
  },
  {
   "cell_type": "code",
   "execution_count": "0",
   "metadata": {
    "collapsed": false
   },
   "outputs": [],
   "source": [
    "len(counts_go)"
   ]
  },
  {
   "cell_type": "code",
   "execution_count": "0",
   "metadata": {
    "collapsed": true
   },
   "outputs": [],
   "source": [
    "results_df.index = [x.strip() for x in results_df.Description]"
   ]
  },
  {
   "cell_type": "code",
   "execution_count": "0",
   "metadata": {
    "collapsed": false
   },
   "outputs": [],
   "source": [
    "results_df.head()"
   ]
  },
  {
   "cell_type": "code",
   "execution_count": "0",
   "metadata": {
    "collapsed": false
   },
   "outputs": [],
   "source": [
    "len(results_df[results_df.Chi_fdr<0.05])"
   ]
  },
  {
   "cell_type": "code",
   "execution_count": "0",
   "metadata": {
    "collapsed": true
   },
   "outputs": [],
   "source": [
    "full = counts_go.join(results_df)"
   ]
  },
  {
   "cell_type": "code",
   "execution_count": "0",
   "metadata": {
    "collapsed": false
   },
   "outputs": [],
   "source": [
    "len(full)"
   ]
  },
  {
   "cell_type": "code",
   "execution_count": "0",
   "metadata": {
    "collapsed": true
   },
   "outputs": [],
   "source": [
    "full_with_go = full.ix[full.go.dropna().index]"
   ]
  },
  {
   "cell_type": "code",
   "execution_count": "0",
   "metadata": {
    "collapsed": false
   },
   "outputs": [],
   "source": [
    "len(full_with_go)"
   ]
  },
  {
   "cell_type": "code",
   "execution_count": "0",
   "metadata": {
    "collapsed": true
   },
   "outputs": [],
   "source": [
    "sig = full[(full.Chi_fdr < 0.05)]"
   ]
  },
  {
   "cell_type": "code",
   "execution_count": "0",
   "metadata": {
    "collapsed": false
   },
   "outputs": [],
   "source": [
    "len(sig)"
   ]
  },
  {
   "cell_type": "code",
   "execution_count": "0",
   "metadata": {
    "collapsed": false
   },
   "outputs": [],
   "source": [
    "sig.head()"
   ]
  },
  {
   "cell_type": "code",
   "execution_count": "0",
   "metadata": {
    "collapsed": true
   },
   "outputs": [],
   "source": [
    "sig_with_go = sig.ix[sig.go.dropna().index]"
   ]
  },
  {
   "cell_type": "code",
   "execution_count": "0",
   "metadata": {
    "collapsed": false
   },
   "outputs": [],
   "source": [
    "len(sig_with_go)"
   ]
  },
  {
   "cell_type": "code",
   "execution_count": "0",
   "metadata": {
    "collapsed": true
   },
   "outputs": [],
   "source": [
    "dge_N = sig_with_go[sig_with_go.Lib2 > sig_with_go.Lib1]\n",
    "dge_C = sig_with_go[sig_with_go.Lib2 < sig_with_go.Lib1]"
   ]
  },
  {
   "cell_type": "code",
   "execution_count": "0",
   "metadata": {
    "collapsed": false
   },
   "outputs": [],
   "source": [
    "def get_num_terms(x):\n",
    "    return len(x.split(\",\"))\n",
    "\n",
    "print dge_C.go.apply(get_num_terms).describe()\n",
    "print dge_N.go.apply(get_num_terms).describe()"
   ]
  },
  {
   "cell_type": "code",
   "execution_count": "0",
   "metadata": {
    "collapsed": false
   },
   "outputs": [],
   "source": [
    "dge_N.ix[:,0:5].to_csv(\"dge_N.csv\")\n",
    "dge_C.ix[:,0:5].to_csv(\"dge_C.csv\")"
   ]
  },
  {
   "cell_type": "code",
   "execution_count": "0",
   "metadata": {
    "collapsed": false
   },
   "outputs": [],
   "source": [
    "len(sig_with_go), len(dge_C), len(dge_N)"
   ]
  },
  {
   "cell_type": "code",
   "execution_count": "0",
   "metadata": {
    "collapsed": true
   },
   "outputs": [],
   "source": [
    "with open(\"dge_needle_names.txt\", \"w\") as o:\n",
    "    for name in dge_N.index.tolist():\n",
    "        o.write(\"%s\\n\" % name)\n",
    "        \n",
    "with open(\"dge_cambium_names.txt\", \"w\") as o:\n",
    "    for name in dge_C.index.tolist():\n",
    "        o.write(\"%s\\n\" % name)"
   ]
  },
  {
   "cell_type": "code",
   "execution_count": "0",
   "metadata": {
    "collapsed": true
   },
   "outputs": [],
   "source": [
    "full_with_go['go'].to_csv(\"go_mappings.txt\", sep=\"\\t\", header=False, index=True)"
   ]
  },
  {
   "cell_type": "code",
   "execution_count": "0",
   "metadata": {
    "collapsed": false
   },
   "outputs": [],
   "source": [
    "len(full_with_go)"
   ]
  },
  {
   "cell_type": "code",
   "execution_count": "0",
   "metadata": {
    "collapsed": false
   },
   "outputs": [],
   "source": [
    "shell(\"wc -l go_mappings.txt\")"
   ]
  },
  {
   "cell_type": "code",
   "execution_count": "0",
   "metadata": {
    "collapsed": true
   },
   "outputs": [],
   "source": [
    "%%R\n",
    "rm(list=ls())"
   ]
  },
  {
   "cell_type": "code",
   "execution_count": "0",
   "metadata": {
    "collapsed": true
   },
   "outputs": [],
   "source": [
    "robjects.globalenv['full_with_go'] = robjects.DataFrame(full_with_go)\n",
    "robjects.globalenv['sig_with_go'] = robjects.DataFrame(sig_with_go)\n",
    "robjects.globalenv['dge_C'] = robjects.DataFrame(dge_C)\n",
    "robjects.globalenv['dge_N'] = robjects.DataFrame(dge_N)"
   ]
  },
  {
   "cell_type": "code",
   "execution_count": "0",
   "metadata": {
    "collapsed": true
   },
   "outputs": [],
   "source": [
    "%%R\n",
    "save.image(\"topgo_input.Rdata\")"
   ]
  },
  {
   "cell_type": "code",
   "execution_count": "0",
   "metadata": {
    "collapsed": false
   },
   "outputs": [],
   "source": [
    "%%R\n",
    "library(topGO)\n",
    "gene_names = rownames(full_with_go)\n",
    "cambium_interesting = rownames(dge_C)\n",
    "needle_interesting = rownames(dge_N)\n",
    "gene_id_2go  = readMappings(file=\"go_mappings.txt\")\n",
    "interesting = list()\n",
    "interesting$cambium = cambium_interesting\n",
    "interesting$needle = needle_interesting\n",
    "godata = list()\n",
    "gentables = list()\n",
    "gentables_bh = list()\n",
    "gentables_qval = list()\n",
    "onts = c(\"BP\",\"CC\", \"MF\")\n",
    "sigs = list()\n",
    "descriptions = list()\n",
    "for (i in 1:length(onts)) {\n",
    "    for (j in 1:length(interesting)) {\n",
    "        interest = interesting[[j]]\n",
    "        gene_list <- factor(as.integer(gene_names %in% interest))\n",
    "        names(gene_list) <- gene_names\n",
    "        description=paste(names(interesting)[j], onts[i], sep=\"-\")\n",
    "        descriptions = append(descriptions, description)\n",
    "        GOdata = new(\"topGOdata\",\n",
    "                     description=description,\n",
    "                     ontology = onts[i], \n",
    "                     allGenes = gene_list, \n",
    "                     annot = annFUN.gene2GO, \n",
    "                     gene2GO = gene_id_2go,\n",
    "                     nodeSize=2)\n",
    "        print(GOdata)\n",
    "        godata = append(godata, GOdata)\n",
    "        classicFisher = runTest(GOdata, algorithm = \"classic\", statistic = \"fisher\")\n",
    "        weight01Fisher = runTest(GOdata, algorithm = \"weight01\", statistic = \"fisher\")\n",
    "        sigs = append(sigs, classicFisher)\n",
    "        printGraph(GOdata, \n",
    "                   classicFisher, \n",
    "                   firstSigNodes = 2, \n",
    "                   fn.prefix = paste(\"tGO\", \"for\", description(GOdata)), \n",
    "                   #fn.prefix = paste(\"tGOslim\", \"for\", description(GOdata)), \n",
    "                   useInfo = \"all\")\n",
    "        \n",
    "        gt = GenTable(GOdata, \n",
    "                      classicFisher=classicFisher, \n",
    "                      weight01Fisher=weight01Fisher, \n",
    "                      topNodes=length(classicFisher@score), \n",
    "                      orderBy=\"classicFisher\", numChar=1000)\n",
    "        gentables = append(gentables, list(gt))\n",
    "        \n",
    "        fisher_p = as.numeric(gt[,\"classicFisher\"])\n",
    "        \n",
    "        gt.bh = gt[which(p.adjust(fisher_p,method=\"BH\")<=0.05),]\n",
    "        \n",
    "        #print(qvalue(fisher_p))\n",
    "    \n",
    "        \n",
    "        gt.qval = gt[which(qvalue(fisher_p)$qvalues<=0.05),]\n",
    "        gentables_bh = append(gentables_bh, list(gt.bh))\n",
    "        gentables_qval = append(gentables_qval, list(gt.qval))\n",
    "        write.table(gt, file=paste(description(GOdata), \".txt\", sep=\"\"), row.names=F)\n",
    "        write.table(gt.bh, file=paste(description(GOdata), \"_bh.txt\", sep=\"\"), row.names=F)\n",
    "        write.table(gt.qval, file=paste(description(GOdata), \"_qval.txt\", sep=\"\"), row.names=F)  \n",
    "    }\n",
    "}\n",
    "save.image(\"topgo.Rdata\")"
   ]
  },
  {
   "cell_type": "code",
   "execution_count": "0",
   "metadata": {
    "collapsed": true
   },
   "outputs": [],
   "source": [
    "%%R\n",
    "load(\"topgo.Rdata\")"
   ]
  },
  {
   "cell_type": "code",
   "execution_count": "0",
   "metadata": {
    "collapsed": false
   },
   "outputs": [],
   "source": [
    "%%R\n",
    "ls()"
   ]
  },
  {
   "cell_type": "code",
   "execution_count": "0",
   "metadata": {
    "collapsed": true
   },
   "outputs": [],
   "source": [
    "gentables = {}\n",
    "for i, desc in enumerate(r(\"descriptions\")):\n",
    "    d = {\"gt\":None, \"gt_bh\":None}\n",
    "    d['gt'] = ri2py(r(\"gentables\")[i])\n",
    "    d['gt_bh'] = ri2py(r(\"gentables_bh\")[i])\n",
    "    gentables[desc[0]] = d"
   ]
  },
  {
   "cell_type": "code",
   "execution_count": "0",
   "metadata": {
    "collapsed": false
   },
   "outputs": [],
   "source": [
    "gentables.keys()"
   ]
  },
  {
   "cell_type": "code",
   "execution_count": "0",
   "metadata": {
    "collapsed": false
   },
   "outputs": [],
   "source": [
    "for key in gentables:\n",
    "    print key\n",
    "    gt = gentables[key]['gt']\n",
    "    bh = gentables[key]['gt_bh']\n",
    "    gt = gt.convert_objects(convert_numeric=True)\n",
    "    bh = bh.convert_objects(convert_numeric=True)\n",
    "    gt_sig = gt[gt.classicFisher<0.05]\n",
    "    bh_sig = bh[bh.classicFisher<0.05]\n",
    "    if len(gt_sig) > 0:\n",
    "        print \"raw: %d\" % len(gt_sig)\n",
    "    if len(bh_sig) > 0:\n",
    "        print \"bh: %d\" % len(bh_sig)"
   ]
  },
  {
   "cell_type": "code",
   "execution_count": "0",
   "metadata": {
    "collapsed": true
   },
   "outputs": [],
   "source": [
    "dill.dump(gentables, open(\"gentables.dill\", \"w\"))"
   ]
  },
  {
   "cell_type": "code",
   "execution_count": "0",
   "metadata": {
    "collapsed": true
   },
   "outputs": [],
   "source": [
    "dge_C.to_csv(\"dge_cambium.txt\", sep=\"\\t\")\n",
    "dge_N.to_csv(\"dge_needle.txt\", sep=\"\\t\")"
   ]
  },
  {
   "cell_type": "markdown",
   "metadata": {},
   "source": [
    "##Singletons, etc"
   ]
  },
  {
   "cell_type": "code",
   "execution_count": "0",
   "metadata": {
    "collapsed": false
   },
   "outputs": [],
   "source": [
    "counts = pd.read_csv(\"all.fa.clean.sequin.trim_output/contig_member.counts\", sep=\"\\t\",header=0, index_col=0)"
   ]
  },
  {
   "cell_type": "code",
   "execution_count": "0",
   "metadata": {
    "collapsed": false
   },
   "outputs": [],
   "source": [
    "len(counts[counts.apply(np.sum, axis=1)==1])"
   ]
  },
  {
   "cell_type": "code",
   "execution_count": "0",
   "metadata": {
    "collapsed": false
   },
   "outputs": [],
   "source": [
    "needle_unigenes = combined[combined.N>0]\n",
    "cambium_unigenes = combined[combined.C>0]"
   ]
  },
  {
   "cell_type": "code",
   "execution_count": "0",
   "metadata": {
    "collapsed": true
   },
   "outputs": [],
   "source": [
    "from matplotlib_venn import venn2"
   ]
  },
  {
   "cell_type": "code",
   "execution_count": "0",
   "metadata": {
    "collapsed": false
   },
   "outputs": [],
   "source": [
    "sns.set_context(\"talk\")\n",
    "venn2([set(needle_unigenes.index), set(cambium_unigenes.index)],\n",
    "     set_labels = ['Needle', 'Cambium'])\n",
    "plt.show()"
   ]
  },
  {
   "cell_type": "markdown",
   "metadata": {},
   "source": [
    "##Read length distribution"
   ]
  },
  {
   "cell_type": "code",
   "execution_count": "0",
   "metadata": {
    "collapsed": false
   },
   "outputs": [],
   "source": [
    "read_lengths = {}\n",
    "for read in SeqIO.parse(\"all.fa.clean.sequin.trim\", \"fasta\"):\n",
    "    sample = read.id.split(\"_\")[0]\n",
    "    if not sample in read_lengths:\n",
    "        read_lengths[sample] = []\n",
    "    read_lengths[sample].append(len(read))"
   ]
  },
  {
   "cell_type": "code",
   "execution_count": "0",
   "metadata": {
    "collapsed": false
   },
   "outputs": [],
   "source": [
    "c_lens = []\n",
    "n_lens = []\n",
    "for r, d in read_lengths.items():\n",
    "    print r, len(d), pd.Series(d).describe()\n",
    "    robjects.globalenv[r] = d\n",
    "    if \"C\" in r:\n",
    "        c_lens.extend(d)\n",
    "    else:\n",
    "        n_lens.extend(d)"
   ]
  },
  {
   "cell_type": "code",
   "execution_count": "0",
   "metadata": {
    "collapsed": true
   },
   "outputs": [],
   "source": [
    "%R -i c_lens -i n_lens"
   ]
  },
  {
   "cell_type": "code",
   "execution_count": "0",
   "metadata": {
    "collapsed": false
   },
   "outputs": [],
   "source": [
    "%%R\n",
    "t.test(c_lens, n_lens)"
   ]
  },
  {
   "cell_type": "markdown",
   "metadata": {},
   "source": [
    "##PCA"
   ]
  },
  {
   "cell_type": "code",
   "execution_count": "0",
   "metadata": {
    "collapsed": false
   },
   "outputs": [],
   "source": [
    "counts.head()"
   ]
  },
  {
   "cell_type": "code",
   "execution_count": "0",
   "metadata": {
    "collapsed": true
   },
   "outputs": [],
   "source": [
    "def get_tissue(row):\n",
    "    if row.C > 0 and row.N > 0:\n",
    "        return \"Both\"\n",
    "    elif row.C > 0:\n",
    "        return \"Cambium\"\n",
    "    elif row.N > 0:\n",
    "        return \"Needle\""
   ]
  },
  {
   "cell_type": "code",
   "execution_count": "0",
   "metadata": {
    "collapsed": true
   },
   "outputs": [],
   "source": [
    "count_df = pd.DataFrame(counts)"
   ]
  },
  {
   "cell_type": "code",
   "execution_count": "0",
   "metadata": {
    "collapsed": false
   },
   "outputs": [],
   "source": [
    "count_df['C'] = count_df.apply(lambda x: x.P32C + x.P40C, axis=1)\n",
    "count_df['N'] = count_df.apply(lambda x: x.P32N + x.P40N, axis=1)"
   ]
  },
  {
   "cell_type": "code",
   "execution_count": "0",
   "metadata": {
    "collapsed": false
   },
   "outputs": [],
   "source": [
    "count_df.head()"
   ]
  },
  {
   "cell_type": "code",
   "execution_count": "0",
   "metadata": {
    "collapsed": false
   },
   "outputs": [],
   "source": [
    "count_df['tissue'] = count_df.apply(get_tissue, axis=1)\n",
    "count_df['total'] = count_df.apply(lambda row: row.C + row.N, axis=1)\n",
    "\n",
    "def get_color(row):\n",
    "    if row.tissue == \"Needle\":\n",
    "        return \"green\"\n",
    "    elif row.tissue == \"Cambium\":\n",
    "        return \"blue\"\n",
    "    else:\n",
    "        return \"gray\"\n",
    "\n",
    "count_df['color'] = count_df.apply(get_color, axis=1)"
   ]
  },
  {
   "cell_type": "code",
   "execution_count": "0",
   "metadata": {
    "collapsed": false
   },
   "outputs": [],
   "source": [
    "count_df.head()"
   ]
  },
  {
   "cell_type": "code",
   "execution_count": "0",
   "metadata": {
    "collapsed": true
   },
   "outputs": [],
   "source": [
    "%R -i count_df"
   ]
  },
  {
   "cell_type": "code",
   "execution_count": "0",
   "metadata": {
    "collapsed": false
   },
   "outputs": [],
   "source": [
    "%%R\n",
    "len_pca = prcomp(count_df[,1:4], center=T, scale=T)\n",
    "print(len_pca)\n",
    "plot(len_pca, type=\"l\")\n",
    "print(summary(len_pca))"
   ]
  },
  {
   "cell_type": "code",
   "execution_count": "0",
   "metadata": {
    "collapsed": false
   },
   "outputs": [],
   "source": [
    "%%R\n",
    "library(ggbiplot)"
   ]
  },
  {
   "cell_type": "code",
   "execution_count": "0",
   "metadata": {
    "collapsed": false
   },
   "outputs": [],
   "source": [
    "%%R\n",
    "g <- ggbiplot(len_pca, \n",
    "              obs.scale = 1, \n",
    "              var.scale = 1,\n",
    "              ellipse = T, \n",
    "              circle = T,\n",
    "             groups=count_df[,7],size=count_df[,8])\n",
    "print(g)\n",
    "pdf(\"count_pca.pdf\")\n",
    "print(g)\n",
    "dev.off()"
   ]
  },
  {
   "cell_type": "code",
   "execution_count": "0",
   "metadata": {
    "collapsed": false
   },
   "outputs": [],
   "source": [
    "%%R\n",
    "count_df[,9] = as.character(count_df[,9])\n",
    "plot(len_pca$x[,1], len_pca$x[,2], pch=\"\", main=\"PCA of unigene expression (n=1343) for 4 samples\", xlab=\"PC1 (43.2%)\", ylab=\"PC2 (34.7%)\")\n",
    "points(len_pca$x[,1], len_pca$x[,2], pch=21, bg=alpha(count_df[,9], 0.6), , cex=2)\n",
    "legend(28,-23,legend=c(\"Needle\", \"Cambium\", \"Both\"), col=c(\"green\", \"blue\", \"gray\"), pch=20, pt.cex=2.5)"
   ]
  },
  {
   "cell_type": "code",
   "execution_count": "0",
   "metadata": {
    "collapsed": false
   },
   "outputs": [],
   "source": [
    "%%R\n",
    "length(rownames(count_df))"
   ]
  },
  {
   "cell_type": "markdown",
   "metadata": {
    "collapsed": true
   },
   "source": [
    "##Blast against gene contigs in *P. abies*\n",
    "\n",
    "See `abies_blast.ipynb`"
   ]
  },
  {
   "cell_type": "code",
   "execution_count": "0",
   "metadata": {
    "collapsed": true
   },
   "outputs": [],
   "source": []
  }
 ],
 "metadata": {
  "kernelspec": {
   "display_name": "Python 2",
   "language": "python",
   "name": "python2"
  },
  "language_info": {
   "codemirror_mode": {
    "name": "ipython",
    "version": 2
   },
   "file_extension": ".py",
   "mimetype": "text/x-python",
   "name": "python",
   "nbconvert_exporter": "python",
   "pygments_lexer": "ipython2",
   "version": "2.7.10"
  }
 },
 "nbformat": 4,
 "nbformat_minor": 0
}